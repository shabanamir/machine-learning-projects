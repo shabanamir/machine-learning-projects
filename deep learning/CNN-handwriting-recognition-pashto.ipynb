{
 "cells": [
  {
   "cell_type": "markdown",
   "id": "f875ed08",
   "metadata": {
    "papermill": {
     "duration": 0.008936,
     "end_time": "2023-05-26T15:45:10.534567",
     "exception": false,
     "start_time": "2023-05-26T15:45:10.525631",
     "status": "completed"
    },
    "tags": []
   },
   "source": [
    "## Handwriting Recognition - Pashto"
   ]
  },
  {
   "cell_type": "markdown",
   "id": "ddc0cc44",
   "metadata": {
    "papermill": {
     "duration": 0.008116,
     "end_time": "2023-05-26T15:45:10.551253",
     "exception": false,
     "start_time": "2023-05-26T15:45:10.543137",
     "status": "completed"
    },
    "tags": []
   },
   "source": [
    "### Data\n",
    "\n",
    "- Training, Validation & Testing [Pashto Isolated Alphabets and Numerals](https://www.kaggle.com/datasets/abdulbasitkh/pashto-isolated-alphabetss-and-numerals) "
   ]
  },
  {
   "cell_type": "code",
   "execution_count": 1,
   "id": "60d97e10",
   "metadata": {
    "execution": {
     "iopub.execute_input": "2023-05-26T15:45:10.570053Z",
     "iopub.status.busy": "2023-05-26T15:45:10.569541Z",
     "iopub.status.idle": "2023-05-26T15:45:22.855516Z",
     "shell.execute_reply": "2023-05-26T15:45:22.854151Z"
    },
    "papermill": {
     "duration": 12.299078,
     "end_time": "2023-05-26T15:45:22.858644",
     "exception": false,
     "start_time": "2023-05-26T15:45:10.559566",
     "status": "completed"
    },
    "tags": []
   },
   "outputs": [
    {
     "name": "stderr",
     "output_type": "stream",
     "text": [
      "/opt/conda/lib/python3.10/site-packages/tensorflow_io/python/ops/__init__.py:98: UserWarning: unable to load libtensorflow_io_plugins.so: unable to open file: libtensorflow_io_plugins.so, from paths: ['/opt/conda/lib/python3.10/site-packages/tensorflow_io/python/ops/libtensorflow_io_plugins.so']\n",
      "caused by: ['/opt/conda/lib/python3.10/site-packages/tensorflow_io/python/ops/libtensorflow_io_plugins.so: undefined symbol: _ZN3tsl6StatusC1EN10tensorflow5error4CodeESt17basic_string_viewIcSt11char_traitsIcEENS_14SourceLocationE']\n",
      "  warnings.warn(f\"unable to load libtensorflow_io_plugins.so: {e}\")\n",
      "/opt/conda/lib/python3.10/site-packages/tensorflow_io/python/ops/__init__.py:104: UserWarning: file system plugins are not loaded: unable to open file: libtensorflow_io.so, from paths: ['/opt/conda/lib/python3.10/site-packages/tensorflow_io/python/ops/libtensorflow_io.so']\n",
      "caused by: ['/opt/conda/lib/python3.10/site-packages/tensorflow_io/python/ops/libtensorflow_io.so: undefined symbol: _ZTVN10tensorflow13GcsFileSystemE']\n",
      "  warnings.warn(f\"file system plugins are not loaded: {e}\")\n"
     ]
    }
   ],
   "source": [
    "import numpy as np\n",
    "import pandas as pd\n",
    "import matplotlib.pyplot as plt\n",
    "\n",
    "from sklearn.preprocessing import LabelEncoder\n",
    "from sklearn.model_selection import train_test_split\n",
    "from tensorflow.keras.preprocessing.image import ImageDataGenerator\n",
    "from tensorflow.keras.models import Sequential\n",
    "from tensorflow.keras.layers import Dense, Flatten, Conv2D, MaxPooling2D\n",
    "from tensorflow.keras.optimizers import Adam"
   ]
  },
  {
   "cell_type": "markdown",
   "id": "9423fafe",
   "metadata": {
    "papermill": {
     "duration": 0.008342,
     "end_time": "2023-05-26T15:45:22.876057",
     "exception": false,
     "start_time": "2023-05-26T15:45:22.867715",
     "status": "completed"
    },
    "tags": []
   },
   "source": [
    "### Data preporcessing"
   ]
  },
  {
   "cell_type": "code",
   "execution_count": 2,
   "id": "04ceb645",
   "metadata": {
    "execution": {
     "iopub.execute_input": "2023-05-26T15:45:22.897952Z",
     "iopub.status.busy": "2023-05-26T15:45:22.896702Z",
     "iopub.status.idle": "2023-05-26T15:45:28.285328Z",
     "shell.execute_reply": "2023-05-26T15:45:28.284170Z"
    },
    "id": "dFRItOIpE3Yu",
    "outputId": "da5a5ee2-d767-4793-f0b5-106557a8798c",
    "papermill": {
     "duration": 5.401613,
     "end_time": "2023-05-26T15:45:28.288205",
     "exception": false,
     "start_time": "2023-05-26T15:45:22.886592",
     "status": "completed"
    },
    "tags": []
   },
   "outputs": [
    {
     "data": {
      "text/html": [
       "<div>\n",
       "<style scoped>\n",
       "    .dataframe tbody tr th:only-of-type {\n",
       "        vertical-align: middle;\n",
       "    }\n",
       "\n",
       "    .dataframe tbody tr th {\n",
       "        vertical-align: top;\n",
       "    }\n",
       "\n",
       "    .dataframe thead th {\n",
       "        text-align: right;\n",
       "    }\n",
       "</style>\n",
       "<table border=\"1\" class=\"dataframe\">\n",
       "  <thead>\n",
       "    <tr style=\"text-align: right;\">\n",
       "      <th></th>\n",
       "      <th>alif</th>\n",
       "      <th>0</th>\n",
       "      <th>0.1</th>\n",
       "      <th>0.2</th>\n",
       "      <th>0.3</th>\n",
       "      <th>0.4</th>\n",
       "      <th>0.5</th>\n",
       "      <th>0.6</th>\n",
       "      <th>0.7</th>\n",
       "      <th>0.8</th>\n",
       "      <th>...</th>\n",
       "      <th>0.988</th>\n",
       "      <th>0.989</th>\n",
       "      <th>0.990</th>\n",
       "      <th>0.991</th>\n",
       "      <th>0.992</th>\n",
       "      <th>0.993</th>\n",
       "      <th>0.994</th>\n",
       "      <th>0.995</th>\n",
       "      <th>0.996</th>\n",
       "      <th>0.997</th>\n",
       "    </tr>\n",
       "  </thead>\n",
       "  <tbody>\n",
       "    <tr>\n",
       "      <th>0</th>\n",
       "      <td>alif</td>\n",
       "      <td>0</td>\n",
       "      <td>0</td>\n",
       "      <td>0</td>\n",
       "      <td>0</td>\n",
       "      <td>0</td>\n",
       "      <td>0</td>\n",
       "      <td>0</td>\n",
       "      <td>0</td>\n",
       "      <td>0</td>\n",
       "      <td>...</td>\n",
       "      <td>0</td>\n",
       "      <td>0</td>\n",
       "      <td>0</td>\n",
       "      <td>0</td>\n",
       "      <td>0</td>\n",
       "      <td>0</td>\n",
       "      <td>0</td>\n",
       "      <td>0</td>\n",
       "      <td>0</td>\n",
       "      <td>0</td>\n",
       "    </tr>\n",
       "    <tr>\n",
       "      <th>1</th>\n",
       "      <td>alif</td>\n",
       "      <td>0</td>\n",
       "      <td>0</td>\n",
       "      <td>0</td>\n",
       "      <td>0</td>\n",
       "      <td>0</td>\n",
       "      <td>0</td>\n",
       "      <td>0</td>\n",
       "      <td>0</td>\n",
       "      <td>0</td>\n",
       "      <td>...</td>\n",
       "      <td>0</td>\n",
       "      <td>0</td>\n",
       "      <td>0</td>\n",
       "      <td>0</td>\n",
       "      <td>0</td>\n",
       "      <td>0</td>\n",
       "      <td>0</td>\n",
       "      <td>0</td>\n",
       "      <td>0</td>\n",
       "      <td>183</td>\n",
       "    </tr>\n",
       "    <tr>\n",
       "      <th>2</th>\n",
       "      <td>alif</td>\n",
       "      <td>0</td>\n",
       "      <td>0</td>\n",
       "      <td>0</td>\n",
       "      <td>0</td>\n",
       "      <td>0</td>\n",
       "      <td>0</td>\n",
       "      <td>0</td>\n",
       "      <td>0</td>\n",
       "      <td>0</td>\n",
       "      <td>...</td>\n",
       "      <td>0</td>\n",
       "      <td>0</td>\n",
       "      <td>0</td>\n",
       "      <td>0</td>\n",
       "      <td>0</td>\n",
       "      <td>0</td>\n",
       "      <td>0</td>\n",
       "      <td>0</td>\n",
       "      <td>0</td>\n",
       "      <td>0</td>\n",
       "    </tr>\n",
       "    <tr>\n",
       "      <th>3</th>\n",
       "      <td>alif</td>\n",
       "      <td>0</td>\n",
       "      <td>0</td>\n",
       "      <td>0</td>\n",
       "      <td>0</td>\n",
       "      <td>0</td>\n",
       "      <td>0</td>\n",
       "      <td>0</td>\n",
       "      <td>0</td>\n",
       "      <td>0</td>\n",
       "      <td>...</td>\n",
       "      <td>0</td>\n",
       "      <td>0</td>\n",
       "      <td>0</td>\n",
       "      <td>0</td>\n",
       "      <td>0</td>\n",
       "      <td>0</td>\n",
       "      <td>0</td>\n",
       "      <td>0</td>\n",
       "      <td>0</td>\n",
       "      <td>0</td>\n",
       "    </tr>\n",
       "    <tr>\n",
       "      <th>4</th>\n",
       "      <td>alif</td>\n",
       "      <td>0</td>\n",
       "      <td>0</td>\n",
       "      <td>0</td>\n",
       "      <td>0</td>\n",
       "      <td>0</td>\n",
       "      <td>0</td>\n",
       "      <td>0</td>\n",
       "      <td>0</td>\n",
       "      <td>0</td>\n",
       "      <td>...</td>\n",
       "      <td>0</td>\n",
       "      <td>0</td>\n",
       "      <td>0</td>\n",
       "      <td>0</td>\n",
       "      <td>0</td>\n",
       "      <td>0</td>\n",
       "      <td>0</td>\n",
       "      <td>0</td>\n",
       "      <td>0</td>\n",
       "      <td>0</td>\n",
       "    </tr>\n",
       "    <tr>\n",
       "      <th>...</th>\n",
       "      <td>...</td>\n",
       "      <td>...</td>\n",
       "      <td>...</td>\n",
       "      <td>...</td>\n",
       "      <td>...</td>\n",
       "      <td>...</td>\n",
       "      <td>...</td>\n",
       "      <td>...</td>\n",
       "      <td>...</td>\n",
       "      <td>...</td>\n",
       "      <td>...</td>\n",
       "      <td>...</td>\n",
       "      <td>...</td>\n",
       "      <td>...</td>\n",
       "      <td>...</td>\n",
       "      <td>...</td>\n",
       "      <td>...</td>\n",
       "      <td>...</td>\n",
       "      <td>...</td>\n",
       "      <td>...</td>\n",
       "      <td>...</td>\n",
       "    </tr>\n",
       "    <tr>\n",
       "      <th>37864</th>\n",
       "      <td>las</td>\n",
       "      <td>0</td>\n",
       "      <td>0</td>\n",
       "      <td>0</td>\n",
       "      <td>0</td>\n",
       "      <td>0</td>\n",
       "      <td>0</td>\n",
       "      <td>0</td>\n",
       "      <td>0</td>\n",
       "      <td>0</td>\n",
       "      <td>...</td>\n",
       "      <td>0</td>\n",
       "      <td>0</td>\n",
       "      <td>0</td>\n",
       "      <td>0</td>\n",
       "      <td>0</td>\n",
       "      <td>0</td>\n",
       "      <td>0</td>\n",
       "      <td>0</td>\n",
       "      <td>0</td>\n",
       "      <td>0</td>\n",
       "    </tr>\n",
       "    <tr>\n",
       "      <th>37865</th>\n",
       "      <td>las</td>\n",
       "      <td>0</td>\n",
       "      <td>0</td>\n",
       "      <td>0</td>\n",
       "      <td>0</td>\n",
       "      <td>0</td>\n",
       "      <td>0</td>\n",
       "      <td>0</td>\n",
       "      <td>0</td>\n",
       "      <td>0</td>\n",
       "      <td>...</td>\n",
       "      <td>0</td>\n",
       "      <td>0</td>\n",
       "      <td>0</td>\n",
       "      <td>0</td>\n",
       "      <td>0</td>\n",
       "      <td>0</td>\n",
       "      <td>0</td>\n",
       "      <td>0</td>\n",
       "      <td>0</td>\n",
       "      <td>0</td>\n",
       "    </tr>\n",
       "    <tr>\n",
       "      <th>37866</th>\n",
       "      <td>las</td>\n",
       "      <td>0</td>\n",
       "      <td>0</td>\n",
       "      <td>0</td>\n",
       "      <td>0</td>\n",
       "      <td>0</td>\n",
       "      <td>0</td>\n",
       "      <td>0</td>\n",
       "      <td>0</td>\n",
       "      <td>0</td>\n",
       "      <td>...</td>\n",
       "      <td>0</td>\n",
       "      <td>0</td>\n",
       "      <td>0</td>\n",
       "      <td>0</td>\n",
       "      <td>0</td>\n",
       "      <td>0</td>\n",
       "      <td>0</td>\n",
       "      <td>0</td>\n",
       "      <td>0</td>\n",
       "      <td>0</td>\n",
       "    </tr>\n",
       "    <tr>\n",
       "      <th>37867</th>\n",
       "      <td>las</td>\n",
       "      <td>0</td>\n",
       "      <td>0</td>\n",
       "      <td>0</td>\n",
       "      <td>0</td>\n",
       "      <td>0</td>\n",
       "      <td>0</td>\n",
       "      <td>0</td>\n",
       "      <td>0</td>\n",
       "      <td>0</td>\n",
       "      <td>...</td>\n",
       "      <td>0</td>\n",
       "      <td>0</td>\n",
       "      <td>0</td>\n",
       "      <td>0</td>\n",
       "      <td>0</td>\n",
       "      <td>0</td>\n",
       "      <td>0</td>\n",
       "      <td>0</td>\n",
       "      <td>0</td>\n",
       "      <td>0</td>\n",
       "    </tr>\n",
       "    <tr>\n",
       "      <th>37868</th>\n",
       "      <td>las</td>\n",
       "      <td>0</td>\n",
       "      <td>0</td>\n",
       "      <td>0</td>\n",
       "      <td>0</td>\n",
       "      <td>0</td>\n",
       "      <td>0</td>\n",
       "      <td>0</td>\n",
       "      <td>0</td>\n",
       "      <td>0</td>\n",
       "      <td>...</td>\n",
       "      <td>0</td>\n",
       "      <td>0</td>\n",
       "      <td>0</td>\n",
       "      <td>0</td>\n",
       "      <td>0</td>\n",
       "      <td>0</td>\n",
       "      <td>0</td>\n",
       "      <td>0</td>\n",
       "      <td>0</td>\n",
       "      <td>0</td>\n",
       "    </tr>\n",
       "  </tbody>\n",
       "</table>\n",
       "<p>37869 rows × 1025 columns</p>\n",
       "</div>"
      ],
      "text/plain": [
       "       alif  0  0.1  0.2  0.3  0.4  0.5  0.6  0.7  0.8  ...  0.988  0.989  \\\n",
       "0      alif  0    0    0    0    0    0    0    0    0  ...      0      0   \n",
       "1      alif  0    0    0    0    0    0    0    0    0  ...      0      0   \n",
       "2      alif  0    0    0    0    0    0    0    0    0  ...      0      0   \n",
       "3      alif  0    0    0    0    0    0    0    0    0  ...      0      0   \n",
       "4      alif  0    0    0    0    0    0    0    0    0  ...      0      0   \n",
       "...     ... ..  ...  ...  ...  ...  ...  ...  ...  ...  ...    ...    ...   \n",
       "37864   las  0    0    0    0    0    0    0    0    0  ...      0      0   \n",
       "37865   las  0    0    0    0    0    0    0    0    0  ...      0      0   \n",
       "37866   las  0    0    0    0    0    0    0    0    0  ...      0      0   \n",
       "37867   las  0    0    0    0    0    0    0    0    0  ...      0      0   \n",
       "37868   las  0    0    0    0    0    0    0    0    0  ...      0      0   \n",
       "\n",
       "       0.990  0.991  0.992  0.993  0.994  0.995  0.996  0.997  \n",
       "0          0      0      0      0      0      0      0      0  \n",
       "1          0      0      0      0      0      0      0    183  \n",
       "2          0      0      0      0      0      0      0      0  \n",
       "3          0      0      0      0      0      0      0      0  \n",
       "4          0      0      0      0      0      0      0      0  \n",
       "...      ...    ...    ...    ...    ...    ...    ...    ...  \n",
       "37864      0      0      0      0      0      0      0      0  \n",
       "37865      0      0      0      0      0      0      0      0  \n",
       "37866      0      0      0      0      0      0      0      0  \n",
       "37867      0      0      0      0      0      0      0      0  \n",
       "37868      0      0      0      0      0      0      0      0  \n",
       "\n",
       "[37869 rows x 1025 columns]"
      ]
     },
     "execution_count": 2,
     "metadata": {},
     "output_type": "execute_result"
    }
   ],
   "source": [
    "# load data\n",
    "data = pd.read_csv('../input/pashto-isolated-alphabetss-and-numerals/pashto_alpha_num_hw.csv')\n",
    "data"
   ]
  },
  {
   "cell_type": "code",
   "execution_count": 3,
   "id": "557807b9",
   "metadata": {
    "execution": {
     "iopub.execute_input": "2023-05-26T15:45:28.308605Z",
     "iopub.status.busy": "2023-05-26T15:45:28.308240Z",
     "iopub.status.idle": "2023-05-26T15:45:28.373442Z",
     "shell.execute_reply": "2023-05-26T15:45:28.372061Z"
    },
    "papermill": {
     "duration": 0.078669,
     "end_time": "2023-05-26T15:45:28.376085",
     "exception": false,
     "start_time": "2023-05-26T15:45:28.297416",
     "status": "completed"
    },
    "tags": []
   },
   "outputs": [
    {
     "name": "stdout",
     "output_type": "stream",
     "text": [
      "<class 'pandas.core.frame.DataFrame'>\n",
      "RangeIndex: 37869 entries, 0 to 37868\n",
      "Columns: 1025 entries, alif to 0.997\n",
      "dtypes: int64(1024), object(1)\n",
      "memory usage: 296.1+ MB\n"
     ]
    }
   ],
   "source": [
    "# data info\n",
    "data.info()"
   ]
  },
  {
   "cell_type": "code",
   "execution_count": 4,
   "id": "c51568e3",
   "metadata": {
    "execution": {
     "iopub.execute_input": "2023-05-26T15:45:28.397150Z",
     "iopub.status.busy": "2023-05-26T15:45:28.395953Z",
     "iopub.status.idle": "2023-05-26T15:45:28.407308Z",
     "shell.execute_reply": "2023-05-26T15:45:28.406218Z"
    },
    "papermill": {
     "duration": 0.02442,
     "end_time": "2023-05-26T15:45:28.409695",
     "exception": false,
     "start_time": "2023-05-26T15:45:28.385275",
     "status": "completed"
    },
    "tags": []
   },
   "outputs": [
    {
     "data": {
      "text/plain": [
       "array(['alif', 'be', 'pe', 'te', 'ṭe', 'se', 'jīm', 'če', 'he', 'xe',\n",
       "       'ce', 'źim', 'dāl', 'ḍāl', 'zāl', 're', 'ṛe', 'ze', 'že', 'ẓ̌ey',\n",
       "       'sīn', 'šīn', 'x̌īn', 'swād', 'zwād', 'twe', 'zwe', 'ayn', 'ğayn',\n",
       "       'fe', 'qāf', 'kāf', 'gāf', 'lām', 'mīm', 'nūn', 'ṇūn', 'wāw',\n",
       "       'gərda he', 'klaka ye', 'pasta ye', 'nārīna ye', 'x̌əźīna ye',\n",
       "       'fāiliya ye', 'yaw', 'dwa', 'dre', 'celor', 'pinza', 'shpazh',\n",
       "       'owa', 'ata', 'nah', 'las'], dtype=object)"
      ]
     },
     "execution_count": 4,
     "metadata": {},
     "output_type": "execute_result"
    }
   ],
   "source": [
    "# get classes/pashto letters (first column i.e alif contains labels)\n",
    "classes = data['alif'].unique()\n",
    "classes"
   ]
  },
  {
   "cell_type": "code",
   "execution_count": 5,
   "id": "98dd6db9",
   "metadata": {
    "execution": {
     "iopub.execute_input": "2023-05-26T15:45:28.430640Z",
     "iopub.status.busy": "2023-05-26T15:45:28.429875Z",
     "iopub.status.idle": "2023-05-26T15:45:28.439635Z",
     "shell.execute_reply": "2023-05-26T15:45:28.438632Z"
    },
    "papermill": {
     "duration": 0.025025,
     "end_time": "2023-05-26T15:45:28.444264",
     "exception": false,
     "start_time": "2023-05-26T15:45:28.419239",
     "status": "completed"
    },
    "tags": []
   },
   "outputs": [
    {
     "data": {
      "text/plain": [
       "{0: 'alif',\n",
       " 1: 'be',\n",
       " 2: 'pe',\n",
       " 3: 'te',\n",
       " 4: 'ṭe',\n",
       " 5: 'se',\n",
       " 6: 'jīm',\n",
       " 7: 'če',\n",
       " 8: 'he',\n",
       " 9: 'xe',\n",
       " 10: 'ce',\n",
       " 11: 'źim',\n",
       " 12: 'dāl',\n",
       " 13: 'ḍāl',\n",
       " 14: 'zāl',\n",
       " 15: 're',\n",
       " 16: 'ṛe',\n",
       " 17: 'ze',\n",
       " 18: 'že',\n",
       " 19: 'ẓ̌ey',\n",
       " 20: 'sīn',\n",
       " 21: 'šīn',\n",
       " 22: 'x̌īn',\n",
       " 23: 'swād',\n",
       " 24: 'zwād',\n",
       " 25: 'twe',\n",
       " 26: 'zwe',\n",
       " 27: 'ayn',\n",
       " 28: 'ğayn',\n",
       " 29: 'fe',\n",
       " 30: 'qāf',\n",
       " 31: 'kāf',\n",
       " 32: 'gāf',\n",
       " 33: 'lām',\n",
       " 34: 'mīm',\n",
       " 35: 'nūn',\n",
       " 36: 'ṇūn',\n",
       " 37: 'wāw',\n",
       " 38: 'gərda he',\n",
       " 39: 'klaka ye',\n",
       " 40: 'pasta ye',\n",
       " 41: 'nārīna ye',\n",
       " 42: 'x̌əźīna ye',\n",
       " 43: 'fāiliya ye',\n",
       " 44: 'yaw',\n",
       " 45: 'dwa',\n",
       " 46: 'dre',\n",
       " 47: 'celor',\n",
       " 48: 'pinza',\n",
       " 49: 'shpazh',\n",
       " 50: 'owa',\n",
       " 51: 'ata',\n",
       " 52: 'nah',\n",
       " 53: 'las'}"
      ]
     },
     "execution_count": 5,
     "metadata": {},
     "output_type": "execute_result"
    }
   ],
   "source": [
    "# classes hashmap\n",
    "classes = {i:l for i, l in enumerate(classes)}\n",
    "classes"
   ]
  },
  {
   "cell_type": "code",
   "execution_count": 6,
   "id": "92bad891",
   "metadata": {
    "execution": {
     "iopub.execute_input": "2023-05-26T15:45:28.466371Z",
     "iopub.status.busy": "2023-05-26T15:45:28.465577Z",
     "iopub.status.idle": "2023-05-26T15:45:32.079476Z",
     "shell.execute_reply": "2023-05-26T15:45:32.078287Z"
    },
    "papermill": {
     "duration": 3.627937,
     "end_time": "2023-05-26T15:45:32.082265",
     "exception": false,
     "start_time": "2023-05-26T15:45:28.454328",
     "status": "completed"
    },
    "tags": []
   },
   "outputs": [],
   "source": [
    "# get images (x) & labels (y)\n",
    "# the first column contains labels, other are the flattened array of 32x32 image pixels\n",
    "y = data.values[:, 0]\n",
    "x = data.values[:, 1:]"
   ]
  },
  {
   "cell_type": "code",
   "execution_count": 7,
   "id": "6242c43f",
   "metadata": {
    "execution": {
     "iopub.execute_input": "2023-05-26T15:45:32.103189Z",
     "iopub.status.busy": "2023-05-26T15:45:32.102742Z",
     "iopub.status.idle": "2023-05-26T15:45:32.108139Z",
     "shell.execute_reply": "2023-05-26T15:45:32.106997Z"
    },
    "papermill": {
     "duration": 0.018549,
     "end_time": "2023-05-26T15:45:32.110480",
     "exception": false,
     "start_time": "2023-05-26T15:45:32.091931",
     "status": "completed"
    },
    "tags": []
   },
   "outputs": [],
   "source": [
    "# reshape images \n",
    "x = np.reshape(x, (x.shape[0], 32, 32, 1))  "
   ]
  },
  {
   "cell_type": "code",
   "execution_count": 8,
   "id": "8a9b7301",
   "metadata": {
    "execution": {
     "iopub.execute_input": "2023-05-26T15:45:32.131253Z",
     "iopub.status.busy": "2023-05-26T15:45:32.130878Z",
     "iopub.status.idle": "2023-05-26T15:45:32.325379Z",
     "shell.execute_reply": "2023-05-26T15:45:32.324365Z"
    },
    "papermill": {
     "duration": 0.207712,
     "end_time": "2023-05-26T15:45:32.327845",
     "exception": false,
     "start_time": "2023-05-26T15:45:32.120133",
     "status": "completed"
    },
    "tags": []
   },
   "outputs": [
    {
     "data": {
      "text/plain": [
       "array([ 0,  0,  0, ..., 53, 53, 53])"
      ]
     },
     "execution_count": 8,
     "metadata": {},
     "output_type": "execute_result"
    }
   ],
   "source": [
    "# encode labels \n",
    "# label encoder fits the labels lexicographically (sorts them alphabetically)\n",
    "# but here we want to assign values to labels according to the classes hashmap\n",
    "# i.e 0 for alif, 1 for be etc\n",
    "# use classes_ to customize mapping\n",
    "\n",
    "le = LabelEncoder().fit(y)\n",
    "le.classes_ = np.array(list(classes.values()))\n",
    "y = le.transform(y)\n",
    "y"
   ]
  },
  {
   "cell_type": "code",
   "execution_count": 9,
   "id": "e9ee803e",
   "metadata": {
    "execution": {
     "iopub.execute_input": "2023-05-26T15:45:32.348963Z",
     "iopub.status.busy": "2023-05-26T15:45:32.348544Z",
     "iopub.status.idle": "2023-05-26T15:45:37.493814Z",
     "shell.execute_reply": "2023-05-26T15:45:37.492412Z"
    },
    "papermill": {
     "duration": 5.159082,
     "end_time": "2023-05-26T15:45:37.496691",
     "exception": false,
     "start_time": "2023-05-26T15:45:32.337609",
     "status": "completed"
    },
    "tags": []
   },
   "outputs": [],
   "source": [
    "# split data\n",
    "x_train, x_test, y_train, y_test = train_test_split(x, y, test_size=0.1)"
   ]
  },
  {
   "cell_type": "code",
   "execution_count": 10,
   "id": "b57351ce",
   "metadata": {
    "execution": {
     "iopub.execute_input": "2023-05-26T15:45:37.519878Z",
     "iopub.status.busy": "2023-05-26T15:45:37.519417Z",
     "iopub.status.idle": "2023-05-26T15:45:37.525198Z",
     "shell.execute_reply": "2023-05-26T15:45:37.524303Z"
    },
    "id": "cNm7Wu5gFJza",
    "papermill": {
     "duration": 0.020508,
     "end_time": "2023-05-26T15:45:37.527571",
     "exception": false,
     "start_time": "2023-05-26T15:45:37.507063",
     "status": "completed"
    },
    "tags": []
   },
   "outputs": [],
   "source": [
    "# training & testing generators\n",
    "datagen_train = ImageDataGenerator(rescale=1./255,\n",
    "                                   validation_split=0.2,\n",
    "                                   rotation_range=15,\n",
    "                                   width_shift_range=0.1,\n",
    "                                   height_shift_range=0.1,\n",
    "                                   shear_range=0.1,\n",
    "                                   zoom_range=0.2,\n",
    "                                   horizontal_flip=False,\n",
    "                                   fill_mode='nearest')\n",
    "datagen_test = ImageDataGenerator(rescale=1./255)"
   ]
  },
  {
   "cell_type": "code",
   "execution_count": 11,
   "id": "f4dcc449",
   "metadata": {
    "execution": {
     "iopub.execute_input": "2023-05-26T15:45:37.549497Z",
     "iopub.status.busy": "2023-05-26T15:45:37.549063Z",
     "iopub.status.idle": "2023-05-26T15:45:40.741970Z",
     "shell.execute_reply": "2023-05-26T15:45:40.740829Z"
    },
    "id": "4iIN4bY2FNKq",
    "papermill": {
     "duration": 3.20714,
     "end_time": "2023-05-26T15:45:40.745033",
     "exception": false,
     "start_time": "2023-05-26T15:45:37.537893",
     "status": "completed"
    },
    "tags": []
   },
   "outputs": [],
   "source": [
    "data_train = datagen_train.flow(x_train, y_train, subset='training', \n",
    "                                batch_size=64, shuffle=True)\n",
    "data_valid = datagen_train.flow(x_train, y_train, subset='validation',\n",
    "                                batch_size=64, shuffle=True)\n",
    "data_test = datagen_test.flow(x_test, y_test, batch_size=1, shuffle=False)"
   ]
  },
  {
   "cell_type": "markdown",
   "id": "d0eac41b",
   "metadata": {
    "id": "ss1hXqLXFBL8",
    "papermill": {
     "duration": 0.009714,
     "end_time": "2023-05-26T15:45:40.764632",
     "exception": false,
     "start_time": "2023-05-26T15:45:40.754918",
     "status": "completed"
    },
    "tags": []
   },
   "source": [
    "### Model Develpment & Training"
   ]
  },
  {
   "cell_type": "code",
   "execution_count": 12,
   "id": "c9183798",
   "metadata": {
    "execution": {
     "iopub.execute_input": "2023-05-26T15:45:40.786090Z",
     "iopub.status.busy": "2023-05-26T15:45:40.785674Z",
     "iopub.status.idle": "2023-05-26T15:45:41.038538Z",
     "shell.execute_reply": "2023-05-26T15:45:41.037212Z"
    },
    "papermill": {
     "duration": 0.277608,
     "end_time": "2023-05-26T15:45:41.052069",
     "exception": false,
     "start_time": "2023-05-26T15:45:40.774461",
     "status": "completed"
    },
    "tags": []
   },
   "outputs": [
    {
     "name": "stdout",
     "output_type": "stream",
     "text": [
      "Model: \"sequential\"\n",
      "_________________________________________________________________\n",
      " Layer (type)                Output Shape              Param #   \n",
      "=================================================================\n",
      " conv2d (Conv2D)             (None, 30, 30, 32)        320       \n",
      "                                                                 \n",
      " max_pooling2d (MaxPooling2D  (None, 15, 15, 32)       0         \n",
      " )                                                               \n",
      "                                                                 \n",
      " conv2d_1 (Conv2D)           (None, 13, 13, 32)        9248      \n",
      "                                                                 \n",
      " max_pooling2d_1 (MaxPooling  (None, 6, 6, 32)         0         \n",
      " 2D)                                                             \n",
      "                                                                 \n",
      " flatten (Flatten)           (None, 1152)              0         \n",
      "                                                                 \n",
      " dense (Dense)               (None, 512)               590336    \n",
      "                                                                 \n",
      " dense_1 (Dense)             (None, 54)                27702     \n",
      "                                                                 \n",
      "=================================================================\n",
      "Total params: 627,606\n",
      "Trainable params: 627,606\n",
      "Non-trainable params: 0\n",
      "_________________________________________________________________\n"
     ]
    }
   ],
   "source": [
    "model = Sequential([\n",
    "                Conv2D(32, (3, 3), activation='relu', input_shape=(32, 32, 1)),\n",
    "                MaxPooling2D(2, 2),\n",
    "                Conv2D(32, (3, 3), activation='relu'),\n",
    "                MaxPooling2D(2, 2),\n",
    "                Flatten(), \n",
    "                Dense(512, activation='relu'), \n",
    "                Dense(54, activation='softmax')])    # 54 = total pashto letters\n",
    "model.summary()"
   ]
  },
  {
   "cell_type": "code",
   "execution_count": 13,
   "id": "06ebcaa2",
   "metadata": {
    "execution": {
     "iopub.execute_input": "2023-05-26T15:45:41.078290Z",
     "iopub.status.busy": "2023-05-26T15:45:41.077913Z",
     "iopub.status.idle": "2023-05-26T15:45:41.099082Z",
     "shell.execute_reply": "2023-05-26T15:45:41.097870Z"
    },
    "papermill": {
     "duration": 0.037473,
     "end_time": "2023-05-26T15:45:41.101935",
     "exception": false,
     "start_time": "2023-05-26T15:45:41.064462",
     "status": "completed"
    },
    "tags": []
   },
   "outputs": [],
   "source": [
    "# compile model\n",
    "model.compile(optimizer=Adam(lr=0.0001),\n",
    "              loss='sparse_categorical_crossentropy',\n",
    "              metrics=['accuracy'])"
   ]
  },
  {
   "cell_type": "code",
   "execution_count": 14,
   "id": "96e53bd5",
   "metadata": {
    "execution": {
     "iopub.execute_input": "2023-05-26T15:45:41.128068Z",
     "iopub.status.busy": "2023-05-26T15:45:41.127591Z",
     "iopub.status.idle": "2023-05-26T16:04:06.186559Z",
     "shell.execute_reply": "2023-05-26T16:04:06.184879Z"
    },
    "id": "1ZPiWeOWFRfZ",
    "papermill": {
     "duration": 1105.075606,
     "end_time": "2023-05-26T16:04:06.189521",
     "exception": false,
     "start_time": "2023-05-26T15:45:41.113915",
     "status": "completed"
    },
    "tags": []
   },
   "outputs": [
    {
     "name": "stdout",
     "output_type": "stream",
     "text": [
      "Epoch 1/30\n",
      "427/427 - 24s - loss: 2.4401 - accuracy: 0.3004 - val_loss: 1.6603 - val_accuracy: 0.4677 - 24s/epoch - 57ms/step\n",
      "Epoch 2/30\n",
      "427/427 - 23s - loss: 1.3603 - accuracy: 0.5562 - val_loss: 1.1760 - val_accuracy: 0.6089 - 23s/epoch - 53ms/step\n",
      "Epoch 3/30\n",
      "427/427 - 23s - loss: 1.0314 - accuracy: 0.6558 - val_loss: 0.9671 - val_accuracy: 0.6821 - 23s/epoch - 54ms/step\n",
      "Epoch 4/30\n",
      "427/427 - 23s - loss: 0.8968 - accuracy: 0.7010 - val_loss: 0.8570 - val_accuracy: 0.7143 - 23s/epoch - 53ms/step\n",
      "Epoch 5/30\n",
      "427/427 - 23s - loss: 0.7933 - accuracy: 0.7347 - val_loss: 0.7771 - val_accuracy: 0.7400 - 23s/epoch - 53ms/step\n",
      "Epoch 6/30\n",
      "427/427 - 23s - loss: 0.7189 - accuracy: 0.7568 - val_loss: 0.7658 - val_accuracy: 0.7453 - 23s/epoch - 54ms/step\n",
      "Epoch 7/30\n",
      "427/427 - 23s - loss: 0.6893 - accuracy: 0.7689 - val_loss: 0.7497 - val_accuracy: 0.7554 - 23s/epoch - 53ms/step\n",
      "Epoch 8/30\n",
      "427/427 - 23s - loss: 0.6462 - accuracy: 0.7827 - val_loss: 0.6570 - val_accuracy: 0.7861 - 23s/epoch - 53ms/step\n",
      "Epoch 9/30\n",
      "427/427 - 23s - loss: 0.6052 - accuracy: 0.7949 - val_loss: 0.6305 - val_accuracy: 0.7851 - 23s/epoch - 54ms/step\n",
      "Epoch 10/30\n",
      "427/427 - 22s - loss: 0.5771 - accuracy: 0.8021 - val_loss: 0.6228 - val_accuracy: 0.7967 - 22s/epoch - 52ms/step\n",
      "Epoch 11/30\n",
      "427/427 - 23s - loss: 0.5575 - accuracy: 0.8099 - val_loss: 0.5992 - val_accuracy: 0.8005 - 23s/epoch - 53ms/step\n",
      "Epoch 12/30\n",
      "427/427 - 23s - loss: 0.5395 - accuracy: 0.8146 - val_loss: 0.6255 - val_accuracy: 0.7956 - 23s/epoch - 53ms/step\n",
      "Epoch 13/30\n",
      "427/427 - 23s - loss: 0.5262 - accuracy: 0.8199 - val_loss: 0.5864 - val_accuracy: 0.8050 - 23s/epoch - 53ms/step\n",
      "Epoch 14/30\n",
      "427/427 - 23s - loss: 0.5021 - accuracy: 0.8309 - val_loss: 0.5750 - val_accuracy: 0.8126 - 23s/epoch - 53ms/step\n",
      "Epoch 15/30\n",
      "427/427 - 22s - loss: 0.4978 - accuracy: 0.8295 - val_loss: 0.5535 - val_accuracy: 0.8144 - 22s/epoch - 52ms/step\n",
      "Epoch 16/30\n",
      "427/427 - 23s - loss: 0.4855 - accuracy: 0.8343 - val_loss: 0.5723 - val_accuracy: 0.8063 - 23s/epoch - 53ms/step\n",
      "Epoch 17/30\n",
      "427/427 - 23s - loss: 0.4665 - accuracy: 0.8394 - val_loss: 0.5372 - val_accuracy: 0.8266 - 23s/epoch - 54ms/step\n",
      "Epoch 18/30\n",
      "427/427 - 23s - loss: 0.4603 - accuracy: 0.8397 - val_loss: 0.5491 - val_accuracy: 0.8182 - 23s/epoch - 53ms/step\n",
      "Epoch 19/30\n",
      "427/427 - 23s - loss: 0.4617 - accuracy: 0.8424 - val_loss: 0.5159 - val_accuracy: 0.8351 - 23s/epoch - 54ms/step\n",
      "Epoch 20/30\n",
      "427/427 - 23s - loss: 0.4404 - accuracy: 0.8487 - val_loss: 0.5177 - val_accuracy: 0.8270 - 23s/epoch - 53ms/step\n",
      "Epoch 21/30\n",
      "427/427 - 24s - loss: 0.4258 - accuracy: 0.8542 - val_loss: 0.5015 - val_accuracy: 0.8303 - 24s/epoch - 57ms/step\n",
      "Epoch 22/30\n",
      "427/427 - 23s - loss: 0.4193 - accuracy: 0.8552 - val_loss: 0.4763 - val_accuracy: 0.8389 - 23s/epoch - 54ms/step\n",
      "Epoch 23/30\n",
      "427/427 - 23s - loss: 0.4211 - accuracy: 0.8550 - val_loss: 0.4980 - val_accuracy: 0.8379 - 23s/epoch - 54ms/step\n",
      "Epoch 24/30\n",
      "427/427 - 23s - loss: 0.4100 - accuracy: 0.8560 - val_loss: 0.4950 - val_accuracy: 0.8423 - 23s/epoch - 53ms/step\n",
      "Epoch 25/30\n",
      "427/427 - 23s - loss: 0.4035 - accuracy: 0.8623 - val_loss: 0.4820 - val_accuracy: 0.8458 - 23s/epoch - 54ms/step\n",
      "Epoch 26/30\n",
      "427/427 - 23s - loss: 0.3923 - accuracy: 0.8644 - val_loss: 0.4704 - val_accuracy: 0.8468 - 23s/epoch - 53ms/step\n",
      "Epoch 27/30\n",
      "427/427 - 25s - loss: 0.3963 - accuracy: 0.8641 - val_loss: 0.4762 - val_accuracy: 0.8435 - 25s/epoch - 58ms/step\n",
      "Epoch 28/30\n",
      "427/427 - 23s - loss: 0.3844 - accuracy: 0.8668 - val_loss: 0.4578 - val_accuracy: 0.8514 - 23s/epoch - 54ms/step\n",
      "Epoch 29/30\n",
      "427/427 - 22s - loss: 0.3762 - accuracy: 0.8702 - val_loss: 0.4712 - val_accuracy: 0.8493 - 22s/epoch - 53ms/step\n",
      "Epoch 30/30\n",
      "427/427 - 23s - loss: 0.3737 - accuracy: 0.8709 - val_loss: 0.4677 - val_accuracy: 0.8474 - 23s/epoch - 53ms/step\n"
     ]
    }
   ],
   "source": [
    "# fit model \n",
    "history = model.fit(data_train, \n",
    "                    epochs=30,\n",
    "                    validation_data=data_valid,\n",
    "                    verbose=2)"
   ]
  },
  {
   "cell_type": "markdown",
   "id": "9460f3e1",
   "metadata": {
    "papermill": {
     "duration": 0.016547,
     "end_time": "2023-05-26T16:04:06.223580",
     "exception": false,
     "start_time": "2023-05-26T16:04:06.207033",
     "status": "completed"
    },
    "tags": []
   },
   "source": [
    "### Model Evaluation"
   ]
  },
  {
   "cell_type": "code",
   "execution_count": 15,
   "id": "f4094242",
   "metadata": {
    "execution": {
     "iopub.execute_input": "2023-05-26T16:04:06.259989Z",
     "iopub.status.busy": "2023-05-26T16:04:06.259598Z",
     "iopub.status.idle": "2023-05-26T16:04:15.328657Z",
     "shell.execute_reply": "2023-05-26T16:04:15.327548Z"
    },
    "papermill": {
     "duration": 9.090312,
     "end_time": "2023-05-26T16:04:15.331339",
     "exception": false,
     "start_time": "2023-05-26T16:04:06.241027",
     "status": "completed"
    },
    "tags": []
   },
   "outputs": [
    {
     "name": "stdout",
     "output_type": "stream",
     "text": [
      "3787/3787 [==============================] - 9s 2ms/step - loss: 0.3956 - accuracy: 0.8880\n"
     ]
    },
    {
     "data": {
      "text/plain": [
       "{'loss': 0.3956427574157715, 'accuracy': 0.8880380392074585}"
      ]
     },
     "execution_count": 15,
     "metadata": {},
     "output_type": "execute_result"
    }
   ],
   "source": [
    "# # loss and accuracy\n",
    "eval_model = model.evaluate(data_test, return_dict=True)\n",
    "eval_model"
   ]
  },
  {
   "cell_type": "code",
   "execution_count": 16,
   "id": "16a9f8be",
   "metadata": {
    "execution": {
     "iopub.execute_input": "2023-05-26T16:04:15.399246Z",
     "iopub.status.busy": "2023-05-26T16:04:15.398866Z",
     "iopub.status.idle": "2023-05-26T16:04:15.793718Z",
     "shell.execute_reply": "2023-05-26T16:04:15.792564Z"
    },
    "papermill": {
     "duration": 0.431709,
     "end_time": "2023-05-26T16:04:15.796360",
     "exception": false,
     "start_time": "2023-05-26T16:04:15.364651",
     "status": "completed"
    },
    "tags": []
   },
   "outputs": [
    {
     "data": {
      "text/plain": [
       "Text(0.5, 1.0, 'Training & Validation Loss')"
      ]
     },
     "execution_count": 16,
     "metadata": {},
     "output_type": "execute_result"
    },
    {
     "data": {
      "image/png": "[encoded data removed]",
      "text/plain": [
       "<Figure size 500x400 with 1 Axes>"
      ]
     },
     "metadata": {},
     "output_type": "display_data"
    }
   ],
   "source": [
    "# training and validation loss\n",
    "plt.figure(figsize=(5, 4))\n",
    "plt.plot(history.history['loss'], label='Training')\n",
    "plt.plot(history.history['val_loss'], label='Validation')\n",
    "plt.xlabel('epochs')\n",
    "plt.ylabel('loss')\n",
    "plt.legend(loc='best')\n",
    "plt.title('Training & Validation Loss')"
   ]
  },
  {
   "cell_type": "markdown",
   "id": "f5483920",
   "metadata": {
    "id": "Rf4g1bVwFZWH",
    "papermill": {
     "duration": 0.033194,
     "end_time": "2023-05-26T16:04:15.863491",
     "exception": false,
     "start_time": "2023-05-26T16:04:15.830297",
     "status": "completed"
    },
    "tags": []
   },
   "source": [
    "### Testing an image"
   ]
  },
  {
   "cell_type": "code",
   "execution_count": 17,
   "id": "0311f1ed",
   "metadata": {
    "execution": {
     "iopub.execute_input": "2023-05-26T16:04:15.932519Z",
     "iopub.status.busy": "2023-05-26T16:04:15.932105Z",
     "iopub.status.idle": "2023-05-26T16:04:15.938162Z",
     "shell.execute_reply": "2023-05-26T16:04:15.937054Z"
    },
    "papermill": {
     "duration": 0.043053,
     "end_time": "2023-05-26T16:04:15.940385",
     "exception": false,
     "start_time": "2023-05-26T16:04:15.897332",
     "status": "completed"
    },
    "tags": []
   },
   "outputs": [],
   "source": [
    "# get an image and its actual label/class\n",
    "# the batch size in data_test is 1, each batch contains 1 sample \n",
    "# each sample is a 2d nested array. index 0= image features(x), index 1= label(y)\n",
    "test_img = data_test[0][0]          # data_test[i][x] i=ith sample, x=features\n",
    "test_label = data_test[0][1][0]     # data_test[i][y] i=ith sample, y=label array"
   ]
  },
  {
   "cell_type": "code",
   "execution_count": 18,
   "id": "bd2313ea",
   "metadata": {
    "execution": {
     "iopub.execute_input": "2023-05-26T16:04:16.009197Z",
     "iopub.status.busy": "2023-05-26T16:04:16.008756Z",
     "iopub.status.idle": "2023-05-26T16:04:16.227305Z",
     "shell.execute_reply": "2023-05-26T16:04:16.226292Z"
    },
    "papermill": {
     "duration": 0.256606,
     "end_time": "2023-05-26T16:04:16.230072",
     "exception": false,
     "start_time": "2023-05-26T16:04:15.973466",
     "status": "completed"
    },
    "tags": []
   },
   "outputs": [
    {
     "name": "stdout",
     "output_type": "stream",
     "text": [
      "1/1 [==============================] - 0s 137ms/step\n"
     ]
    }
   ],
   "source": [
    "# predict label\n",
    "test_label_pred = np.argmax(model.predict(test_img))"
   ]
  },
  {
   "cell_type": "code",
   "execution_count": 19,
   "id": "915913bf",
   "metadata": {
    "execution": {
     "iopub.execute_input": "2023-05-26T16:04:16.299967Z",
     "iopub.status.busy": "2023-05-26T16:04:16.299552Z",
     "iopub.status.idle": "2023-05-26T16:04:16.561293Z",
     "shell.execute_reply": "2023-05-26T16:04:16.560105Z"
    },
    "papermill": {
     "duration": 0.30037,
     "end_time": "2023-05-26T16:04:16.564113",
     "exception": false,
     "start_time": "2023-05-26T16:04:16.263743",
     "status": "completed"
    },
    "tags": []
   },
   "outputs": [
    {
     "data": {
      "text/plain": [
       "Text(0.5, 1.0, 'actual:ḍāl, predicted:ḍāl')"
      ]
     },
     "execution_count": 19,
     "metadata": {},
     "output_type": "execute_result"
    },
    {
     "data": {
      "image/png": "[encoded data removed]",
      "text/plain": [
       "<Figure size 200x200 with 1 Axes>"
      ]
     },
     "metadata": {},
     "output_type": "display_data"
    }
   ],
   "source": [
    "# plot results\n",
    "plt.figure(figsize=(2, 2))\n",
    "plt.imshow(test_img.reshape(32, 32), cmap='binary')\n",
    "plt.title(f'actual:{classes[test_label]}, predicted:{classes[test_label_pred]}')"
   ]
  },
  {
   "cell_type": "markdown",
   "id": "d4ca7996",
   "metadata": {
    "papermill": {
     "duration": 0.034558,
     "end_time": "2023-05-26T16:04:16.634149",
     "exception": false,
     "start_time": "2023-05-26T16:04:16.599591",
     "status": "completed"
    },
    "tags": []
   },
   "source": [
    "### Model Predictions"
   ]
  },
  {
   "cell_type": "code",
   "execution_count": 20,
   "id": "fdd85eeb",
   "metadata": {
    "execution": {
     "iopub.execute_input": "2023-05-26T16:04:16.709073Z",
     "iopub.status.busy": "2023-05-26T16:04:16.708622Z",
     "iopub.status.idle": "2023-05-26T16:04:21.863054Z",
     "shell.execute_reply": "2023-05-26T16:04:21.862086Z"
    },
    "papermill": {
     "duration": 5.194959,
     "end_time": "2023-05-26T16:04:21.865658",
     "exception": false,
     "start_time": "2023-05-26T16:04:16.670699",
     "status": "completed"
    },
    "tags": []
   },
   "outputs": [
    {
     "name": "stdout",
     "output_type": "stream",
     "text": [
      "1/1 [==============================] - 0s 22ms/step\n",
      "1/1 [==============================] - 0s 22ms/step\n",
      "1/1 [==============================] - 0s 23ms/step\n",
      "1/1 [==============================] - 0s 23ms/step\n",
      "1/1 [==============================] - 0s 22ms/step\n",
      "1/1 [==============================] - 0s 22ms/step\n",
      "1/1 [==============================] - 0s 22ms/step\n",
      "1/1 [==============================] - 0s 24ms/step\n",
      "1/1 [==============================] - 0s 23ms/step\n",
      "1/1 [==============================] - 0s 23ms/step\n",
      "1/1 [==============================] - 0s 22ms/step\n",
      "1/1 [==============================] - 0s 22ms/step\n",
      "1/1 [==============================] - 0s 22ms/step\n",
      "1/1 [==============================] - 0s 22ms/step\n",
      "1/1 [==============================] - 0s 23ms/step\n",
      "1/1 [==============================] - 0s 23ms/step\n",
      "1/1 [==============================] - 0s 22ms/step\n",
      "1/1 [==============================] - 0s 22ms/step\n",
      "1/1 [==============================] - 0s 22ms/step\n",
      "1/1 [==============================] - 0s 22ms/step\n",
      "1/1 [==============================] - 0s 21ms/step\n",
      "1/1 [==============================] - 0s 22ms/step\n",
      "1/1 [==============================] - 0s 22ms/step\n",
      "1/1 [==============================] - 0s 23ms/step\n",
      "1/1 [==============================] - 0s 23ms/step\n",
      "1/1 [==============================] - 0s 26ms/step\n",
      "1/1 [==============================] - 0s 23ms/step\n",
      "1/1 [==============================] - 0s 23ms/step\n",
      "1/1 [==============================] - 0s 22ms/step\n"
     ]
    },
    {
     "data": {
      "image/png": "[encoded data removed]",
      "text/plain": [
       "<Figure size 2000x2000 with 29 Axes>"
      ]
     },
     "metadata": {},
     "output_type": "display_data"
    }
   ],
   "source": [
    "plt.figure(figsize=(20, 20))\n",
    "for i in range(1, 30):\n",
    "    x = data_test[i][0]\n",
    "    y = data_test[i][1][0]\n",
    "    y_pred = np.argmax(model.predict(x))\n",
    "    plt.subplot(10, 5, i)\n",
    "    plt.imshow(x.reshape(32, 32), cmap='binary')\n",
    "    plt.title(f\"y: {classes[y]},  y\\u0302: {classes[y_pred]}\") # y=actual, ŷ=pred\n",
    "    plt.axis('off')\n",
    "plt.tight_layout()\n",
    "plt.show()"
   ]
  }
 ],
 "metadata": {
  "kernelspec": {
   "display_name": "Python 3",
   "language": "python",
   "name": "python3"
  },
  "language_info": {
   "codemirror_mode": {
    "name": "ipython",
    "version": 3
   },
   "file_extension": ".py",
   "mimetype": "text/x-python",
   "name": "python",
   "nbconvert_exporter": "python",
   "pygments_lexer": "ipython3",
   "version": "3.10.10"
  },
  "papermill": {
   "default_parameters": {},
   "duration": 1168.387133,
   "end_time": "2023-05-26T16:04:25.304037",
   "environment_variables": {},
   "exception": null,
   "input_path": "__notebook__.ipynb",
   "output_path": "__notebook__.ipynb",
   "parameters": {},
   "start_time": "2023-05-26T15:44:56.916904",
   "version": "2.4.0"
  }
 },
 "nbformat": 4,
 "nbformat_minor": 5
}
