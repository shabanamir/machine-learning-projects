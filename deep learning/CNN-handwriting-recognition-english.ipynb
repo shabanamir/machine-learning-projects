{
 "cells": [
  {
   "cell_type": "markdown",
   "id": "94650f6e",
   "metadata": {
    "papermill": {
     "duration": 0.006601,
     "end_time": "2023-05-26T06:23:18.785251",
     "exception": false,
     "start_time": "2023-05-26T06:23:18.778650",
     "status": "completed"
    },
    "tags": []
   },
   "source": [
    "## Handwriting Recognition - English"
   ]
  },
  {
   "cell_type": "markdown",
   "id": "61128af5",
   "metadata": {
    "papermill": {
     "duration": 0.005851,
     "end_time": "2023-05-26T06:23:18.797474",
     "exception": false,
     "start_time": "2023-05-26T06:23:18.791623",
     "status": "completed"
    },
    "tags": []
   },
   "source": [
    "### Data\n",
    "\n",
    "- Training, Validation & Testing [A-Z Handwritten Alphabets in .csv format](https://www.kaggle.com/datasets/sachinpatel21/az-handwritten-alphabets-in-csv-format)"
   ]
  },
  {
   "cell_type": "code",
   "execution_count": 1,
   "id": "5c79c8cf",
   "metadata": {
    "execution": {
     "iopub.execute_input": "2023-05-26T06:23:18.812126Z",
     "iopub.status.busy": "2023-05-26T06:23:18.811152Z",
     "iopub.status.idle": "2023-05-26T06:23:28.713315Z",
     "shell.execute_reply": "2023-05-26T06:23:28.711995Z"
    },
    "papermill": {
     "duration": 9.912996,
     "end_time": "2023-05-26T06:23:28.716530",
     "exception": false,
     "start_time": "2023-05-26T06:23:18.803534",
     "status": "completed"
    },
    "tags": []
   },
   "outputs": [
    {
     "name": "stderr",
     "output_type": "stream",
     "text": [
      "/opt/conda/lib/python3.10/site-packages/scipy/__init__.py:146: UserWarning: A NumPy version >=1.16.5 and <1.23.0 is required for this version of SciPy (detected version 1.23.5\n",
      "  warnings.warn(f\"A NumPy version >={np_minversion} and <{np_maxversion}\"\n"
     ]
    }
   ],
   "source": [
    "import numpy as np\n",
    "import pandas as pd\n",
    "import matplotlib.pyplot as plt\n",
    "\n",
    "from sklearn.model_selection import train_test_split\n",
    "from tensorflow.keras.preprocessing.image import ImageDataGenerator\n",
    "from tensorflow.keras.models import Sequential\n",
    "from tensorflow.keras.layers import Dense, Dropout, Flatten, Conv2D, MaxPooling2D\n",
    "from tensorflow.keras.optimizers import RMSprop"
   ]
  },
  {
   "cell_type": "markdown",
   "id": "da007d49",
   "metadata": {
    "papermill": {
     "duration": 0.005927,
     "end_time": "2023-05-26T06:23:28.729049",
     "exception": false,
     "start_time": "2023-05-26T06:23:28.723122",
     "status": "completed"
    },
    "tags": []
   },
   "source": [
    "### Data preporcessing"
   ]
  },
  {
   "cell_type": "code",
   "execution_count": 2,
   "id": "af557a5f",
   "metadata": {
    "execution": {
     "iopub.execute_input": "2023-05-26T06:23:28.744574Z",
     "iopub.status.busy": "2023-05-26T06:23:28.743728Z",
     "iopub.status.idle": "2023-05-26T06:24:08.709529Z",
     "shell.execute_reply": "2023-05-26T06:24:08.708378Z"
    },
    "id": "dFRItOIpE3Yu",
    "outputId": "da5a5ee2-d767-4793-f0b5-106557a8798c",
    "papermill": {
     "duration": 39.982654,
     "end_time": "2023-05-26T06:24:08.718400",
     "exception": false,
     "start_time": "2023-05-26T06:23:28.735746",
     "status": "completed"
    },
    "tags": []
   },
   "outputs": [
    {
     "data": {
      "text/html": [
       "<div>\n",
       "<style scoped>\n",
       "    .dataframe tbody tr th:only-of-type {\n",
       "        vertical-align: middle;\n",
       "    }\n",
       "\n",
       "    .dataframe tbody tr th {\n",
       "        vertical-align: top;\n",
       "    }\n",
       "\n",
       "    .dataframe thead th {\n",
       "        text-align: right;\n",
       "    }\n",
       "</style>\n",
       "<table border=\"1\" class=\"dataframe\">\n",
       "  <thead>\n",
       "    <tr style=\"text-align: right;\">\n",
       "      <th></th>\n",
       "      <th>0</th>\n",
       "      <th>0.1</th>\n",
       "      <th>0.2</th>\n",
       "      <th>0.3</th>\n",
       "      <th>0.4</th>\n",
       "      <th>0.5</th>\n",
       "      <th>0.6</th>\n",
       "      <th>0.7</th>\n",
       "      <th>0.8</th>\n",
       "      <th>0.9</th>\n",
       "      <th>...</th>\n",
       "      <th>0.639</th>\n",
       "      <th>0.640</th>\n",
       "      <th>0.641</th>\n",
       "      <th>0.642</th>\n",
       "      <th>0.643</th>\n",
       "      <th>0.644</th>\n",
       "      <th>0.645</th>\n",
       "      <th>0.646</th>\n",
       "      <th>0.647</th>\n",
       "      <th>0.648</th>\n",
       "    </tr>\n",
       "  </thead>\n",
       "  <tbody>\n",
       "    <tr>\n",
       "      <th>0</th>\n",
       "      <td>0</td>\n",
       "      <td>0</td>\n",
       "      <td>0</td>\n",
       "      <td>0</td>\n",
       "      <td>0</td>\n",
       "      <td>0</td>\n",
       "      <td>0</td>\n",
       "      <td>0</td>\n",
       "      <td>0</td>\n",
       "      <td>0</td>\n",
       "      <td>...</td>\n",
       "      <td>0</td>\n",
       "      <td>0</td>\n",
       "      <td>0</td>\n",
       "      <td>0</td>\n",
       "      <td>0</td>\n",
       "      <td>0</td>\n",
       "      <td>0</td>\n",
       "      <td>0</td>\n",
       "      <td>0</td>\n",
       "      <td>0</td>\n",
       "    </tr>\n",
       "    <tr>\n",
       "      <th>1</th>\n",
       "      <td>0</td>\n",
       "      <td>0</td>\n",
       "      <td>0</td>\n",
       "      <td>0</td>\n",
       "      <td>0</td>\n",
       "      <td>0</td>\n",
       "      <td>0</td>\n",
       "      <td>0</td>\n",
       "      <td>0</td>\n",
       "      <td>0</td>\n",
       "      <td>...</td>\n",
       "      <td>0</td>\n",
       "      <td>0</td>\n",
       "      <td>0</td>\n",
       "      <td>0</td>\n",
       "      <td>0</td>\n",
       "      <td>0</td>\n",
       "      <td>0</td>\n",
       "      <td>0</td>\n",
       "      <td>0</td>\n",
       "      <td>0</td>\n",
       "    </tr>\n",
       "    <tr>\n",
       "      <th>2</th>\n",
       "      <td>0</td>\n",
       "      <td>0</td>\n",
       "      <td>0</td>\n",
       "      <td>0</td>\n",
       "      <td>0</td>\n",
       "      <td>0</td>\n",
       "      <td>0</td>\n",
       "      <td>0</td>\n",
       "      <td>0</td>\n",
       "      <td>0</td>\n",
       "      <td>...</td>\n",
       "      <td>0</td>\n",
       "      <td>0</td>\n",
       "      <td>0</td>\n",
       "      <td>0</td>\n",
       "      <td>0</td>\n",
       "      <td>0</td>\n",
       "      <td>0</td>\n",
       "      <td>0</td>\n",
       "      <td>0</td>\n",
       "      <td>0</td>\n",
       "    </tr>\n",
       "    <tr>\n",
       "      <th>3</th>\n",
       "      <td>0</td>\n",
       "      <td>0</td>\n",
       "      <td>0</td>\n",
       "      <td>0</td>\n",
       "      <td>0</td>\n",
       "      <td>0</td>\n",
       "      <td>0</td>\n",
       "      <td>0</td>\n",
       "      <td>0</td>\n",
       "      <td>0</td>\n",
       "      <td>...</td>\n",
       "      <td>0</td>\n",
       "      <td>0</td>\n",
       "      <td>0</td>\n",
       "      <td>0</td>\n",
       "      <td>0</td>\n",
       "      <td>0</td>\n",
       "      <td>0</td>\n",
       "      <td>0</td>\n",
       "      <td>0</td>\n",
       "      <td>0</td>\n",
       "    </tr>\n",
       "    <tr>\n",
       "      <th>4</th>\n",
       "      <td>0</td>\n",
       "      <td>0</td>\n",
       "      <td>0</td>\n",
       "      <td>0</td>\n",
       "      <td>0</td>\n",
       "      <td>0</td>\n",
       "      <td>0</td>\n",
       "      <td>0</td>\n",
       "      <td>0</td>\n",
       "      <td>0</td>\n",
       "      <td>...</td>\n",
       "      <td>0</td>\n",
       "      <td>0</td>\n",
       "      <td>0</td>\n",
       "      <td>0</td>\n",
       "      <td>0</td>\n",
       "      <td>0</td>\n",
       "      <td>0</td>\n",
       "      <td>0</td>\n",
       "      <td>0</td>\n",
       "      <td>0</td>\n",
       "    </tr>\n",
       "    <tr>\n",
       "      <th>...</th>\n",
       "      <td>...</td>\n",
       "      <td>...</td>\n",
       "      <td>...</td>\n",
       "      <td>...</td>\n",
       "      <td>...</td>\n",
       "      <td>...</td>\n",
       "      <td>...</td>\n",
       "      <td>...</td>\n",
       "      <td>...</td>\n",
       "      <td>...</td>\n",
       "      <td>...</td>\n",
       "      <td>...</td>\n",
       "      <td>...</td>\n",
       "      <td>...</td>\n",
       "      <td>...</td>\n",
       "      <td>...</td>\n",
       "      <td>...</td>\n",
       "      <td>...</td>\n",
       "      <td>...</td>\n",
       "      <td>...</td>\n",
       "      <td>...</td>\n",
       "    </tr>\n",
       "    <tr>\n",
       "      <th>372445</th>\n",
       "      <td>25</td>\n",
       "      <td>0</td>\n",
       "      <td>0</td>\n",
       "      <td>0</td>\n",
       "      <td>0</td>\n",
       "      <td>0</td>\n",
       "      <td>0</td>\n",
       "      <td>0</td>\n",
       "      <td>0</td>\n",
       "      <td>0</td>\n",
       "      <td>...</td>\n",
       "      <td>0</td>\n",
       "      <td>0</td>\n",
       "      <td>0</td>\n",
       "      <td>0</td>\n",
       "      <td>0</td>\n",
       "      <td>0</td>\n",
       "      <td>0</td>\n",
       "      <td>0</td>\n",
       "      <td>0</td>\n",
       "      <td>0</td>\n",
       "    </tr>\n",
       "    <tr>\n",
       "      <th>372446</th>\n",
       "      <td>25</td>\n",
       "      <td>0</td>\n",
       "      <td>0</td>\n",
       "      <td>0</td>\n",
       "      <td>0</td>\n",
       "      <td>0</td>\n",
       "      <td>0</td>\n",
       "      <td>0</td>\n",
       "      <td>0</td>\n",
       "      <td>0</td>\n",
       "      <td>...</td>\n",
       "      <td>0</td>\n",
       "      <td>0</td>\n",
       "      <td>0</td>\n",
       "      <td>0</td>\n",
       "      <td>0</td>\n",
       "      <td>0</td>\n",
       "      <td>0</td>\n",
       "      <td>0</td>\n",
       "      <td>0</td>\n",
       "      <td>0</td>\n",
       "    </tr>\n",
       "    <tr>\n",
       "      <th>372447</th>\n",
       "      <td>25</td>\n",
       "      <td>0</td>\n",
       "      <td>0</td>\n",
       "      <td>0</td>\n",
       "      <td>0</td>\n",
       "      <td>0</td>\n",
       "      <td>0</td>\n",
       "      <td>0</td>\n",
       "      <td>0</td>\n",
       "      <td>0</td>\n",
       "      <td>...</td>\n",
       "      <td>0</td>\n",
       "      <td>0</td>\n",
       "      <td>0</td>\n",
       "      <td>0</td>\n",
       "      <td>0</td>\n",
       "      <td>0</td>\n",
       "      <td>0</td>\n",
       "      <td>0</td>\n",
       "      <td>0</td>\n",
       "      <td>0</td>\n",
       "    </tr>\n",
       "    <tr>\n",
       "      <th>372448</th>\n",
       "      <td>25</td>\n",
       "      <td>0</td>\n",
       "      <td>0</td>\n",
       "      <td>0</td>\n",
       "      <td>0</td>\n",
       "      <td>0</td>\n",
       "      <td>0</td>\n",
       "      <td>0</td>\n",
       "      <td>0</td>\n",
       "      <td>0</td>\n",
       "      <td>...</td>\n",
       "      <td>0</td>\n",
       "      <td>0</td>\n",
       "      <td>0</td>\n",
       "      <td>0</td>\n",
       "      <td>0</td>\n",
       "      <td>0</td>\n",
       "      <td>0</td>\n",
       "      <td>0</td>\n",
       "      <td>0</td>\n",
       "      <td>0</td>\n",
       "    </tr>\n",
       "    <tr>\n",
       "      <th>372449</th>\n",
       "      <td>25</td>\n",
       "      <td>0</td>\n",
       "      <td>0</td>\n",
       "      <td>0</td>\n",
       "      <td>0</td>\n",
       "      <td>0</td>\n",
       "      <td>0</td>\n",
       "      <td>0</td>\n",
       "      <td>0</td>\n",
       "      <td>0</td>\n",
       "      <td>...</td>\n",
       "      <td>0</td>\n",
       "      <td>0</td>\n",
       "      <td>0</td>\n",
       "      <td>0</td>\n",
       "      <td>0</td>\n",
       "      <td>0</td>\n",
       "      <td>0</td>\n",
       "      <td>0</td>\n",
       "      <td>0</td>\n",
       "      <td>0</td>\n",
       "    </tr>\n",
       "  </tbody>\n",
       "</table>\n",
       "<p>372450 rows × 785 columns</p>\n",
       "</div>"
      ],
      "text/plain": [
       "         0  0.1  0.2  0.3  0.4  0.5  0.6  0.7  0.8  0.9  ...  0.639  0.640  \\\n",
       "0        0    0    0    0    0    0    0    0    0    0  ...      0      0   \n",
       "1        0    0    0    0    0    0    0    0    0    0  ...      0      0   \n",
       "2        0    0    0    0    0    0    0    0    0    0  ...      0      0   \n",
       "3        0    0    0    0    0    0    0    0    0    0  ...      0      0   \n",
       "4        0    0    0    0    0    0    0    0    0    0  ...      0      0   \n",
       "...     ..  ...  ...  ...  ...  ...  ...  ...  ...  ...  ...    ...    ...   \n",
       "372445  25    0    0    0    0    0    0    0    0    0  ...      0      0   \n",
       "372446  25    0    0    0    0    0    0    0    0    0  ...      0      0   \n",
       "372447  25    0    0    0    0    0    0    0    0    0  ...      0      0   \n",
       "372448  25    0    0    0    0    0    0    0    0    0  ...      0      0   \n",
       "372449  25    0    0    0    0    0    0    0    0    0  ...      0      0   \n",
       "\n",
       "        0.641  0.642  0.643  0.644  0.645  0.646  0.647  0.648  \n",
       "0           0      0      0      0      0      0      0      0  \n",
       "1           0      0      0      0      0      0      0      0  \n",
       "2           0      0      0      0      0      0      0      0  \n",
       "3           0      0      0      0      0      0      0      0  \n",
       "4           0      0      0      0      0      0      0      0  \n",
       "...       ...    ...    ...    ...    ...    ...    ...    ...  \n",
       "372445      0      0      0      0      0      0      0      0  \n",
       "372446      0      0      0      0      0      0      0      0  \n",
       "372447      0      0      0      0      0      0      0      0  \n",
       "372448      0      0      0      0      0      0      0      0  \n",
       "372449      0      0      0      0      0      0      0      0  \n",
       "\n",
       "[372450 rows x 785 columns]"
      ]
     },
     "execution_count": 2,
     "metadata": {},
     "output_type": "execute_result"
    }
   ],
   "source": [
    "# load data\n",
    "data = pd.read_csv('../input/az-handwritten-alphabets-in-csv-format/A_Z Handwritten Data.csv')\n",
    "data"
   ]
  },
  {
   "cell_type": "code",
   "execution_count": 3,
   "id": "3783da43",
   "metadata": {
    "execution": {
     "iopub.execute_input": "2023-05-26T06:24:08.734458Z",
     "iopub.status.busy": "2023-05-26T06:24:08.733859Z",
     "iopub.status.idle": "2023-05-26T06:24:08.786807Z",
     "shell.execute_reply": "2023-05-26T06:24:08.785824Z"
    },
    "papermill": {
     "duration": 0.064391,
     "end_time": "2023-05-26T06:24:08.789269",
     "exception": false,
     "start_time": "2023-05-26T06:24:08.724878",
     "status": "completed"
    },
    "tags": []
   },
   "outputs": [
    {
     "name": "stdout",
     "output_type": "stream",
     "text": [
      "<class 'pandas.core.frame.DataFrame'>\n",
      "RangeIndex: 372450 entries, 0 to 372449\n",
      "Columns: 785 entries, 0 to 0.648\n",
      "dtypes: int64(785)\n",
      "memory usage: 2.2 GB\n"
     ]
    }
   ],
   "source": [
    "# data info\n",
    "data.info()"
   ]
  },
  {
   "cell_type": "code",
   "execution_count": 4,
   "id": "7894a0a4",
   "metadata": {
    "execution": {
     "iopub.execute_input": "2023-05-26T06:24:08.805350Z",
     "iopub.status.busy": "2023-05-26T06:24:08.804859Z",
     "iopub.status.idle": "2023-05-26T06:24:08.815885Z",
     "shell.execute_reply": "2023-05-26T06:24:08.814758Z"
    },
    "papermill": {
     "duration": 0.021922,
     "end_time": "2023-05-26T06:24:08.818540",
     "exception": false,
     "start_time": "2023-05-26T06:24:08.796618",
     "status": "completed"
    },
    "tags": []
   },
   "outputs": [
    {
     "data": {
      "text/plain": [
       "array([ 0,  1,  2,  3,  4,  5,  6,  7,  8,  9, 10, 11, 12, 13, 14, 15, 16,\n",
       "       17, 18, 19, 20, 21, 22, 23, 24, 25])"
      ]
     },
     "execution_count": 4,
     "metadata": {},
     "output_type": "execute_result"
    }
   ],
   "source": [
    "# get classes (first column i.e 0 contains labels)\n",
    "data['0'].unique()"
   ]
  },
  {
   "cell_type": "code",
   "execution_count": 5,
   "id": "4705654f",
   "metadata": {
    "execution": {
     "iopub.execute_input": "2023-05-26T06:24:08.834984Z",
     "iopub.status.busy": "2023-05-26T06:24:08.834139Z",
     "iopub.status.idle": "2023-05-26T06:24:08.843387Z",
     "shell.execute_reply": "2023-05-26T06:24:08.842255Z"
    },
    "papermill": {
     "duration": 0.020341,
     "end_time": "2023-05-26T06:24:08.846007",
     "exception": false,
     "start_time": "2023-05-26T06:24:08.825666",
     "status": "completed"
    },
    "tags": []
   },
   "outputs": [
    {
     "data": {
      "text/plain": [
       "{0: 'A',\n",
       " 1: 'B',\n",
       " 2: 'C',\n",
       " 3: 'D',\n",
       " 4: 'E',\n",
       " 5: 'F',\n",
       " 6: 'G',\n",
       " 7: 'H',\n",
       " 8: 'I',\n",
       " 9: 'J',\n",
       " 10: 'K',\n",
       " 11: 'L',\n",
       " 12: 'M',\n",
       " 13: 'N',\n",
       " 14: 'O',\n",
       " 15: 'P',\n",
       " 16: 'Q',\n",
       " 17: 'R',\n",
       " 18: 'S',\n",
       " 19: 'T',\n",
       " 20: 'U',\n",
       " 21: 'V',\n",
       " 22: 'W',\n",
       " 23: 'X',\n",
       " 24: 'Y',\n",
       " 25: 'Z'}"
      ]
     },
     "execution_count": 5,
     "metadata": {},
     "output_type": "execute_result"
    }
   ],
   "source": [
    "# classes hashmap\n",
    "classes = {i:chr(i+65) for i in range(26)}\n",
    "classes"
   ]
  },
  {
   "cell_type": "code",
   "execution_count": 6,
   "id": "dbf34b62",
   "metadata": {
    "execution": {
     "iopub.execute_input": "2023-05-26T06:24:08.862209Z",
     "iopub.status.busy": "2023-05-26T06:24:08.861726Z",
     "iopub.status.idle": "2023-05-26T06:24:08.867950Z",
     "shell.execute_reply": "2023-05-26T06:24:08.866608Z"
    },
    "papermill": {
     "duration": 0.017411,
     "end_time": "2023-05-26T06:24:08.870671",
     "exception": false,
     "start_time": "2023-05-26T06:24:08.853260",
     "status": "completed"
    },
    "tags": []
   },
   "outputs": [],
   "source": [
    "# get images (x) & labels (y)\n",
    "# the first column contains labels, while the remaining are the flattened array of 28 x 28 image pixels\n",
    "y = data.values[:, 0]\n",
    "x = data.values[:, 1:]"
   ]
  },
  {
   "cell_type": "code",
   "execution_count": 7,
   "id": "1d5dcb2c",
   "metadata": {
    "execution": {
     "iopub.execute_input": "2023-05-26T06:24:08.886729Z",
     "iopub.status.busy": "2023-05-26T06:24:08.886270Z",
     "iopub.status.idle": "2023-05-26T06:24:08.891868Z",
     "shell.execute_reply": "2023-05-26T06:24:08.890658Z"
    },
    "papermill": {
     "duration": 0.016457,
     "end_time": "2023-05-26T06:24:08.894325",
     "exception": false,
     "start_time": "2023-05-26T06:24:08.877868",
     "status": "completed"
    },
    "tags": []
   },
   "outputs": [],
   "source": [
    "# reshape images \n",
    "x = np.reshape(x, (x.shape[0], 28, 28, 1))  "
   ]
  },
  {
   "cell_type": "code",
   "execution_count": 8,
   "id": "76722278",
   "metadata": {
    "execution": {
     "iopub.execute_input": "2023-05-26T06:24:08.911128Z",
     "iopub.status.busy": "2023-05-26T06:24:08.910333Z",
     "iopub.status.idle": "2023-05-26T06:24:14.203074Z",
     "shell.execute_reply": "2023-05-26T06:24:14.201798Z"
    },
    "papermill": {
     "duration": 5.304406,
     "end_time": "2023-05-26T06:24:14.206162",
     "exception": false,
     "start_time": "2023-05-26T06:24:08.901756",
     "status": "completed"
    },
    "tags": []
   },
   "outputs": [],
   "source": [
    "# split data\n",
    "x_train, x_test, y_train, y_test = train_test_split(x, y, test_size=0.2)"
   ]
  },
  {
   "cell_type": "code",
   "execution_count": 9,
   "id": "48910c10",
   "metadata": {
    "execution": {
     "iopub.execute_input": "2023-05-26T06:24:14.224226Z",
     "iopub.status.busy": "2023-05-26T06:24:14.223758Z",
     "iopub.status.idle": "2023-05-26T06:24:14.229666Z",
     "shell.execute_reply": "2023-05-26T06:24:14.228514Z"
    },
    "id": "cNm7Wu5gFJza",
    "papermill": {
     "duration": 0.016952,
     "end_time": "2023-05-26T06:24:14.231966",
     "exception": false,
     "start_time": "2023-05-26T06:24:14.215014",
     "status": "completed"
    },
    "tags": []
   },
   "outputs": [],
   "source": [
    "# training & testing generators\n",
    "datagen_train = ImageDataGenerator(rescale=1./255,\n",
    "                                   validation_split=0.2,\n",
    "                                   rotation_range=15,\n",
    "                                   width_shift_range=0.1,\n",
    "                                   height_shift_range=0.1,\n",
    "                                   shear_range=0.1,\n",
    "                                   zoom_range=0.2,\n",
    "                                   horizontal_flip=False,\n",
    "                                   fill_mode='nearest')\n",
    "datagen_test = ImageDataGenerator(rescale=1./255)"
   ]
  },
  {
   "cell_type": "code",
   "execution_count": 10,
   "id": "93107a27",
   "metadata": {
    "execution": {
     "iopub.execute_input": "2023-05-26T06:24:14.248534Z",
     "iopub.status.busy": "2023-05-26T06:24:14.247973Z",
     "iopub.status.idle": "2023-05-26T06:24:15.014662Z",
     "shell.execute_reply": "2023-05-26T06:24:15.013737Z"
    },
    "id": "4iIN4bY2FNKq",
    "papermill": {
     "duration": 0.778339,
     "end_time": "2023-05-26T06:24:15.017378",
     "exception": false,
     "start_time": "2023-05-26T06:24:14.239039",
     "status": "completed"
    },
    "tags": []
   },
   "outputs": [],
   "source": [
    "data_train = datagen_train.flow(x_train, y_train, subset='training', \n",
    "                                batch_size=64, shuffle=True)\n",
    "data_valid = datagen_train.flow(x_train, y_train, subset='validation',\n",
    "                                batch_size=64, shuffle=True)\n",
    "data_test = datagen_test.flow(x_test, y_test, batch_size=1, shuffle=False)"
   ]
  },
  {
   "cell_type": "markdown",
   "id": "d3af5ab7",
   "metadata": {
    "id": "ss1hXqLXFBL8",
    "papermill": {
     "duration": 0.006784,
     "end_time": "2023-05-26T06:24:15.031846",
     "exception": false,
     "start_time": "2023-05-26T06:24:15.025062",
     "status": "completed"
    },
    "tags": []
   },
   "source": [
    "### Model Develpment & Training"
   ]
  },
  {
   "cell_type": "code",
   "execution_count": 11,
   "id": "b5b83a31",
   "metadata": {
    "execution": {
     "iopub.execute_input": "2023-05-26T06:24:15.048992Z",
     "iopub.status.busy": "2023-05-26T06:24:15.047804Z",
     "iopub.status.idle": "2023-05-26T06:24:15.310933Z",
     "shell.execute_reply": "2023-05-26T06:24:15.309508Z"
    },
    "papermill": {
     "duration": 0.281559,
     "end_time": "2023-05-26T06:24:15.320459",
     "exception": false,
     "start_time": "2023-05-26T06:24:15.038900",
     "status": "completed"
    },
    "tags": []
   },
   "outputs": [
    {
     "name": "stdout",
     "output_type": "stream",
     "text": [
      "Model: \"sequential\"\n",
      "_________________________________________________________________\n",
      " Layer (type)                Output Shape              Param #   \n",
      "=================================================================\n",
      " conv2d (Conv2D)             (None, 26, 26, 32)        320       \n",
      "                                                                 \n",
      " max_pooling2d (MaxPooling2D  (None, 13, 13, 32)       0         \n",
      " )                                                               \n",
      "                                                                 \n",
      " conv2d_1 (Conv2D)           (None, 11, 11, 32)        9248      \n",
      "                                                                 \n",
      " max_pooling2d_1 (MaxPooling  (None, 5, 5, 32)         0         \n",
      " 2D)                                                             \n",
      "                                                                 \n",
      " flatten (Flatten)           (None, 800)               0         \n",
      "                                                                 \n",
      " dense (Dense)               (None, 512)               410112    \n",
      "                                                                 \n",
      " dense_1 (Dense)             (None, 26)                13338     \n",
      "                                                                 \n",
      "=================================================================\n",
      "Total params: 433,018\n",
      "Trainable params: 433,018\n",
      "Non-trainable params: 0\n",
      "_________________________________________________________________\n"
     ]
    }
   ],
   "source": [
    "model = Sequential([\n",
    "                Conv2D(32, (3,3), activation='relu', input_shape=(28, 28, 1)),\n",
    "                MaxPooling2D(2,2),\n",
    "                Conv2D(32, (3,3), activation='relu'),\n",
    "                MaxPooling2D(2,2), \n",
    "                Flatten(), \n",
    "                Dense(512, activation='relu'), \n",
    "                Dense(26, activation='softmax')])  # 26 = total english letters\n",
    "model.summary()"
   ]
  },
  {
   "cell_type": "code",
   "execution_count": 12,
   "id": "543a0223",
   "metadata": {
    "execution": {
     "iopub.execute_input": "2023-05-26T06:24:15.339534Z",
     "iopub.status.busy": "2023-05-26T06:24:15.339060Z",
     "iopub.status.idle": "2023-05-26T06:24:15.358912Z",
     "shell.execute_reply": "2023-05-26T06:24:15.357802Z"
    },
    "papermill": {
     "duration": 0.0327,
     "end_time": "2023-05-26T06:24:15.361573",
     "exception": false,
     "start_time": "2023-05-26T06:24:15.328873",
     "status": "completed"
    },
    "tags": []
   },
   "outputs": [],
   "source": [
    "# compile model\n",
    "model.compile(optimizer=RMSprop(learning_rate=1e-4),\n",
    "              loss='sparse_categorical_crossentropy',\n",
    "              metrics=['accuracy'])"
   ]
  },
  {
   "cell_type": "code",
   "execution_count": 13,
   "id": "2576af1a",
   "metadata": {
    "execution": {
     "iopub.execute_input": "2023-05-26T06:24:15.380999Z",
     "iopub.status.busy": "2023-05-26T06:24:15.380554Z",
     "iopub.status.idle": "2023-05-26T06:27:38.541271Z",
     "shell.execute_reply": "2023-05-26T06:27:38.539803Z"
    },
    "id": "1ZPiWeOWFRfZ",
    "papermill": {
     "duration": 203.173743,
     "end_time": "2023-05-26T06:27:38.544332",
     "exception": false,
     "start_time": "2023-05-26T06:24:15.370589",
     "status": "completed"
    },
    "tags": []
   },
   "outputs": [
    {
     "name": "stdout",
     "output_type": "stream",
     "text": [
      "Epoch 1/10\n",
      "500/500 - 19s - loss: 2.0252 - accuracy: 0.4245 - val_loss: 1.4404 - val_accuracy: 0.5741 - 19s/epoch - 38ms/step\n",
      "Epoch 2/10\n",
      "500/500 - 18s - loss: 1.2506 - accuracy: 0.6408 - val_loss: 1.0443 - val_accuracy: 0.7028 - 18s/epoch - 36ms/step\n",
      "Epoch 3/10\n",
      "500/500 - 18s - loss: 0.8631 - accuracy: 0.7564 - val_loss: 0.7614 - val_accuracy: 0.7847 - 18s/epoch - 36ms/step\n",
      "Epoch 4/10\n",
      "500/500 - 18s - loss: 0.6583 - accuracy: 0.8141 - val_loss: 0.5708 - val_accuracy: 0.8366 - 18s/epoch - 36ms/step\n",
      "Epoch 5/10\n",
      "500/500 - 18s - loss: 0.5328 - accuracy: 0.8507 - val_loss: 0.4663 - val_accuracy: 0.8669 - 18s/epoch - 36ms/step\n",
      "Epoch 6/10\n",
      "500/500 - 18s - loss: 0.4546 - accuracy: 0.8708 - val_loss: 0.4764 - val_accuracy: 0.8603 - 18s/epoch - 36ms/step\n",
      "Epoch 7/10\n",
      "500/500 - 18s - loss: 0.4050 - accuracy: 0.8834 - val_loss: 0.4073 - val_accuracy: 0.8800 - 18s/epoch - 36ms/step\n",
      "Epoch 8/10\n",
      "500/500 - 18s - loss: 0.3694 - accuracy: 0.8957 - val_loss: 0.3467 - val_accuracy: 0.8997 - 18s/epoch - 36ms/step\n",
      "Epoch 9/10\n",
      "500/500 - 18s - loss: 0.3403 - accuracy: 0.9013 - val_loss: 0.2956 - val_accuracy: 0.9184 - 18s/epoch - 35ms/step\n",
      "Epoch 10/10\n",
      "500/500 - 18s - loss: 0.3078 - accuracy: 0.9102 - val_loss: 0.2969 - val_accuracy: 0.9134 - 18s/epoch - 35ms/step\n"
     ]
    }
   ],
   "source": [
    "# fit model \n",
    "history = model.fit(data_train, \n",
    "                    epochs=10,\n",
    "                    validation_data=data_valid,\n",
    "                    steps_per_epoch=500,\n",
    "                    validation_steps=50,\n",
    "                    verbose=2)"
   ]
  },
  {
   "cell_type": "markdown",
   "id": "fd3c717a",
   "metadata": {
    "papermill": {
     "duration": 0.009344,
     "end_time": "2023-05-26T06:27:38.563476",
     "exception": false,
     "start_time": "2023-05-26T06:27:38.554132",
     "status": "completed"
    },
    "tags": []
   },
   "source": [
    "### Model Evaluation"
   ]
  },
  {
   "cell_type": "code",
   "execution_count": 14,
   "id": "d5631aae",
   "metadata": {
    "execution": {
     "iopub.execute_input": "2023-05-26T06:27:38.585447Z",
     "iopub.status.busy": "2023-05-26T06:27:38.584434Z",
     "iopub.status.idle": "2023-05-26T06:30:45.905208Z",
     "shell.execute_reply": "2023-05-26T06:30:45.903926Z"
    },
    "papermill": {
     "duration": 187.334439,
     "end_time": "2023-05-26T06:30:45.907685",
     "exception": false,
     "start_time": "2023-05-26T06:27:38.573246",
     "status": "completed"
    },
    "tags": []
   },
   "outputs": [
    {
     "name": "stdout",
     "output_type": "stream",
     "text": [
      "74490/74490 [==============================] - 187s 3ms/step - loss: 0.1433 - accuracy: 0.9609\n"
     ]
    },
    {
     "data": {
      "text/plain": [
       "{'loss': 0.14331185817718506, 'accuracy': 0.9608672261238098}"
      ]
     },
     "execution_count": 14,
     "metadata": {},
     "output_type": "execute_result"
    }
   ],
   "source": [
    "# loss and accuracy\n",
    "eval_model = model.evaluate(data_test, return_dict=True)\n",
    "eval_model"
   ]
  },
  {
   "cell_type": "code",
   "execution_count": 15,
   "id": "07ddb802",
   "metadata": {
    "execution": {
     "iopub.execute_input": "2023-05-26T06:30:46.493029Z",
     "iopub.status.busy": "2023-05-26T06:30:46.492161Z",
     "iopub.status.idle": "2023-05-26T06:30:46.820054Z",
     "shell.execute_reply": "2023-05-26T06:30:46.818795Z"
    },
    "papermill": {
     "duration": 0.674517,
     "end_time": "2023-05-26T06:30:46.822864",
     "exception": false,
     "start_time": "2023-05-26T06:30:46.148347",
     "status": "completed"
    },
    "tags": []
   },
   "outputs": [
    {
     "data": {
      "text/plain": [
       "Text(0.5, 1.0, 'Training & Validation Loss')"
      ]
     },
     "execution_count": 15,
     "metadata": {},
     "output_type": "execute_result"
    },
    {
     "data": {
      "image/png": "[encoded data removed]",
      "text/plain": [
       "<Figure size 500x400 with 1 Axes>"
      ]
     },
     "metadata": {},
     "output_type": "display_data"
    }
   ],
   "source": [
    "# training and validation loss\n",
    "plt.figure(figsize=(5, 4))\n",
    "plt.plot(history.history['loss'], label='training')\n",
    "plt.plot(history.history['val_loss'], label='validation')\n",
    "plt.xlabel('epochs')\n",
    "plt.ylabel('loss')\n",
    "plt.legend(loc='best')\n",
    "plt.title('Training & Validation Loss')"
   ]
  },
  {
   "cell_type": "markdown",
   "id": "1f42f3a8",
   "metadata": {
    "id": "Rf4g1bVwFZWH",
    "papermill": {
     "duration": 0.241531,
     "end_time": "2023-05-26T06:30:47.306593",
     "exception": false,
     "start_time": "2023-05-26T06:30:47.065062",
     "status": "completed"
    },
    "tags": []
   },
   "source": [
    "### Testing an image"
   ]
  },
  {
   "cell_type": "code",
   "execution_count": 16,
   "id": "1c4ecbed",
   "metadata": {
    "execution": {
     "iopub.execute_input": "2023-05-26T06:30:47.798513Z",
     "iopub.status.busy": "2023-05-26T06:30:47.797045Z",
     "iopub.status.idle": "2023-05-26T06:30:47.803328Z",
     "shell.execute_reply": "2023-05-26T06:30:47.802336Z"
    },
    "papermill": {
     "duration": 0.258785,
     "end_time": "2023-05-26T06:30:47.805968",
     "exception": false,
     "start_time": "2023-05-26T06:30:47.547183",
     "status": "completed"
    },
    "tags": []
   },
   "outputs": [],
   "source": [
    "# get an image and its actual label/class\n",
    "# the batch size in data_test is 1, each batch contains 1 sample \n",
    "# each sample is a 2d nested array. index 0= image features(x), index 1= label(y)\n",
    "test_img = data_test[0][0]          # data_test[i][x] i=ith sample, x=features\n",
    "test_label = data_test[0][1][0]     # data_test[i][y] i=ith sample, y=label array"
   ]
  },
  {
   "cell_type": "code",
   "execution_count": 17,
   "id": "763a8033",
   "metadata": {
    "execution": {
     "iopub.execute_input": "2023-05-26T06:30:48.295640Z",
     "iopub.status.busy": "2023-05-26T06:30:48.294767Z",
     "iopub.status.idle": "2023-05-26T06:30:48.519499Z",
     "shell.execute_reply": "2023-05-26T06:30:48.518243Z"
    },
    "papermill": {
     "duration": 0.472087,
     "end_time": "2023-05-26T06:30:48.522155",
     "exception": false,
     "start_time": "2023-05-26T06:30:48.050068",
     "status": "completed"
    },
    "tags": []
   },
   "outputs": [
    {
     "name": "stdout",
     "output_type": "stream",
     "text": [
      "1/1 [==============================] - 0s 150ms/step\n"
     ]
    }
   ],
   "source": [
    "# predict label\n",
    "test_label_pred = np.argmax(model.predict(test_img))"
   ]
  },
  {
   "cell_type": "code",
   "execution_count": 18,
   "id": "d22edd52",
   "metadata": {
    "execution": {
     "iopub.execute_input": "2023-05-26T06:30:49.010646Z",
     "iopub.status.busy": "2023-05-26T06:30:49.009916Z",
     "iopub.status.idle": "2023-05-26T06:30:49.210417Z",
     "shell.execute_reply": "2023-05-26T06:30:49.209079Z"
    },
    "papermill": {
     "duration": 0.449719,
     "end_time": "2023-05-26T06:30:49.213283",
     "exception": false,
     "start_time": "2023-05-26T06:30:48.763564",
     "status": "completed"
    },
    "tags": []
   },
   "outputs": [
    {
     "data": {
      "text/plain": [
       "Text(0.5, 1.0, 'actual:O, predicted:O')"
      ]
     },
     "execution_count": 18,
     "metadata": {},
     "output_type": "execute_result"
    },
    {
     "data": {
      "image/png": "[encoded data removed]",
      "text/plain": [
       "<Figure size 200x200 with 1 Axes>"
      ]
     },
     "metadata": {},
     "output_type": "display_data"
    }
   ],
   "source": [
    "# plot results\n",
    "plt.figure(figsize=(2, 2))\n",
    "plt.imshow(test_img.reshape(28, 28), cmap='binary')\n",
    "plt.title(f'actual:{classes[test_label]}, predicted:{classes[test_label_pred]}')"
   ]
  },
  {
   "cell_type": "markdown",
   "id": "ab3f1108",
   "metadata": {
    "papermill": {
     "duration": 0.242628,
     "end_time": "2023-05-26T06:30:49.779104",
     "exception": false,
     "start_time": "2023-05-26T06:30:49.536476",
     "status": "completed"
    },
    "tags": []
   },
   "source": [
    "### Model Predictions"
   ]
  },
  {
   "cell_type": "code",
   "execution_count": 19,
   "id": "bbb29ad9",
   "metadata": {
    "execution": {
     "iopub.execute_input": "2023-05-26T06:30:50.271892Z",
     "iopub.status.busy": "2023-05-26T06:30:50.270646Z",
     "iopub.status.idle": "2023-05-26T06:30:54.404807Z",
     "shell.execute_reply": "2023-05-26T06:30:54.403629Z"
    },
    "papermill": {
     "duration": 4.383821,
     "end_time": "2023-05-26T06:30:54.407376",
     "exception": false,
     "start_time": "2023-05-26T06:30:50.023555",
     "status": "completed"
    },
    "tags": []
   },
   "outputs": [
    {
     "name": "stdout",
     "output_type": "stream",
     "text": [
      "1/1 [==============================] - 0s 30ms/step\n",
      "1/1 [==============================] - 0s 30ms/step\n",
      "1/1 [==============================] - 0s 31ms/step\n",
      "1/1 [==============================] - 0s 31ms/step\n",
      "1/1 [==============================] - 0s 31ms/step\n",
      "1/1 [==============================] - 0s 33ms/step\n",
      "1/1 [==============================] - 0s 31ms/step\n",
      "1/1 [==============================] - 0s 32ms/step\n",
      "1/1 [==============================] - 0s 30ms/step\n",
      "1/1 [==============================] - 0s 29ms/step\n",
      "1/1 [==============================] - 0s 29ms/step\n",
      "1/1 [==============================] - 0s 28ms/step\n",
      "1/1 [==============================] - 0s 27ms/step\n",
      "1/1 [==============================] - 0s 29ms/step\n",
      "1/1 [==============================] - 0s 27ms/step\n",
      "1/1 [==============================] - 0s 27ms/step\n",
      "1/1 [==============================] - 0s 27ms/step\n",
      "1/1 [==============================] - 0s 25ms/step\n",
      "1/1 [==============================] - 0s 26ms/step\n",
      "1/1 [==============================] - 0s 26ms/step\n",
      "1/1 [==============================] - 0s 27ms/step\n",
      "1/1 [==============================] - 0s 26ms/step\n",
      "1/1 [==============================] - 0s 26ms/step\n",
      "1/1 [==============================] - 0s 26ms/step\n",
      "1/1 [==============================] - 0s 26ms/step\n",
      "1/1 [==============================] - 0s 26ms/step\n",
      "1/1 [==============================] - 0s 26ms/step\n",
      "1/1 [==============================] - 0s 26ms/step\n",
      "1/1 [==============================] - 0s 27ms/step\n"
     ]
    },
    {
     "data": {
      "image/png": "[encoded data removed]",
      "text/plain": [
       "<Figure size 2000x2000 with 29 Axes>"
      ]
     },
     "metadata": {},
     "output_type": "display_data"
    }
   ],
   "source": [
    "plt.figure(figsize=(20, 20))\n",
    "for i in range(1, 30):\n",
    "    x = data_test[i][0]\n",
    "    y = data_test[i][1][0]\n",
    "    y_pred = np.argmax(model.predict(x))\n",
    "    plt.subplot(10, 10, i)\n",
    "    plt.imshow(x.reshape(28, 28), cmap='binary')\n",
    "    plt.title(f\"y: {classes[y]}, y\\u0302: {classes[y_pred]}\") # y=actual, ŷ=pred\n",
    "    plt.axis('off')\n",
    "plt.tight_layout()\n",
    "plt.show()"
   ]
  }
 ],
 "metadata": {
  "kernelspec": {
   "display_name": "Python 3",
   "language": "python",
   "name": "python3"
  },
  "language_info": {
   "codemirror_mode": {
    "name": "ipython",
    "version": 3
   },
   "file_extension": ".py",
   "mimetype": "text/x-python",
   "name": "python",
   "nbconvert_exporter": "python",
   "pygments_lexer": "ipython3",
   "version": "3.10.10"
  },
  "papermill": {
   "default_parameters": {},
   "duration": 471.632267,
   "end_time": "2023-05-26T06:30:57.655644",
   "environment_variables": {},
   "exception": null,
   "input_path": "__notebook__.ipynb",
   "output_path": "__notebook__.ipynb",
   "parameters": {},
   "start_time": "2023-05-26T06:23:06.023377",
   "version": "2.4.0"
  }
 },
 "nbformat": 4,
 "nbformat_minor": 5
}
