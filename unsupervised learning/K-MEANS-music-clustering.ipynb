{
 "cells": [
  {
   "cell_type": "markdown",
   "id": "e1290023",
   "metadata": {
    "execution": {
     "iopub.execute_input": "2022-03-17T16:37:31.917311Z",
     "iopub.status.busy": "2022-03-17T16:37:31.917008Z",
     "iopub.status.idle": "2022-03-17T16:37:31.920698Z",
     "shell.execute_reply": "2022-03-17T16:37:31.919873Z",
     "shell.execute_reply.started": "2022-03-17T16:37:31.917281Z"
    },
    "papermill": {
     "duration": 0.053241,
     "end_time": "2022-08-11T14:02:50.441963",
     "exception": false,
     "start_time": "2022-08-11T14:02:50.388722",
     "status": "completed"
    },
    "tags": []
   },
   "source": [
    "# Unsupervised ML Project: Music Clustering\n",
    "Categorize music by similar audio features\n",
    "\n",
    "\n"
   ]
  },
  {
   "cell_type": "markdown",
   "id": "b8c9cae6",
   "metadata": {
    "papermill": {
     "duration": 0.050866,
     "end_time": "2022-08-11T14:02:50.546450",
     "exception": false,
     "start_time": "2022-08-11T14:02:50.495584",
     "status": "completed"
    },
    "tags": []
   },
   "source": [
    "### Problem Statement: \n",
    "With the increased diversity in music, classifying music is hard and current genre classification is not a good option as it is bounded by a wide range of subjectivity. Same track may be labelled as a different genre by different people. Music recommendation engines (MRE) could be improved by removing bias and using descriptive music genres like Netflix descriptive movie genres. Categorizing music by similar audio features would better describe music than existing genres. "
   ]
  },
  {
   "cell_type": "markdown",
   "id": "1930e1fe",
   "metadata": {
    "papermill": {
     "duration": 0.051006,
     "end_time": "2022-08-11T14:02:50.648439",
     "exception": false,
     "start_time": "2022-08-11T14:02:50.597433",
     "status": "completed"
    },
    "tags": []
   },
   "source": [
    "### Approach\n",
    "k-means clustering"
   ]
  },
  {
   "cell_type": "markdown",
   "id": "149cf6cf",
   "metadata": {
    "papermill": {
     "duration": 0.050778,
     "end_time": "2022-08-11T14:02:50.750430",
     "exception": false,
     "start_time": "2022-08-11T14:02:50.699652",
     "status": "completed"
    },
    "tags": []
   },
   "source": [
    "### Data\n",
    "The data used is from the FMA: Free Music Archive (Github https://github.com/mdeff/fma/#fma-a-dataset-for-music-analysis , Kaggle https://www.kaggle.com/datasets/imsparsh/fma-free-music-archive-small-medium).\n",
    "- tracks.csv: per track metadata such as ID, title, artist, genres, tags and play counts, for all 106,574 tracks\n",
    "- genres.csv: all 163 genres with name and parent (used to infer the genre hierarchy and top-level genres)\n",
    "- echonest.csv: audio features provided by Echonest (now Spotify) for a subset of 13,129 tracks"
   ]
  },
  {
   "cell_type": "markdown",
   "id": "6ccac8c3",
   "metadata": {
    "papermill": {
     "duration": 0.051612,
     "end_time": "2022-08-11T14:02:50.853079",
     "exception": false,
     "start_time": "2022-08-11T14:02:50.801467",
     "status": "completed"
    },
    "tags": []
   },
   "source": [
    "### Audio Features\n",
    "audio features defined by @Spotify:\n",
    "- acousticness: [0–1] Confidence measure of whether the track is acoustic.\n",
    "- danceability: [0–1] Describes how suitable a track is for dancing based on musical attributes including tempo, rhythm, stability, beat strength, and overall regularity.\n",
    "- energy: [0–1] Perceptual measure of intensity and activity. Energetic tracks feel fast, loud, and noisy (e.g. death metal: high energy, Bach prelude: low energy).\n",
    "- instrumentalness: [0–1] Predicts whether a track contains no vocals (values above 0.5 represent instrumental tracks whereas rap songs would have a score close to 0).\n",
    "- liveness: [0–1] Detects the presence of an audience in the recording.\n",
    "- loudness: [-60–0 dB] The average volume across an entire track.\n",
    "- speechiness: [0–1] Detects the presence of spoken words in a track (values above 0.66 describe tracks that are probably made entirely of spoken words, 0.33–0.66 describe tracks that may contain both music and speech, and values below 0.33 most likely represent music and other non-speech-like tracks).\n",
    "- valence: [0–1] Describes the musical positiveness conveyed by a track. Tracks with high valence sound more positive (e.g. happy, cheerful, euphoric), while tracks with low valence sound more negative (e.g. sad, depressed, angry).\n",
    "- tempo: [0–300 BPM] The speed or pace of a given piece, as derived from the estimated average beat duration."
   ]
  },
  {
   "cell_type": "code",
   "execution_count": 1,
   "id": "0d633055",
   "metadata": {
    "execution": {
     "iopub.execute_input": "2022-08-11T14:02:50.961075Z",
     "iopub.status.busy": "2022-08-11T14:02:50.959869Z",
     "iopub.status.idle": "2022-08-11T14:02:52.513684Z",
     "shell.execute_reply": "2022-08-11T14:02:52.512850Z",
     "shell.execute_reply.started": "2022-08-11T13:45:23.716365Z"
    },
    "papermill": {
     "duration": 1.609519,
     "end_time": "2022-08-11T14:02:52.513858",
     "exception": false,
     "start_time": "2022-08-11T14:02:50.904339",
     "status": "completed"
    },
    "tags": []
   },
   "outputs": [],
   "source": [
    "# libraries \n",
    "import pandas as pd\n",
    "from sklearn.preprocessing import StandardScaler\n",
    "import matplotlib.pyplot as plt\n",
    "import seaborn as sns\n",
    "from sklearn.cluster import KMeans\n",
    "from sklearn.metrics import silhouette_score\n",
    "from sklearn.decomposition import PCA\n",
    "import warnings\n",
    "warnings.filterwarnings(\"ignore\")"
   ]
  },
  {
   "cell_type": "code",
   "execution_count": 2,
   "id": "93fd427f",
   "metadata": {
    "execution": {
     "iopub.execute_input": "2022-08-11T14:02:52.623665Z",
     "iopub.status.busy": "2022-08-11T14:02:52.623022Z",
     "iopub.status.idle": "2022-08-11T14:02:59.344983Z",
     "shell.execute_reply": "2022-08-11T14:02:59.343833Z",
     "shell.execute_reply.started": "2022-08-11T13:45:25.233997Z"
    },
    "papermill": {
     "duration": 6.775529,
     "end_time": "2022-08-11T14:02:59.345151",
     "exception": false,
     "start_time": "2022-08-11T14:02:52.569622",
     "status": "completed"
    },
    "tags": []
   },
   "outputs": [],
   "source": [
    "# datasets\n",
    "tracks = pd.read_csv('/kaggle/input/fma-free-music-archive-small-medium/fma_metadata/tracks.csv', index_col=0, header=[0, 1])\n",
    "genres = pd.read_csv('/kaggle/input/fma-free-music-archive-small-medium/fma_metadata/genres.csv')\n",
    "spotify_data = pd.read_csv('/kaggle/input/fma-free-music-archive-small-medium/fma_metadata/echonest.csv', index_col=0, header=[0, 1])"
   ]
  },
  {
   "cell_type": "markdown",
   "id": "9d900b7c",
   "metadata": {
    "papermill": {
     "duration": 0.050875,
     "end_time": "2022-08-11T14:02:59.447914",
     "exception": false,
     "start_time": "2022-08-11T14:02:59.397039",
     "status": "completed"
    },
    "tags": []
   },
   "source": [
    "### Data Understanding"
   ]
  },
  {
   "cell_type": "markdown",
   "id": "d564404a",
   "metadata": {
    "execution": {
     "iopub.execute_input": "2022-03-25T13:29:56.910644Z",
     "iopub.status.busy": "2022-03-25T13:29:56.91037Z",
     "iopub.status.idle": "2022-03-25T13:29:56.914411Z",
     "shell.execute_reply": "2022-03-25T13:29:56.913581Z",
     "shell.execute_reply.started": "2022-03-25T13:29:56.910616Z"
    },
    "papermill": {
     "duration": 0.050951,
     "end_time": "2022-08-11T14:02:59.550193",
     "exception": false,
     "start_time": "2022-08-11T14:02:59.499242",
     "status": "completed"
    },
    "tags": []
   },
   "source": [
    "#### tracks.csv"
   ]
  },
  {
   "cell_type": "code",
   "execution_count": 3,
   "id": "8eaa9dfc",
   "metadata": {
    "execution": {
     "iopub.execute_input": "2022-08-11T14:02:59.660570Z",
     "iopub.status.busy": "2022-08-11T14:02:59.659683Z",
     "iopub.status.idle": "2022-08-11T14:02:59.663750Z",
     "shell.execute_reply": "2022-08-11T14:02:59.664262Z",
     "shell.execute_reply.started": "2022-08-11T13:45:32.557185Z"
    },
    "papermill": {
     "duration": 0.062753,
     "end_time": "2022-08-11T14:02:59.664438",
     "exception": false,
     "start_time": "2022-08-11T14:02:59.601685",
     "status": "completed"
    },
    "tags": []
   },
   "outputs": [
    {
     "data": {
      "text/plain": [
       "(106574, 52)"
      ]
     },
     "execution_count": 3,
     "metadata": {},
     "output_type": "execute_result"
    }
   ],
   "source": [
    "tracks.shape                   # rows & columns"
   ]
  },
  {
   "cell_type": "code",
   "execution_count": 4,
   "id": "94cc98e1",
   "metadata": {
    "execution": {
     "iopub.execute_input": "2022-08-11T14:02:59.774203Z",
     "iopub.status.busy": "2022-08-11T14:02:59.773489Z",
     "iopub.status.idle": "2022-08-11T14:02:59.973601Z",
     "shell.execute_reply": "2022-08-11T14:02:59.974209Z",
     "shell.execute_reply.started": "2022-08-11T13:45:32.567578Z"
    },
    "papermill": {
     "duration": 0.258045,
     "end_time": "2022-08-11T14:02:59.974441",
     "exception": false,
     "start_time": "2022-08-11T14:02:59.716396",
     "status": "completed"
    },
    "tags": []
   },
   "outputs": [
    {
     "name": "stdout",
     "output_type": "stream",
     "text": [
      "<class 'pandas.core.frame.DataFrame'>\n",
      "Int64Index: 106574 entries, 2 to 155320\n",
      "Data columns (total 52 columns):\n",
      " #   Column                       Non-Null Count   Dtype  \n",
      "---  ------                       --------------   -----  \n",
      " 0   (album, comments)            106574 non-null  int64  \n",
      " 1   (album, date_created)        103045 non-null  object \n",
      " 2   (album, date_released)       70294 non-null   object \n",
      " 3   (album, engineer)            15295 non-null   object \n",
      " 4   (album, favorites)           106574 non-null  int64  \n",
      " 5   (album, id)                  106574 non-null  int64  \n",
      " 6   (album, information)         83149 non-null   object \n",
      " 7   (album, listens)             106574 non-null  int64  \n",
      " 8   (album, producer)            18060 non-null   object \n",
      " 9   (album, tags)                106574 non-null  object \n",
      " 10  (album, title)               105549 non-null  object \n",
      " 11  (album, tracks)              106574 non-null  int64  \n",
      " 12  (album, type)                100066 non-null  object \n",
      " 13  (artist, active_year_begin)  22711 non-null   object \n",
      " 14  (artist, active_year_end)    5375 non-null    object \n",
      " 15  (artist, associated_labels)  14271 non-null   object \n",
      " 16  (artist, bio)                71156 non-null   object \n",
      " 17  (artist, comments)           106574 non-null  int64  \n",
      " 18  (artist, date_created)       105718 non-null  object \n",
      " 19  (artist, favorites)          106574 non-null  int64  \n",
      " 20  (artist, id)                 106574 non-null  int64  \n",
      " 21  (artist, latitude)           44544 non-null   float64\n",
      " 22  (artist, location)           70210 non-null   object \n",
      " 23  (artist, longitude)          44544 non-null   float64\n",
      " 24  (artist, members)            46849 non-null   object \n",
      " 25  (artist, name)               106574 non-null  object \n",
      " 26  (artist, related_projects)   13152 non-null   object \n",
      " 27  (artist, tags)               106574 non-null  object \n",
      " 28  (artist, website)            79256 non-null   object \n",
      " 29  (artist, wikipedia_page)     5581 non-null    object \n",
      " 30  (set, split)                 106574 non-null  object \n",
      " 31  (set, subset)                106574 non-null  object \n",
      " 32  (track, bit_rate)            106574 non-null  int64  \n",
      " 33  (track, comments)            106574 non-null  int64  \n",
      " 34  (track, composer)            3670 non-null    object \n",
      " 35  (track, date_created)        106574 non-null  object \n",
      " 36  (track, date_recorded)       6159 non-null    object \n",
      " 37  (track, duration)            106574 non-null  int64  \n",
      " 38  (track, favorites)           106574 non-null  int64  \n",
      " 39  (track, genre_top)           49598 non-null   object \n",
      " 40  (track, genres)              106574 non-null  object \n",
      " 41  (track, genres_all)          106574 non-null  object \n",
      " 42  (track, information)         2349 non-null    object \n",
      " 43  (track, interest)            106574 non-null  int64  \n",
      " 44  (track, language_code)       15024 non-null   object \n",
      " 45  (track, license)             106487 non-null  object \n",
      " 46  (track, listens)             106574 non-null  int64  \n",
      " 47  (track, lyricist)            311 non-null     object \n",
      " 48  (track, number)              106574 non-null  int64  \n",
      " 49  (track, publisher)           1263 non-null    object \n",
      " 50  (track, tags)                106574 non-null  object \n",
      " 51  (track, title)               106573 non-null  object \n",
      "dtypes: float64(2), int64(15), object(35)\n",
      "memory usage: 43.1+ MB\n"
     ]
    }
   ],
   "source": [
    "tracks.info()                  # dtypes and other info"
   ]
  },
  {
   "cell_type": "code",
   "execution_count": 5,
   "id": "2fa27b0c",
   "metadata": {
    "execution": {
     "iopub.execute_input": "2022-08-11T14:03:00.131280Z",
     "iopub.status.busy": "2022-08-11T14:03:00.125795Z",
     "iopub.status.idle": "2022-08-11T14:03:00.175867Z",
     "shell.execute_reply": "2022-08-11T14:03:00.176510Z",
     "shell.execute_reply.started": "2022-08-11T13:45:32.749404Z"
    },
    "papermill": {
     "duration": 0.13415,
     "end_time": "2022-08-11T14:03:00.176697",
     "exception": false,
     "start_time": "2022-08-11T14:03:00.042547",
     "status": "completed"
    },
    "tags": []
   },
   "outputs": [
    {
     "data": {
      "text/html": [
       "<div>\n",
       "<style scoped>\n",
       "    .dataframe tbody tr th:only-of-type {\n",
       "        vertical-align: middle;\n",
       "    }\n",
       "\n",
       "    .dataframe tbody tr th {\n",
       "        vertical-align: top;\n",
       "    }\n",
       "\n",
       "    .dataframe thead tr th {\n",
       "        text-align: left;\n",
       "    }\n",
       "\n",
       "    .dataframe thead tr:last-of-type th {\n",
       "        text-align: right;\n",
       "    }\n",
       "</style>\n",
       "<table border=\"1\" class=\"dataframe\">\n",
       "  <thead>\n",
       "    <tr>\n",
       "      <th></th>\n",
       "      <th colspan=\"10\" halign=\"left\">album</th>\n",
       "      <th>...</th>\n",
       "      <th colspan=\"10\" halign=\"left\">track</th>\n",
       "    </tr>\n",
       "    <tr>\n",
       "      <th></th>\n",
       "      <th>comments</th>\n",
       "      <th>date_created</th>\n",
       "      <th>date_released</th>\n",
       "      <th>engineer</th>\n",
       "      <th>favorites</th>\n",
       "      <th>id</th>\n",
       "      <th>information</th>\n",
       "      <th>listens</th>\n",
       "      <th>producer</th>\n",
       "      <th>tags</th>\n",
       "      <th>...</th>\n",
       "      <th>information</th>\n",
       "      <th>interest</th>\n",
       "      <th>language_code</th>\n",
       "      <th>license</th>\n",
       "      <th>listens</th>\n",
       "      <th>lyricist</th>\n",
       "      <th>number</th>\n",
       "      <th>publisher</th>\n",
       "      <th>tags</th>\n",
       "      <th>title</th>\n",
       "    </tr>\n",
       "    <tr>\n",
       "      <th>track_id</th>\n",
       "      <th></th>\n",
       "      <th></th>\n",
       "      <th></th>\n",
       "      <th></th>\n",
       "      <th></th>\n",
       "      <th></th>\n",
       "      <th></th>\n",
       "      <th></th>\n",
       "      <th></th>\n",
       "      <th></th>\n",
       "      <th></th>\n",
       "      <th></th>\n",
       "      <th></th>\n",
       "      <th></th>\n",
       "      <th></th>\n",
       "      <th></th>\n",
       "      <th></th>\n",
       "      <th></th>\n",
       "      <th></th>\n",
       "      <th></th>\n",
       "      <th></th>\n",
       "    </tr>\n",
       "  </thead>\n",
       "  <tbody>\n",
       "    <tr>\n",
       "      <th>2</th>\n",
       "      <td>0</td>\n",
       "      <td>2008-11-26 01:44:45</td>\n",
       "      <td>2009-01-05 00:00:00</td>\n",
       "      <td>NaN</td>\n",
       "      <td>4</td>\n",
       "      <td>1</td>\n",
       "      <td>&lt;p&gt;&lt;/p&gt;</td>\n",
       "      <td>6073</td>\n",
       "      <td>NaN</td>\n",
       "      <td>[]</td>\n",
       "      <td>...</td>\n",
       "      <td>NaN</td>\n",
       "      <td>4656</td>\n",
       "      <td>en</td>\n",
       "      <td>Attribution-NonCommercial-ShareAlike 3.0 Inter...</td>\n",
       "      <td>1293</td>\n",
       "      <td>NaN</td>\n",
       "      <td>3</td>\n",
       "      <td>NaN</td>\n",
       "      <td>[]</td>\n",
       "      <td>Food</td>\n",
       "    </tr>\n",
       "    <tr>\n",
       "      <th>3</th>\n",
       "      <td>0</td>\n",
       "      <td>2008-11-26 01:44:45</td>\n",
       "      <td>2009-01-05 00:00:00</td>\n",
       "      <td>NaN</td>\n",
       "      <td>4</td>\n",
       "      <td>1</td>\n",
       "      <td>&lt;p&gt;&lt;/p&gt;</td>\n",
       "      <td>6073</td>\n",
       "      <td>NaN</td>\n",
       "      <td>[]</td>\n",
       "      <td>...</td>\n",
       "      <td>NaN</td>\n",
       "      <td>1470</td>\n",
       "      <td>en</td>\n",
       "      <td>Attribution-NonCommercial-ShareAlike 3.0 Inter...</td>\n",
       "      <td>514</td>\n",
       "      <td>NaN</td>\n",
       "      <td>4</td>\n",
       "      <td>NaN</td>\n",
       "      <td>[]</td>\n",
       "      <td>Electric Ave</td>\n",
       "    </tr>\n",
       "    <tr>\n",
       "      <th>5</th>\n",
       "      <td>0</td>\n",
       "      <td>2008-11-26 01:44:45</td>\n",
       "      <td>2009-01-05 00:00:00</td>\n",
       "      <td>NaN</td>\n",
       "      <td>4</td>\n",
       "      <td>1</td>\n",
       "      <td>&lt;p&gt;&lt;/p&gt;</td>\n",
       "      <td>6073</td>\n",
       "      <td>NaN</td>\n",
       "      <td>[]</td>\n",
       "      <td>...</td>\n",
       "      <td>NaN</td>\n",
       "      <td>1933</td>\n",
       "      <td>en</td>\n",
       "      <td>Attribution-NonCommercial-ShareAlike 3.0 Inter...</td>\n",
       "      <td>1151</td>\n",
       "      <td>NaN</td>\n",
       "      <td>6</td>\n",
       "      <td>NaN</td>\n",
       "      <td>[]</td>\n",
       "      <td>This World</td>\n",
       "    </tr>\n",
       "    <tr>\n",
       "      <th>10</th>\n",
       "      <td>0</td>\n",
       "      <td>2008-11-26 01:45:08</td>\n",
       "      <td>2008-02-06 00:00:00</td>\n",
       "      <td>NaN</td>\n",
       "      <td>4</td>\n",
       "      <td>6</td>\n",
       "      <td>NaN</td>\n",
       "      <td>47632</td>\n",
       "      <td>NaN</td>\n",
       "      <td>[]</td>\n",
       "      <td>...</td>\n",
       "      <td>NaN</td>\n",
       "      <td>54881</td>\n",
       "      <td>en</td>\n",
       "      <td>Attribution-NonCommercial-NoDerivatives (aka M...</td>\n",
       "      <td>50135</td>\n",
       "      <td>NaN</td>\n",
       "      <td>1</td>\n",
       "      <td>NaN</td>\n",
       "      <td>[]</td>\n",
       "      <td>Freeway</td>\n",
       "    </tr>\n",
       "    <tr>\n",
       "      <th>20</th>\n",
       "      <td>0</td>\n",
       "      <td>2008-11-26 01:45:05</td>\n",
       "      <td>2009-01-06 00:00:00</td>\n",
       "      <td>NaN</td>\n",
       "      <td>2</td>\n",
       "      <td>4</td>\n",
       "      <td>&lt;p&gt; \"spiritual songs\" from Nicky Cook&lt;/p&gt;</td>\n",
       "      <td>2710</td>\n",
       "      <td>NaN</td>\n",
       "      <td>[]</td>\n",
       "      <td>...</td>\n",
       "      <td>NaN</td>\n",
       "      <td>978</td>\n",
       "      <td>en</td>\n",
       "      <td>Attribution-NonCommercial-NoDerivatives (aka M...</td>\n",
       "      <td>361</td>\n",
       "      <td>NaN</td>\n",
       "      <td>3</td>\n",
       "      <td>NaN</td>\n",
       "      <td>[]</td>\n",
       "      <td>Spiritual Level</td>\n",
       "    </tr>\n",
       "  </tbody>\n",
       "</table>\n",
       "<p>5 rows × 52 columns</p>\n",
       "</div>"
      ],
      "text/plain": [
       "            album                                                     \\\n",
       "         comments         date_created        date_released engineer   \n",
       "track_id                                                               \n",
       "2               0  2008-11-26 01:44:45  2009-01-05 00:00:00      NaN   \n",
       "3               0  2008-11-26 01:44:45  2009-01-05 00:00:00      NaN   \n",
       "5               0  2008-11-26 01:44:45  2009-01-05 00:00:00      NaN   \n",
       "10              0  2008-11-26 01:45:08  2008-02-06 00:00:00      NaN   \n",
       "20              0  2008-11-26 01:45:05  2009-01-06 00:00:00      NaN   \n",
       "\n",
       "                                                                          \\\n",
       "         favorites id                                information listens   \n",
       "track_id                                                                   \n",
       "2                4  1                                    <p></p>    6073   \n",
       "3                4  1                                    <p></p>    6073   \n",
       "5                4  1                                    <p></p>    6073   \n",
       "10               4  6                                        NaN   47632   \n",
       "20               2  4  <p> \"spiritual songs\" from Nicky Cook</p>    2710   \n",
       "\n",
       "                        ...       track                         \\\n",
       "         producer tags  ... information interest language_code   \n",
       "track_id                ...                                      \n",
       "2             NaN   []  ...         NaN     4656            en   \n",
       "3             NaN   []  ...         NaN     1470            en   \n",
       "5             NaN   []  ...         NaN     1933            en   \n",
       "10            NaN   []  ...         NaN    54881            en   \n",
       "20            NaN   []  ...         NaN      978            en   \n",
       "\n",
       "                                                                              \\\n",
       "                                                    license listens lyricist   \n",
       "track_id                                                                       \n",
       "2         Attribution-NonCommercial-ShareAlike 3.0 Inter...    1293      NaN   \n",
       "3         Attribution-NonCommercial-ShareAlike 3.0 Inter...     514      NaN   \n",
       "5         Attribution-NonCommercial-ShareAlike 3.0 Inter...    1151      NaN   \n",
       "10        Attribution-NonCommercial-NoDerivatives (aka M...   50135      NaN   \n",
       "20        Attribution-NonCommercial-NoDerivatives (aka M...     361      NaN   \n",
       "\n",
       "                                                 \n",
       "         number publisher tags            title  \n",
       "track_id                                         \n",
       "2             3       NaN   []             Food  \n",
       "3             4       NaN   []     Electric Ave  \n",
       "5             6       NaN   []       This World  \n",
       "10            1       NaN   []          Freeway  \n",
       "20            3       NaN   []  Spiritual Level  \n",
       "\n",
       "[5 rows x 52 columns]"
      ]
     },
     "execution_count": 5,
     "metadata": {},
     "output_type": "execute_result"
    }
   ],
   "source": [
    "tracks.head()                  # top 5 rows"
   ]
  },
  {
   "cell_type": "code",
   "execution_count": 6,
   "id": "aa7548fe",
   "metadata": {
    "execution": {
     "iopub.execute_input": "2022-08-11T14:03:00.305022Z",
     "iopub.status.busy": "2022-08-11T14:03:00.304239Z",
     "iopub.status.idle": "2022-08-11T14:03:00.308334Z",
     "shell.execute_reply": "2022-08-11T14:03:00.308969Z",
     "shell.execute_reply.started": "2022-08-11T13:45:32.791289Z"
    },
    "papermill": {
     "duration": 0.077513,
     "end_time": "2022-08-11T14:03:00.309165",
     "exception": false,
     "start_time": "2022-08-11T14:03:00.231652",
     "status": "completed"
    },
    "tags": []
   },
   "outputs": [
    {
     "data": {
      "text/plain": [
       "MultiIndex([( 'album',          'comments'),\n",
       "            ( 'album',      'date_created'),\n",
       "            ( 'album',     'date_released'),\n",
       "            ( 'album',          'engineer'),\n",
       "            ( 'album',         'favorites'),\n",
       "            ( 'album',                'id'),\n",
       "            ( 'album',       'information'),\n",
       "            ( 'album',           'listens'),\n",
       "            ( 'album',          'producer'),\n",
       "            ( 'album',              'tags'),\n",
       "            ( 'album',             'title'),\n",
       "            ( 'album',            'tracks'),\n",
       "            ( 'album',              'type'),\n",
       "            ('artist', 'active_year_begin'),\n",
       "            ('artist',   'active_year_end'),\n",
       "            ('artist', 'associated_labels'),\n",
       "            ('artist',               'bio'),\n",
       "            ('artist',          'comments'),\n",
       "            ('artist',      'date_created'),\n",
       "            ('artist',         'favorites'),\n",
       "            ('artist',                'id'),\n",
       "            ('artist',          'latitude'),\n",
       "            ('artist',          'location'),\n",
       "            ('artist',         'longitude'),\n",
       "            ('artist',           'members'),\n",
       "            ('artist',              'name'),\n",
       "            ('artist',  'related_projects'),\n",
       "            ('artist',              'tags'),\n",
       "            ('artist',           'website'),\n",
       "            ('artist',    'wikipedia_page'),\n",
       "            (   'set',             'split'),\n",
       "            (   'set',            'subset'),\n",
       "            ( 'track',          'bit_rate'),\n",
       "            ( 'track',          'comments'),\n",
       "            ( 'track',          'composer'),\n",
       "            ( 'track',      'date_created'),\n",
       "            ( 'track',     'date_recorded'),\n",
       "            ( 'track',          'duration'),\n",
       "            ( 'track',         'favorites'),\n",
       "            ( 'track',         'genre_top'),\n",
       "            ( 'track',            'genres'),\n",
       "            ( 'track',        'genres_all'),\n",
       "            ( 'track',       'information'),\n",
       "            ( 'track',          'interest'),\n",
       "            ( 'track',     'language_code'),\n",
       "            ( 'track',           'license'),\n",
       "            ( 'track',           'listens'),\n",
       "            ( 'track',          'lyricist'),\n",
       "            ( 'track',            'number'),\n",
       "            ( 'track',         'publisher'),\n",
       "            ( 'track',              'tags'),\n",
       "            ( 'track',             'title')],\n",
       "           )"
      ]
     },
     "execution_count": 6,
     "metadata": {},
     "output_type": "execute_result"
    }
   ],
   "source": [
    "tracks.columns"
   ]
  },
  {
   "cell_type": "code",
   "execution_count": 7,
   "id": "67e250c9",
   "metadata": {
    "execution": {
     "iopub.execute_input": "2022-08-11T14:03:00.430531Z",
     "iopub.status.busy": "2022-08-11T14:03:00.429816Z",
     "iopub.status.idle": "2022-08-11T14:03:00.886837Z",
     "shell.execute_reply": "2022-08-11T14:03:00.886157Z",
     "shell.execute_reply.started": "2022-08-11T13:45:32.801956Z"
    },
    "papermill": {
     "duration": 0.514861,
     "end_time": "2022-08-11T14:03:00.887011",
     "exception": false,
     "start_time": "2022-08-11T14:03:00.372150",
     "status": "completed"
    },
    "tags": []
   },
   "outputs": [
    {
     "data": {
      "text/html": [
       "<div>\n",
       "<style scoped>\n",
       "    .dataframe tbody tr th:only-of-type {\n",
       "        vertical-align: middle;\n",
       "    }\n",
       "\n",
       "    .dataframe tbody tr th {\n",
       "        vertical-align: top;\n",
       "    }\n",
       "\n",
       "    .dataframe thead tr th {\n",
       "        text-align: left;\n",
       "    }\n",
       "\n",
       "    .dataframe thead tr:last-of-type th {\n",
       "        text-align: right;\n",
       "    }\n",
       "</style>\n",
       "<table border=\"1\" class=\"dataframe\">\n",
       "  <thead>\n",
       "    <tr>\n",
       "      <th></th>\n",
       "      <th colspan=\"10\" halign=\"left\">album</th>\n",
       "      <th>...</th>\n",
       "      <th colspan=\"10\" halign=\"left\">track</th>\n",
       "    </tr>\n",
       "    <tr>\n",
       "      <th></th>\n",
       "      <th>comments</th>\n",
       "      <th>date_created</th>\n",
       "      <th>date_released</th>\n",
       "      <th>engineer</th>\n",
       "      <th>favorites</th>\n",
       "      <th>id</th>\n",
       "      <th>information</th>\n",
       "      <th>listens</th>\n",
       "      <th>producer</th>\n",
       "      <th>tags</th>\n",
       "      <th>...</th>\n",
       "      <th>information</th>\n",
       "      <th>interest</th>\n",
       "      <th>language_code</th>\n",
       "      <th>license</th>\n",
       "      <th>listens</th>\n",
       "      <th>lyricist</th>\n",
       "      <th>number</th>\n",
       "      <th>publisher</th>\n",
       "      <th>tags</th>\n",
       "      <th>title</th>\n",
       "    </tr>\n",
       "    <tr>\n",
       "      <th>track_id</th>\n",
       "      <th></th>\n",
       "      <th></th>\n",
       "      <th></th>\n",
       "      <th></th>\n",
       "      <th></th>\n",
       "      <th></th>\n",
       "      <th></th>\n",
       "      <th></th>\n",
       "      <th></th>\n",
       "      <th></th>\n",
       "      <th></th>\n",
       "      <th></th>\n",
       "      <th></th>\n",
       "      <th></th>\n",
       "      <th></th>\n",
       "      <th></th>\n",
       "      <th></th>\n",
       "      <th></th>\n",
       "      <th></th>\n",
       "      <th></th>\n",
       "      <th></th>\n",
       "    </tr>\n",
       "  </thead>\n",
       "  <tbody>\n",
       "  </tbody>\n",
       "</table>\n",
       "<p>0 rows × 52 columns</p>\n",
       "</div>"
      ],
      "text/plain": [
       "Empty DataFrame\n",
       "Columns: [(album, comments), (album, date_created), (album, date_released), (album, engineer), (album, favorites), (album, id), (album, information), (album, listens), (album, producer), (album, tags), (album, title), (album, tracks), (album, type), (artist, active_year_begin), (artist, active_year_end), (artist, associated_labels), (artist, bio), (artist, comments), (artist, date_created), (artist, favorites), (artist, id), (artist, latitude), (artist, location), (artist, longitude), (artist, members), (artist, name), (artist, related_projects), (artist, tags), (artist, website), (artist, wikipedia_page), (set, split), (set, subset), (track, bit_rate), (track, comments), (track, composer), (track, date_created), (track, date_recorded), (track, duration), (track, favorites), (track, genre_top), (track, genres), (track, genres_all), (track, information), (track, interest), (track, language_code), (track, license), (track, listens), (track, lyricist), (track, number), (track, publisher), (track, tags), (track, title)]\n",
       "Index: []\n",
       "\n",
       "[0 rows x 52 columns]"
      ]
     },
     "execution_count": 7,
     "metadata": {},
     "output_type": "execute_result"
    }
   ],
   "source": [
    "tracks[tracks.duplicated()]                    # duplicate rows"
   ]
  },
  {
   "cell_type": "code",
   "execution_count": 8,
   "id": "96a86cca",
   "metadata": {
    "execution": {
     "iopub.execute_input": "2022-08-11T14:03:01.004012Z",
     "iopub.status.busy": "2022-08-11T14:03:01.003132Z",
     "iopub.status.idle": "2022-08-11T14:03:01.157081Z",
     "shell.execute_reply": "2022-08-11T14:03:01.156528Z",
     "shell.execute_reply.started": "2022-08-11T13:45:33.265370Z"
    },
    "papermill": {
     "duration": 0.216125,
     "end_time": "2022-08-11T14:03:01.157235",
     "exception": false,
     "start_time": "2022-08-11T14:03:00.941110",
     "status": "completed"
    },
    "tags": []
   },
   "outputs": [
    {
     "data": {
      "text/plain": [
       "album   comments                  0\n",
       "        date_created           3529\n",
       "        date_released         36280\n",
       "        engineer              91279\n",
       "        favorites                 0\n",
       "        id                        0\n",
       "        information           23425\n",
       "        listens                   0\n",
       "        producer              88514\n",
       "        tags                      0\n",
       "        title                  1025\n",
       "        tracks                    0\n",
       "        type                   6508\n",
       "artist  active_year_begin     83863\n",
       "        active_year_end      101199\n",
       "        associated_labels     92303\n",
       "        bio                   35418\n",
       "        comments                  0\n",
       "        date_created            856\n",
       "        favorites                 0\n",
       "        id                        0\n",
       "        latitude              62030\n",
       "        location              36364\n",
       "        longitude             62030\n",
       "        members               59725\n",
       "        name                      0\n",
       "        related_projects      93422\n",
       "        tags                      0\n",
       "        website               27318\n",
       "        wikipedia_page       100993\n",
       "set     split                     0\n",
       "        subset                    0\n",
       "track   bit_rate                  0\n",
       "        comments                  0\n",
       "        composer             102904\n",
       "        date_created              0\n",
       "        date_recorded        100415\n",
       "        duration                  0\n",
       "        favorites                 0\n",
       "        genre_top             56976\n",
       "        genres                    0\n",
       "        genres_all                0\n",
       "        information          104225\n",
       "        interest                  0\n",
       "        language_code         91550\n",
       "        license                  87\n",
       "        listens                   0\n",
       "        lyricist             106263\n",
       "        number                    0\n",
       "        publisher            105311\n",
       "        tags                      0\n",
       "        title                     1\n",
       "dtype: int64"
      ]
     },
     "execution_count": 8,
     "metadata": {},
     "output_type": "execute_result"
    }
   ],
   "source": [
    "tracks.isna().sum()                            # missing values"
   ]
  },
  {
   "cell_type": "code",
   "execution_count": 9,
   "id": "68e16f2b",
   "metadata": {
    "execution": {
     "iopub.execute_input": "2022-08-11T14:03:01.289859Z",
     "iopub.status.busy": "2022-08-11T14:03:01.277606Z",
     "iopub.status.idle": "2022-08-11T14:03:01.296326Z",
     "shell.execute_reply": "2022-08-11T14:03:01.295746Z",
     "shell.execute_reply.started": "2022-08-11T13:45:33.422963Z"
    },
    "papermill": {
     "duration": 0.084822,
     "end_time": "2022-08-11T14:03:01.296475",
     "exception": false,
     "start_time": "2022-08-11T14:03:01.211653",
     "status": "completed"
    },
    "tags": []
   },
   "outputs": [
    {
     "data": {
      "text/plain": [
       "2231"
      ]
     },
     "execution_count": 9,
     "metadata": {},
     "output_type": "execute_result"
    }
   ],
   "source": [
    "sum(tracks[('track', 'genres_all')] == '[]')   # blank values"
   ]
  },
  {
   "cell_type": "code",
   "execution_count": 10,
   "id": "e908d47d",
   "metadata": {
    "execution": {
     "iopub.execute_input": "2022-08-11T14:03:01.417058Z",
     "iopub.status.busy": "2022-08-11T14:03:01.416383Z",
     "iopub.status.idle": "2022-08-11T14:03:01.530071Z",
     "shell.execute_reply": "2022-08-11T14:03:01.529508Z",
     "shell.execute_reply.started": "2022-08-11T13:45:33.453975Z"
    },
    "papermill": {
     "duration": 0.179151,
     "end_time": "2022-08-11T14:03:01.530236",
     "exception": false,
     "start_time": "2022-08-11T14:03:01.351085",
     "status": "completed"
    },
    "tags": []
   },
   "outputs": [
    {
     "data": {
      "text/html": [
       "<div>\n",
       "<style scoped>\n",
       "    .dataframe tbody tr th:only-of-type {\n",
       "        vertical-align: middle;\n",
       "    }\n",
       "\n",
       "    .dataframe tbody tr th {\n",
       "        vertical-align: top;\n",
       "    }\n",
       "\n",
       "    .dataframe thead tr th {\n",
       "        text-align: left;\n",
       "    }\n",
       "</style>\n",
       "<table border=\"1\" class=\"dataframe\">\n",
       "  <thead>\n",
       "    <tr>\n",
       "      <th></th>\n",
       "      <th colspan=\"5\" halign=\"left\">album</th>\n",
       "      <th colspan=\"5\" halign=\"left\">artist</th>\n",
       "      <th colspan=\"7\" halign=\"left\">track</th>\n",
       "    </tr>\n",
       "    <tr>\n",
       "      <th></th>\n",
       "      <th>comments</th>\n",
       "      <th>favorites</th>\n",
       "      <th>id</th>\n",
       "      <th>listens</th>\n",
       "      <th>tracks</th>\n",
       "      <th>comments</th>\n",
       "      <th>favorites</th>\n",
       "      <th>id</th>\n",
       "      <th>latitude</th>\n",
       "      <th>longitude</th>\n",
       "      <th>bit_rate</th>\n",
       "      <th>comments</th>\n",
       "      <th>duration</th>\n",
       "      <th>favorites</th>\n",
       "      <th>interest</th>\n",
       "      <th>listens</th>\n",
       "      <th>number</th>\n",
       "    </tr>\n",
       "  </thead>\n",
       "  <tbody>\n",
       "    <tr>\n",
       "      <th>count</th>\n",
       "      <td>106574.000000</td>\n",
       "      <td>106574.000000</td>\n",
       "      <td>106574.000000</td>\n",
       "      <td>1.065740e+05</td>\n",
       "      <td>106574.000000</td>\n",
       "      <td>106574.000000</td>\n",
       "      <td>106574.000000</td>\n",
       "      <td>106574.000000</td>\n",
       "      <td>44544.000000</td>\n",
       "      <td>44544.000000</td>\n",
       "      <td>106574.000000</td>\n",
       "      <td>106574.000000</td>\n",
       "      <td>106574.000000</td>\n",
       "      <td>106574.000000</td>\n",
       "      <td>1.065740e+05</td>\n",
       "      <td>106574.000000</td>\n",
       "      <td>106574.000000</td>\n",
       "    </tr>\n",
       "    <tr>\n",
       "      <th>mean</th>\n",
       "      <td>0.394946</td>\n",
       "      <td>1.286927</td>\n",
       "      <td>12826.933914</td>\n",
       "      <td>3.212031e+04</td>\n",
       "      <td>19.721452</td>\n",
       "      <td>1.894702</td>\n",
       "      <td>30.041915</td>\n",
       "      <td>12036.770404</td>\n",
       "      <td>39.901626</td>\n",
       "      <td>-38.668642</td>\n",
       "      <td>263274.695048</td>\n",
       "      <td>0.031621</td>\n",
       "      <td>277.849100</td>\n",
       "      <td>3.182521</td>\n",
       "      <td>3.541310e+03</td>\n",
       "      <td>2329.353548</td>\n",
       "      <td>8.260945</td>\n",
       "    </tr>\n",
       "    <tr>\n",
       "      <th>std</th>\n",
       "      <td>2.268915</td>\n",
       "      <td>3.133035</td>\n",
       "      <td>6290.261805</td>\n",
       "      <td>1.478532e+05</td>\n",
       "      <td>39.943673</td>\n",
       "      <td>6.297679</td>\n",
       "      <td>100.511408</td>\n",
       "      <td>6881.420867</td>\n",
       "      <td>18.240860</td>\n",
       "      <td>65.237220</td>\n",
       "      <td>67623.443584</td>\n",
       "      <td>0.321993</td>\n",
       "      <td>305.518553</td>\n",
       "      <td>13.513820</td>\n",
       "      <td>1.901743e+04</td>\n",
       "      <td>8028.070647</td>\n",
       "      <td>15.243271</td>\n",
       "    </tr>\n",
       "    <tr>\n",
       "      <th>min</th>\n",
       "      <td>-1.000000</td>\n",
       "      <td>-1.000000</td>\n",
       "      <td>-1.000000</td>\n",
       "      <td>-1.000000e+00</td>\n",
       "      <td>-1.000000</td>\n",
       "      <td>-1.000000</td>\n",
       "      <td>-1.000000</td>\n",
       "      <td>1.000000</td>\n",
       "      <td>-45.878760</td>\n",
       "      <td>-157.526855</td>\n",
       "      <td>-1.000000</td>\n",
       "      <td>0.000000</td>\n",
       "      <td>0.000000</td>\n",
       "      <td>0.000000</td>\n",
       "      <td>2.000000e+00</td>\n",
       "      <td>0.000000</td>\n",
       "      <td>0.000000</td>\n",
       "    </tr>\n",
       "    <tr>\n",
       "      <th>25%</th>\n",
       "      <td>0.000000</td>\n",
       "      <td>0.000000</td>\n",
       "      <td>7793.000000</td>\n",
       "      <td>3.361000e+03</td>\n",
       "      <td>7.000000</td>\n",
       "      <td>0.000000</td>\n",
       "      <td>1.000000</td>\n",
       "      <td>6443.000000</td>\n",
       "      <td>39.271398</td>\n",
       "      <td>-79.997459</td>\n",
       "      <td>192000.000000</td>\n",
       "      <td>0.000000</td>\n",
       "      <td>149.000000</td>\n",
       "      <td>0.000000</td>\n",
       "      <td>5.990000e+02</td>\n",
       "      <td>292.000000</td>\n",
       "      <td>2.000000</td>\n",
       "    </tr>\n",
       "    <tr>\n",
       "      <th>50%</th>\n",
       "      <td>0.000000</td>\n",
       "      <td>0.000000</td>\n",
       "      <td>13374.000000</td>\n",
       "      <td>8.982000e+03</td>\n",
       "      <td>11.000000</td>\n",
       "      <td>0.000000</td>\n",
       "      <td>5.000000</td>\n",
       "      <td>12029.500000</td>\n",
       "      <td>41.387917</td>\n",
       "      <td>-73.554431</td>\n",
       "      <td>299914.000000</td>\n",
       "      <td>0.000000</td>\n",
       "      <td>216.000000</td>\n",
       "      <td>1.000000</td>\n",
       "      <td>1.314000e+03</td>\n",
       "      <td>764.000000</td>\n",
       "      <td>5.000000</td>\n",
       "    </tr>\n",
       "    <tr>\n",
       "      <th>75%</th>\n",
       "      <td>0.000000</td>\n",
       "      <td>1.000000</td>\n",
       "      <td>18203.000000</td>\n",
       "      <td>2.363500e+04</td>\n",
       "      <td>17.000000</td>\n",
       "      <td>1.000000</td>\n",
       "      <td>16.000000</td>\n",
       "      <td>18011.000000</td>\n",
       "      <td>48.856930</td>\n",
       "      <td>4.351710</td>\n",
       "      <td>320000.000000</td>\n",
       "      <td>0.000000</td>\n",
       "      <td>305.000000</td>\n",
       "      <td>3.000000</td>\n",
       "      <td>3.059000e+03</td>\n",
       "      <td>2018.000000</td>\n",
       "      <td>9.000000</td>\n",
       "    </tr>\n",
       "    <tr>\n",
       "      <th>max</th>\n",
       "      <td>53.000000</td>\n",
       "      <td>61.000000</td>\n",
       "      <td>22940.000000</td>\n",
       "      <td>3.564243e+06</td>\n",
       "      <td>652.000000</td>\n",
       "      <td>79.000000</td>\n",
       "      <td>963.000000</td>\n",
       "      <td>24357.000000</td>\n",
       "      <td>67.286005</td>\n",
       "      <td>175.277000</td>\n",
       "      <td>448000.000000</td>\n",
       "      <td>37.000000</td>\n",
       "      <td>18350.000000</td>\n",
       "      <td>1482.000000</td>\n",
       "      <td>3.293557e+06</td>\n",
       "      <td>543252.000000</td>\n",
       "      <td>255.000000</td>\n",
       "    </tr>\n",
       "  </tbody>\n",
       "</table>\n",
       "</div>"
      ],
      "text/plain": [
       "               album                                              \\\n",
       "            comments      favorites             id       listens   \n",
       "count  106574.000000  106574.000000  106574.000000  1.065740e+05   \n",
       "mean        0.394946       1.286927   12826.933914  3.212031e+04   \n",
       "std         2.268915       3.133035    6290.261805  1.478532e+05   \n",
       "min        -1.000000      -1.000000      -1.000000 -1.000000e+00   \n",
       "25%         0.000000       0.000000    7793.000000  3.361000e+03   \n",
       "50%         0.000000       0.000000   13374.000000  8.982000e+03   \n",
       "75%         0.000000       1.000000   18203.000000  2.363500e+04   \n",
       "max        53.000000      61.000000   22940.000000  3.564243e+06   \n",
       "\n",
       "                             artist                                \\\n",
       "              tracks       comments      favorites             id   \n",
       "count  106574.000000  106574.000000  106574.000000  106574.000000   \n",
       "mean       19.721452       1.894702      30.041915   12036.770404   \n",
       "std        39.943673       6.297679     100.511408    6881.420867   \n",
       "min        -1.000000      -1.000000      -1.000000       1.000000   \n",
       "25%         7.000000       0.000000       1.000000    6443.000000   \n",
       "50%        11.000000       0.000000       5.000000   12029.500000   \n",
       "75%        17.000000       1.000000      16.000000   18011.000000   \n",
       "max       652.000000      79.000000     963.000000   24357.000000   \n",
       "\n",
       "                                           track                 \\\n",
       "           latitude     longitude       bit_rate       comments   \n",
       "count  44544.000000  44544.000000  106574.000000  106574.000000   \n",
       "mean      39.901626    -38.668642  263274.695048       0.031621   \n",
       "std       18.240860     65.237220   67623.443584       0.321993   \n",
       "min      -45.878760   -157.526855      -1.000000       0.000000   \n",
       "25%       39.271398    -79.997459  192000.000000       0.000000   \n",
       "50%       41.387917    -73.554431  299914.000000       0.000000   \n",
       "75%       48.856930      4.351710  320000.000000       0.000000   \n",
       "max       67.286005    175.277000  448000.000000      37.000000   \n",
       "\n",
       "                                                                  \\\n",
       "            duration      favorites      interest        listens   \n",
       "count  106574.000000  106574.000000  1.065740e+05  106574.000000   \n",
       "mean      277.849100       3.182521  3.541310e+03    2329.353548   \n",
       "std       305.518553      13.513820  1.901743e+04    8028.070647   \n",
       "min         0.000000       0.000000  2.000000e+00       0.000000   \n",
       "25%       149.000000       0.000000  5.990000e+02     292.000000   \n",
       "50%       216.000000       1.000000  1.314000e+03     764.000000   \n",
       "75%       305.000000       3.000000  3.059000e+03    2018.000000   \n",
       "max     18350.000000    1482.000000  3.293557e+06  543252.000000   \n",
       "\n",
       "                      \n",
       "              number  \n",
       "count  106574.000000  \n",
       "mean        8.260945  \n",
       "std        15.243271  \n",
       "min         0.000000  \n",
       "25%         2.000000  \n",
       "50%         5.000000  \n",
       "75%         9.000000  \n",
       "max       255.000000  "
      ]
     },
     "execution_count": 10,
     "metadata": {},
     "output_type": "execute_result"
    }
   ],
   "source": [
    "tracks.describe()                               # statistical info"
   ]
  },
  {
   "cell_type": "markdown",
   "id": "4be9651c",
   "metadata": {
    "execution": {
     "iopub.execute_input": "2022-03-25T13:24:56.526284Z",
     "iopub.status.busy": "2022-03-25T13:24:56.526078Z",
     "iopub.status.idle": "2022-03-25T13:24:56.530431Z",
     "shell.execute_reply": "2022-03-25T13:24:56.529583Z",
     "shell.execute_reply.started": "2022-03-25T13:24:56.526259Z"
    },
    "papermill": {
     "duration": 0.055324,
     "end_time": "2022-08-11T14:03:01.640812",
     "exception": false,
     "start_time": "2022-08-11T14:03:01.585488",
     "status": "completed"
    },
    "tags": []
   },
   "source": [
    "#### genres.csv"
   ]
  },
  {
   "cell_type": "code",
   "execution_count": 11,
   "id": "e6064ff5",
   "metadata": {
    "execution": {
     "iopub.execute_input": "2022-08-11T14:03:01.756907Z",
     "iopub.status.busy": "2022-08-11T14:03:01.756027Z",
     "iopub.status.idle": "2022-08-11T14:03:01.760261Z",
     "shell.execute_reply": "2022-08-11T14:03:01.759575Z",
     "shell.execute_reply.started": "2022-08-11T13:45:33.575671Z"
    },
    "papermill": {
     "duration": 0.064378,
     "end_time": "2022-08-11T14:03:01.760413",
     "exception": false,
     "start_time": "2022-08-11T14:03:01.696035",
     "status": "completed"
    },
    "tags": []
   },
   "outputs": [
    {
     "data": {
      "text/plain": [
       "(163, 5)"
      ]
     },
     "execution_count": 11,
     "metadata": {},
     "output_type": "execute_result"
    }
   ],
   "source": [
    "genres.shape"
   ]
  },
  {
   "cell_type": "code",
   "execution_count": 12,
   "id": "6b54c2df",
   "metadata": {
    "execution": {
     "iopub.execute_input": "2022-08-11T14:03:01.885484Z",
     "iopub.status.busy": "2022-08-11T14:03:01.884566Z",
     "iopub.status.idle": "2022-08-11T14:03:01.890014Z",
     "shell.execute_reply": "2022-08-11T14:03:01.888997Z",
     "shell.execute_reply.started": "2022-08-11T13:45:33.581206Z"
    },
    "papermill": {
     "duration": 0.07395,
     "end_time": "2022-08-11T14:03:01.890249",
     "exception": false,
     "start_time": "2022-08-11T14:03:01.816299",
     "status": "completed"
    },
    "tags": []
   },
   "outputs": [
    {
     "name": "stdout",
     "output_type": "stream",
     "text": [
      "<class 'pandas.core.frame.DataFrame'>\n",
      "RangeIndex: 163 entries, 0 to 162\n",
      "Data columns (total 5 columns):\n",
      " #   Column     Non-Null Count  Dtype \n",
      "---  ------     --------------  ----- \n",
      " 0   genre_id   163 non-null    int64 \n",
      " 1   #tracks    163 non-null    int64 \n",
      " 2   parent     163 non-null    int64 \n",
      " 3   title      163 non-null    object\n",
      " 4   top_level  163 non-null    int64 \n",
      "dtypes: int64(4), object(1)\n",
      "memory usage: 6.5+ KB\n"
     ]
    }
   ],
   "source": [
    "genres.info()"
   ]
  },
  {
   "cell_type": "code",
   "execution_count": 13,
   "id": "32749a27",
   "metadata": {
    "execution": {
     "iopub.execute_input": "2022-08-11T14:03:02.016673Z",
     "iopub.status.busy": "2022-08-11T14:03:02.015654Z",
     "iopub.status.idle": "2022-08-11T14:03:02.020127Z",
     "shell.execute_reply": "2022-08-11T14:03:02.019547Z",
     "shell.execute_reply.started": "2022-08-11T13:45:33.600530Z"
    },
    "papermill": {
     "duration": 0.071322,
     "end_time": "2022-08-11T14:03:02.020285",
     "exception": false,
     "start_time": "2022-08-11T14:03:01.948963",
     "status": "completed"
    },
    "tags": []
   },
   "outputs": [
    {
     "data": {
      "text/html": [
       "<div>\n",
       "<style scoped>\n",
       "    .dataframe tbody tr th:only-of-type {\n",
       "        vertical-align: middle;\n",
       "    }\n",
       "\n",
       "    .dataframe tbody tr th {\n",
       "        vertical-align: top;\n",
       "    }\n",
       "\n",
       "    .dataframe thead th {\n",
       "        text-align: right;\n",
       "    }\n",
       "</style>\n",
       "<table border=\"1\" class=\"dataframe\">\n",
       "  <thead>\n",
       "    <tr style=\"text-align: right;\">\n",
       "      <th></th>\n",
       "      <th>genre_id</th>\n",
       "      <th>#tracks</th>\n",
       "      <th>parent</th>\n",
       "      <th>title</th>\n",
       "      <th>top_level</th>\n",
       "    </tr>\n",
       "  </thead>\n",
       "  <tbody>\n",
       "    <tr>\n",
       "      <th>0</th>\n",
       "      <td>1</td>\n",
       "      <td>8693</td>\n",
       "      <td>38</td>\n",
       "      <td>Avant-Garde</td>\n",
       "      <td>38</td>\n",
       "    </tr>\n",
       "    <tr>\n",
       "      <th>1</th>\n",
       "      <td>2</td>\n",
       "      <td>5271</td>\n",
       "      <td>0</td>\n",
       "      <td>International</td>\n",
       "      <td>2</td>\n",
       "    </tr>\n",
       "    <tr>\n",
       "      <th>2</th>\n",
       "      <td>3</td>\n",
       "      <td>1752</td>\n",
       "      <td>0</td>\n",
       "      <td>Blues</td>\n",
       "      <td>3</td>\n",
       "    </tr>\n",
       "    <tr>\n",
       "      <th>3</th>\n",
       "      <td>4</td>\n",
       "      <td>4126</td>\n",
       "      <td>0</td>\n",
       "      <td>Jazz</td>\n",
       "      <td>4</td>\n",
       "    </tr>\n",
       "    <tr>\n",
       "      <th>4</th>\n",
       "      <td>5</td>\n",
       "      <td>4106</td>\n",
       "      <td>0</td>\n",
       "      <td>Classical</td>\n",
       "      <td>5</td>\n",
       "    </tr>\n",
       "  </tbody>\n",
       "</table>\n",
       "</div>"
      ],
      "text/plain": [
       "   genre_id  #tracks  parent          title  top_level\n",
       "0         1     8693      38    Avant-Garde         38\n",
       "1         2     5271       0  International          2\n",
       "2         3     1752       0          Blues          3\n",
       "3         4     4126       0           Jazz          4\n",
       "4         5     4106       0      Classical          5"
      ]
     },
     "execution_count": 13,
     "metadata": {},
     "output_type": "execute_result"
    }
   ],
   "source": [
    "genres.head()"
   ]
  },
  {
   "cell_type": "code",
   "execution_count": 14,
   "id": "09c4c865",
   "metadata": {
    "execution": {
     "iopub.execute_input": "2022-08-11T14:03:02.141961Z",
     "iopub.status.busy": "2022-08-11T14:03:02.141195Z",
     "iopub.status.idle": "2022-08-11T14:03:02.143983Z",
     "shell.execute_reply": "2022-08-11T14:03:02.144497Z",
     "shell.execute_reply.started": "2022-08-11T13:45:33.616331Z"
    },
    "papermill": {
     "duration": 0.066295,
     "end_time": "2022-08-11T14:03:02.144677",
     "exception": false,
     "start_time": "2022-08-11T14:03:02.078382",
     "status": "completed"
    },
    "tags": []
   },
   "outputs": [
    {
     "data": {
      "text/plain": [
       "Index(['genre_id', '#tracks', 'parent', 'title', 'top_level'], dtype='object')"
      ]
     },
     "execution_count": 14,
     "metadata": {},
     "output_type": "execute_result"
    }
   ],
   "source": [
    "genres.columns"
   ]
  },
  {
   "cell_type": "code",
   "execution_count": 15,
   "id": "c3f087f2",
   "metadata": {
    "execution": {
     "iopub.execute_input": "2022-08-11T14:03:02.262774Z",
     "iopub.status.busy": "2022-08-11T14:03:02.262149Z",
     "iopub.status.idle": "2022-08-11T14:03:02.271245Z",
     "shell.execute_reply": "2022-08-11T14:03:02.271742Z",
     "shell.execute_reply.started": "2022-08-11T13:45:33.625919Z"
    },
    "papermill": {
     "duration": 0.069868,
     "end_time": "2022-08-11T14:03:02.271917",
     "exception": false,
     "start_time": "2022-08-11T14:03:02.202049",
     "status": "completed"
    },
    "tags": []
   },
   "outputs": [
    {
     "data": {
      "text/html": [
       "<div>\n",
       "<style scoped>\n",
       "    .dataframe tbody tr th:only-of-type {\n",
       "        vertical-align: middle;\n",
       "    }\n",
       "\n",
       "    .dataframe tbody tr th {\n",
       "        vertical-align: top;\n",
       "    }\n",
       "\n",
       "    .dataframe thead th {\n",
       "        text-align: right;\n",
       "    }\n",
       "</style>\n",
       "<table border=\"1\" class=\"dataframe\">\n",
       "  <thead>\n",
       "    <tr style=\"text-align: right;\">\n",
       "      <th></th>\n",
       "      <th>genre_id</th>\n",
       "      <th>#tracks</th>\n",
       "      <th>parent</th>\n",
       "      <th>title</th>\n",
       "      <th>top_level</th>\n",
       "    </tr>\n",
       "  </thead>\n",
       "  <tbody>\n",
       "  </tbody>\n",
       "</table>\n",
       "</div>"
      ],
      "text/plain": [
       "Empty DataFrame\n",
       "Columns: [genre_id, #tracks, parent, title, top_level]\n",
       "Index: []"
      ]
     },
     "execution_count": 15,
     "metadata": {},
     "output_type": "execute_result"
    }
   ],
   "source": [
    "genres[genres.duplicated()]                         "
   ]
  },
  {
   "cell_type": "code",
   "execution_count": 16,
   "id": "98623f37",
   "metadata": {
    "execution": {
     "iopub.execute_input": "2022-08-11T14:03:02.390583Z",
     "iopub.status.busy": "2022-08-11T14:03:02.389900Z",
     "iopub.status.idle": "2022-08-11T14:03:02.396484Z",
     "shell.execute_reply": "2022-08-11T14:03:02.397011Z",
     "shell.execute_reply.started": "2022-08-11T13:45:33.642479Z"
    },
    "papermill": {
     "duration": 0.067549,
     "end_time": "2022-08-11T14:03:02.397302",
     "exception": false,
     "start_time": "2022-08-11T14:03:02.329753",
     "status": "completed"
    },
    "tags": []
   },
   "outputs": [
    {
     "data": {
      "text/plain": [
       "genre_id     0\n",
       "#tracks      0\n",
       "parent       0\n",
       "title        0\n",
       "top_level    0\n",
       "dtype: int64"
      ]
     },
     "execution_count": 16,
     "metadata": {},
     "output_type": "execute_result"
    }
   ],
   "source": [
    "genres.isna().sum()"
   ]
  },
  {
   "cell_type": "code",
   "execution_count": 17,
   "id": "c2fe4a93",
   "metadata": {
    "execution": {
     "iopub.execute_input": "2022-08-11T14:03:02.516993Z",
     "iopub.status.busy": "2022-08-11T14:03:02.516311Z",
     "iopub.status.idle": "2022-08-11T14:03:02.535713Z",
     "shell.execute_reply": "2022-08-11T14:03:02.536189Z",
     "shell.execute_reply.started": "2022-08-11T13:45:33.653268Z"
    },
    "papermill": {
     "duration": 0.080865,
     "end_time": "2022-08-11T14:03:02.536373",
     "exception": false,
     "start_time": "2022-08-11T14:03:02.455508",
     "status": "completed"
    },
    "tags": []
   },
   "outputs": [
    {
     "data": {
      "text/html": [
       "<div>\n",
       "<style scoped>\n",
       "    .dataframe tbody tr th:only-of-type {\n",
       "        vertical-align: middle;\n",
       "    }\n",
       "\n",
       "    .dataframe tbody tr th {\n",
       "        vertical-align: top;\n",
       "    }\n",
       "\n",
       "    .dataframe thead th {\n",
       "        text-align: right;\n",
       "    }\n",
       "</style>\n",
       "<table border=\"1\" class=\"dataframe\">\n",
       "  <thead>\n",
       "    <tr style=\"text-align: right;\">\n",
       "      <th></th>\n",
       "      <th>genre_id</th>\n",
       "      <th>#tracks</th>\n",
       "      <th>parent</th>\n",
       "      <th>top_level</th>\n",
       "    </tr>\n",
       "  </thead>\n",
       "  <tbody>\n",
       "    <tr>\n",
       "      <th>count</th>\n",
       "      <td>163.000000</td>\n",
       "      <td>163.000000</td>\n",
       "      <td>163.000000</td>\n",
       "      <td>163.000000</td>\n",
       "    </tr>\n",
       "    <tr>\n",
       "      <th>mean</th>\n",
       "      <td>254.116564</td>\n",
       "      <td>2142.085890</td>\n",
       "      <td>60.447853</td>\n",
       "      <td>51.374233</td>\n",
       "    </tr>\n",
       "    <tr>\n",
       "      <th>std</th>\n",
       "      <td>265.048642</td>\n",
       "      <td>5199.542574</td>\n",
       "      <td>185.396011</td>\n",
       "      <td>211.470836</td>\n",
       "    </tr>\n",
       "    <tr>\n",
       "      <th>min</th>\n",
       "      <td>1.000000</td>\n",
       "      <td>0.000000</td>\n",
       "      <td>0.000000</td>\n",
       "      <td>2.000000</td>\n",
       "    </tr>\n",
       "    <tr>\n",
       "      <th>25%</th>\n",
       "      <td>60.500000</td>\n",
       "      <td>125.000000</td>\n",
       "      <td>5.000000</td>\n",
       "      <td>5.000000</td>\n",
       "    </tr>\n",
       "    <tr>\n",
       "      <th>50%</th>\n",
       "      <td>172.000000</td>\n",
       "      <td>563.000000</td>\n",
       "      <td>15.000000</td>\n",
       "      <td>12.000000</td>\n",
       "    </tr>\n",
       "    <tr>\n",
       "      <th>75%</th>\n",
       "      <td>400.500000</td>\n",
       "      <td>1846.500000</td>\n",
       "      <td>38.000000</td>\n",
       "      <td>20.000000</td>\n",
       "    </tr>\n",
       "    <tr>\n",
       "      <th>max</th>\n",
       "      <td>1235.000000</td>\n",
       "      <td>38154.000000</td>\n",
       "      <td>1235.000000</td>\n",
       "      <td>1235.000000</td>\n",
       "    </tr>\n",
       "  </tbody>\n",
       "</table>\n",
       "</div>"
      ],
      "text/plain": [
       "          genre_id       #tracks       parent    top_level\n",
       "count   163.000000    163.000000   163.000000   163.000000\n",
       "mean    254.116564   2142.085890    60.447853    51.374233\n",
       "std     265.048642   5199.542574   185.396011   211.470836\n",
       "min       1.000000      0.000000     0.000000     2.000000\n",
       "25%      60.500000    125.000000     5.000000     5.000000\n",
       "50%     172.000000    563.000000    15.000000    12.000000\n",
       "75%     400.500000   1846.500000    38.000000    20.000000\n",
       "max    1235.000000  38154.000000  1235.000000  1235.000000"
      ]
     },
     "execution_count": 17,
     "metadata": {},
     "output_type": "execute_result"
    }
   ],
   "source": [
    "genres.describe()"
   ]
  },
  {
   "cell_type": "markdown",
   "id": "87746084",
   "metadata": {
    "execution": {
     "iopub.execute_input": "2022-03-25T13:24:56.642504Z",
     "iopub.status.busy": "2022-03-25T13:24:56.642127Z",
     "iopub.status.idle": "2022-03-25T13:24:56.646015Z",
     "shell.execute_reply": "2022-03-25T13:24:56.645099Z",
     "shell.execute_reply.started": "2022-03-25T13:24:56.642463Z"
    },
    "papermill": {
     "duration": 0.058449,
     "end_time": "2022-08-11T14:03:02.653406",
     "exception": false,
     "start_time": "2022-08-11T14:03:02.594957",
     "status": "completed"
    },
    "tags": []
   },
   "source": [
    "#### echonest.csv"
   ]
  },
  {
   "cell_type": "code",
   "execution_count": 18,
   "id": "c12c1216",
   "metadata": {
    "execution": {
     "iopub.execute_input": "2022-08-11T14:03:02.772912Z",
     "iopub.status.busy": "2022-08-11T14:03:02.772294Z",
     "iopub.status.idle": "2022-08-11T14:03:02.777164Z",
     "shell.execute_reply": "2022-08-11T14:03:02.777643Z",
     "shell.execute_reply.started": "2022-08-11T13:45:33.677222Z"
    },
    "papermill": {
     "duration": 0.06642,
     "end_time": "2022-08-11T14:03:02.777809",
     "exception": false,
     "start_time": "2022-08-11T14:03:02.711389",
     "status": "completed"
    },
    "tags": []
   },
   "outputs": [
    {
     "data": {
      "text/plain": [
       "(13131, 249)"
      ]
     },
     "execution_count": 18,
     "metadata": {},
     "output_type": "execute_result"
    }
   ],
   "source": [
    "spotify_data.shape"
   ]
  },
  {
   "cell_type": "code",
   "execution_count": 19,
   "id": "6befc49a",
   "metadata": {
    "execution": {
     "iopub.execute_input": "2022-08-11T14:03:02.898843Z",
     "iopub.status.busy": "2022-08-11T14:03:02.898214Z",
     "iopub.status.idle": "2022-08-11T14:03:02.927835Z",
     "shell.execute_reply": "2022-08-11T14:03:02.928485Z",
     "shell.execute_reply.started": "2022-08-11T13:45:33.684218Z"
    },
    "papermill": {
     "duration": 0.092223,
     "end_time": "2022-08-11T14:03:02.928678",
     "exception": false,
     "start_time": "2022-08-11T14:03:02.836455",
     "status": "completed"
    },
    "tags": []
   },
   "outputs": [
    {
     "name": "stdout",
     "output_type": "stream",
     "text": [
      "<class 'pandas.core.frame.DataFrame'>\n",
      "Index: 13131 entries, nan to 124911\n",
      "Columns: 249 entries, ('echonest', 'audio_features') to ('echonest', 'temporal_features.223')\n",
      "dtypes: float64(224), object(25)\n",
      "memory usage: 25.0+ MB\n"
     ]
    }
   ],
   "source": [
    "spotify_data.info()"
   ]
  },
  {
   "cell_type": "code",
   "execution_count": 20,
   "id": "f71cf250",
   "metadata": {
    "execution": {
     "iopub.execute_input": "2022-08-11T14:03:03.050678Z",
     "iopub.status.busy": "2022-08-11T14:03:03.050003Z",
     "iopub.status.idle": "2022-08-11T14:03:03.080319Z",
     "shell.execute_reply": "2022-08-11T14:03:03.079753Z",
     "shell.execute_reply.started": "2022-08-11T13:45:33.721221Z"
    },
    "papermill": {
     "duration": 0.092368,
     "end_time": "2022-08-11T14:03:03.080469",
     "exception": false,
     "start_time": "2022-08-11T14:03:02.988101",
     "status": "completed"
    },
    "tags": []
   },
   "outputs": [
    {
     "data": {
      "text/html": [
       "<div>\n",
       "<style scoped>\n",
       "    .dataframe tbody tr th:only-of-type {\n",
       "        vertical-align: middle;\n",
       "    }\n",
       "\n",
       "    .dataframe tbody tr th {\n",
       "        vertical-align: top;\n",
       "    }\n",
       "\n",
       "    .dataframe thead tr th {\n",
       "        text-align: left;\n",
       "    }\n",
       "</style>\n",
       "<table border=\"1\" class=\"dataframe\">\n",
       "  <thead>\n",
       "    <tr>\n",
       "      <th></th>\n",
       "      <th colspan=\"21\" halign=\"left\">echonest</th>\n",
       "    </tr>\n",
       "    <tr>\n",
       "      <th></th>\n",
       "      <th>audio_features</th>\n",
       "      <th>audio_features.1</th>\n",
       "      <th>audio_features.2</th>\n",
       "      <th>audio_features.3</th>\n",
       "      <th>audio_features.4</th>\n",
       "      <th>audio_features.5</th>\n",
       "      <th>audio_features.6</th>\n",
       "      <th>audio_features.7</th>\n",
       "      <th>metadata</th>\n",
       "      <th>metadata.1</th>\n",
       "      <th>...</th>\n",
       "      <th>temporal_features.214</th>\n",
       "      <th>temporal_features.215</th>\n",
       "      <th>temporal_features.216</th>\n",
       "      <th>temporal_features.217</th>\n",
       "      <th>temporal_features.218</th>\n",
       "      <th>temporal_features.219</th>\n",
       "      <th>temporal_features.220</th>\n",
       "      <th>temporal_features.221</th>\n",
       "      <th>temporal_features.222</th>\n",
       "      <th>temporal_features.223</th>\n",
       "    </tr>\n",
       "  </thead>\n",
       "  <tbody>\n",
       "    <tr>\n",
       "      <th>NaN</th>\n",
       "      <td>acousticness</td>\n",
       "      <td>danceability</td>\n",
       "      <td>energy</td>\n",
       "      <td>instrumentalness</td>\n",
       "      <td>liveness</td>\n",
       "      <td>speechiness</td>\n",
       "      <td>tempo</td>\n",
       "      <td>valence</td>\n",
       "      <td>album_date</td>\n",
       "      <td>album_name</td>\n",
       "      <td>...</td>\n",
       "      <td>214.000000</td>\n",
       "      <td>215.000000</td>\n",
       "      <td>216.000000</td>\n",
       "      <td>217.000000</td>\n",
       "      <td>218.000000</td>\n",
       "      <td>219.00000</td>\n",
       "      <td>220.00000</td>\n",
       "      <td>221.00000</td>\n",
       "      <td>222.000000</td>\n",
       "      <td>223.000000</td>\n",
       "    </tr>\n",
       "    <tr>\n",
       "      <th>track_id</th>\n",
       "      <td>NaN</td>\n",
       "      <td>NaN</td>\n",
       "      <td>NaN</td>\n",
       "      <td>NaN</td>\n",
       "      <td>NaN</td>\n",
       "      <td>NaN</td>\n",
       "      <td>NaN</td>\n",
       "      <td>NaN</td>\n",
       "      <td>NaN</td>\n",
       "      <td>NaN</td>\n",
       "      <td>...</td>\n",
       "      <td>NaN</td>\n",
       "      <td>NaN</td>\n",
       "      <td>NaN</td>\n",
       "      <td>NaN</td>\n",
       "      <td>NaN</td>\n",
       "      <td>NaN</td>\n",
       "      <td>NaN</td>\n",
       "      <td>NaN</td>\n",
       "      <td>NaN</td>\n",
       "      <td>NaN</td>\n",
       "    </tr>\n",
       "    <tr>\n",
       "      <th>2</th>\n",
       "      <td>0.4166752327</td>\n",
       "      <td>0.6758939853</td>\n",
       "      <td>0.6344762684</td>\n",
       "      <td>0.0106280683</td>\n",
       "      <td>0.1776465712</td>\n",
       "      <td>0.1593100648</td>\n",
       "      <td>165.9220000000</td>\n",
       "      <td>0.5766609880</td>\n",
       "      <td>NaN</td>\n",
       "      <td>NaN</td>\n",
       "      <td>...</td>\n",
       "      <td>-1.992303</td>\n",
       "      <td>6.805694</td>\n",
       "      <td>0.233070</td>\n",
       "      <td>0.192880</td>\n",
       "      <td>0.027455</td>\n",
       "      <td>0.06408</td>\n",
       "      <td>3.67696</td>\n",
       "      <td>3.61288</td>\n",
       "      <td>13.316690</td>\n",
       "      <td>262.929749</td>\n",
       "    </tr>\n",
       "    <tr>\n",
       "      <th>3</th>\n",
       "      <td>0.3744077685</td>\n",
       "      <td>0.5286430621</td>\n",
       "      <td>0.8174611317</td>\n",
       "      <td>0.0018511032</td>\n",
       "      <td>0.1058799438</td>\n",
       "      <td>0.4618181276</td>\n",
       "      <td>126.9570000000</td>\n",
       "      <td>0.2692402421</td>\n",
       "      <td>NaN</td>\n",
       "      <td>NaN</td>\n",
       "      <td>...</td>\n",
       "      <td>-1.582331</td>\n",
       "      <td>8.889308</td>\n",
       "      <td>0.258464</td>\n",
       "      <td>0.220905</td>\n",
       "      <td>0.081368</td>\n",
       "      <td>0.06413</td>\n",
       "      <td>6.08277</td>\n",
       "      <td>6.01864</td>\n",
       "      <td>16.673548</td>\n",
       "      <td>325.581085</td>\n",
       "    </tr>\n",
       "    <tr>\n",
       "      <th>5</th>\n",
       "      <td>0.0435668989</td>\n",
       "      <td>0.7455658702</td>\n",
       "      <td>0.7014699916</td>\n",
       "      <td>0.0006967990</td>\n",
       "      <td>0.3731433124</td>\n",
       "      <td>0.1245953419</td>\n",
       "      <td>100.2600000000</td>\n",
       "      <td>0.6216612236</td>\n",
       "      <td>NaN</td>\n",
       "      <td>NaN</td>\n",
       "      <td>...</td>\n",
       "      <td>-2.288358</td>\n",
       "      <td>11.527109</td>\n",
       "      <td>0.256821</td>\n",
       "      <td>0.237820</td>\n",
       "      <td>0.060122</td>\n",
       "      <td>0.06014</td>\n",
       "      <td>5.92649</td>\n",
       "      <td>5.86635</td>\n",
       "      <td>16.013849</td>\n",
       "      <td>356.755737</td>\n",
       "    </tr>\n",
       "  </tbody>\n",
       "</table>\n",
       "<p>5 rows × 249 columns</p>\n",
       "</div>"
      ],
      "text/plain": [
       "               echonest                                                      \\\n",
       "         audio_features audio_features.1 audio_features.2  audio_features.3   \n",
       "NaN        acousticness     danceability           energy  instrumentalness   \n",
       "track_id            NaN              NaN              NaN               NaN   \n",
       "2          0.4166752327     0.6758939853     0.6344762684      0.0106280683   \n",
       "3          0.3744077685     0.5286430621     0.8174611317      0.0018511032   \n",
       "5          0.0435668989     0.7455658702     0.7014699916      0.0006967990   \n",
       "\n",
       "                                                                              \\\n",
       "         audio_features.4 audio_features.5 audio_features.6 audio_features.7   \n",
       "NaN              liveness      speechiness            tempo          valence   \n",
       "track_id              NaN              NaN              NaN              NaN   \n",
       "2            0.1776465712     0.1593100648   165.9220000000     0.5766609880   \n",
       "3            0.1058799438     0.4618181276   126.9570000000     0.2692402421   \n",
       "5            0.3731433124     0.1245953419   100.2600000000     0.6216612236   \n",
       "\n",
       "                                  ...                        \\\n",
       "            metadata  metadata.1  ... temporal_features.214   \n",
       "NaN       album_date  album_name  ...            214.000000   \n",
       "track_id         NaN         NaN  ...                   NaN   \n",
       "2                NaN         NaN  ...             -1.992303   \n",
       "3                NaN         NaN  ...             -1.582331   \n",
       "5                NaN         NaN  ...             -2.288358   \n",
       "\n",
       "                                                                            \\\n",
       "         temporal_features.215 temporal_features.216 temporal_features.217   \n",
       "NaN                 215.000000            216.000000            217.000000   \n",
       "track_id                   NaN                   NaN                   NaN   \n",
       "2                     6.805694              0.233070              0.192880   \n",
       "3                     8.889308              0.258464              0.220905   \n",
       "5                    11.527109              0.256821              0.237820   \n",
       "\n",
       "                                                                            \\\n",
       "         temporal_features.218 temporal_features.219 temporal_features.220   \n",
       "NaN                 218.000000             219.00000             220.00000   \n",
       "track_id                   NaN                   NaN                   NaN   \n",
       "2                     0.027455               0.06408               3.67696   \n",
       "3                     0.081368               0.06413               6.08277   \n",
       "5                     0.060122               0.06014               5.92649   \n",
       "\n",
       "                                                                            \n",
       "         temporal_features.221 temporal_features.222 temporal_features.223  \n",
       "NaN                  221.00000            222.000000            223.000000  \n",
       "track_id                   NaN                   NaN                   NaN  \n",
       "2                      3.61288             13.316690            262.929749  \n",
       "3                      6.01864             16.673548            325.581085  \n",
       "5                      5.86635             16.013849            356.755737  \n",
       "\n",
       "[5 rows x 249 columns]"
      ]
     },
     "execution_count": 20,
     "metadata": {},
     "output_type": "execute_result"
    }
   ],
   "source": [
    "spotify_data.head()"
   ]
  },
  {
   "cell_type": "code",
   "execution_count": 21,
   "id": "1239bfc6",
   "metadata": {
    "execution": {
     "iopub.execute_input": "2022-08-11T14:03:03.204036Z",
     "iopub.status.busy": "2022-08-11T14:03:03.203394Z",
     "iopub.status.idle": "2022-08-11T14:03:03.209229Z",
     "shell.execute_reply": "2022-08-11T14:03:03.209819Z",
     "shell.execute_reply.started": "2022-08-11T13:45:33.756714Z"
    },
    "papermill": {
     "duration": 0.068934,
     "end_time": "2022-08-11T14:03:03.210007",
     "exception": false,
     "start_time": "2022-08-11T14:03:03.141073",
     "status": "completed"
    },
    "tags": []
   },
   "outputs": [
    {
     "data": {
      "text/plain": [
       "MultiIndex([('echonest',        'audio_features'),\n",
       "            ('echonest',      'audio_features.1'),\n",
       "            ('echonest',      'audio_features.2'),\n",
       "            ('echonest',      'audio_features.3'),\n",
       "            ('echonest',      'audio_features.4'),\n",
       "            ('echonest',      'audio_features.5'),\n",
       "            ('echonest',      'audio_features.6'),\n",
       "            ('echonest',      'audio_features.7'),\n",
       "            ('echonest',              'metadata'),\n",
       "            ('echonest',            'metadata.1'),\n",
       "            ...\n",
       "            ('echonest', 'temporal_features.214'),\n",
       "            ('echonest', 'temporal_features.215'),\n",
       "            ('echonest', 'temporal_features.216'),\n",
       "            ('echonest', 'temporal_features.217'),\n",
       "            ('echonest', 'temporal_features.218'),\n",
       "            ('echonest', 'temporal_features.219'),\n",
       "            ('echonest', 'temporal_features.220'),\n",
       "            ('echonest', 'temporal_features.221'),\n",
       "            ('echonest', 'temporal_features.222'),\n",
       "            ('echonest', 'temporal_features.223')],\n",
       "           length=249)"
      ]
     },
     "execution_count": 21,
     "metadata": {},
     "output_type": "execute_result"
    }
   ],
   "source": [
    "spotify_data.columns"
   ]
  },
  {
   "cell_type": "code",
   "execution_count": 22,
   "id": "8a14af92",
   "metadata": {
    "execution": {
     "iopub.execute_input": "2022-08-11T14:03:03.381047Z",
     "iopub.status.busy": "2022-08-11T14:03:03.380037Z",
     "iopub.status.idle": "2022-08-11T14:03:03.628173Z",
     "shell.execute_reply": "2022-08-11T14:03:03.627472Z",
     "shell.execute_reply.started": "2022-08-11T13:45:33.771390Z"
    },
    "papermill": {
     "duration": 0.357059,
     "end_time": "2022-08-11T14:03:03.628323",
     "exception": false,
     "start_time": "2022-08-11T14:03:03.271264",
     "status": "completed"
    },
    "tags": []
   },
   "outputs": [
    {
     "data": {
      "text/html": [
       "<div>\n",
       "<style scoped>\n",
       "    .dataframe tbody tr th:only-of-type {\n",
       "        vertical-align: middle;\n",
       "    }\n",
       "\n",
       "    .dataframe tbody tr th {\n",
       "        vertical-align: top;\n",
       "    }\n",
       "\n",
       "    .dataframe thead tr th {\n",
       "        text-align: left;\n",
       "    }\n",
       "</style>\n",
       "<table border=\"1\" class=\"dataframe\">\n",
       "  <thead>\n",
       "    <tr>\n",
       "      <th></th>\n",
       "      <th colspan=\"21\" halign=\"left\">echonest</th>\n",
       "    </tr>\n",
       "    <tr>\n",
       "      <th></th>\n",
       "      <th>audio_features</th>\n",
       "      <th>audio_features.1</th>\n",
       "      <th>audio_features.2</th>\n",
       "      <th>audio_features.3</th>\n",
       "      <th>audio_features.4</th>\n",
       "      <th>audio_features.5</th>\n",
       "      <th>audio_features.6</th>\n",
       "      <th>audio_features.7</th>\n",
       "      <th>metadata</th>\n",
       "      <th>metadata.1</th>\n",
       "      <th>...</th>\n",
       "      <th>temporal_features.214</th>\n",
       "      <th>temporal_features.215</th>\n",
       "      <th>temporal_features.216</th>\n",
       "      <th>temporal_features.217</th>\n",
       "      <th>temporal_features.218</th>\n",
       "      <th>temporal_features.219</th>\n",
       "      <th>temporal_features.220</th>\n",
       "      <th>temporal_features.221</th>\n",
       "      <th>temporal_features.222</th>\n",
       "      <th>temporal_features.223</th>\n",
       "    </tr>\n",
       "  </thead>\n",
       "  <tbody>\n",
       "  </tbody>\n",
       "</table>\n",
       "<p>0 rows × 249 columns</p>\n",
       "</div>"
      ],
      "text/plain": [
       "Empty DataFrame\n",
       "Columns: [(echonest, audio_features), (echonest, audio_features.1), (echonest, audio_features.2), (echonest, audio_features.3), (echonest, audio_features.4), (echonest, audio_features.5), (echonest, audio_features.6), (echonest, audio_features.7), (echonest, metadata), (echonest, metadata.1), (echonest, metadata.2), (echonest, metadata.3), (echonest, metadata.4), (echonest, metadata.5), (echonest, metadata.6), (echonest, ranks), (echonest, ranks.1), (echonest, ranks.2), (echonest, ranks.3), (echonest, ranks.4), (echonest, social_features), (echonest, social_features.1), (echonest, social_features.2), (echonest, social_features.3), (echonest, social_features.4), (echonest, temporal_features), (echonest, temporal_features.1), (echonest, temporal_features.2), (echonest, temporal_features.3), (echonest, temporal_features.4), (echonest, temporal_features.5), (echonest, temporal_features.6), (echonest, temporal_features.7), (echonest, temporal_features.8), (echonest, temporal_features.9), (echonest, temporal_features.10), (echonest, temporal_features.11), (echonest, temporal_features.12), (echonest, temporal_features.13), (echonest, temporal_features.14), (echonest, temporal_features.15), (echonest, temporal_features.16), (echonest, temporal_features.17), (echonest, temporal_features.18), (echonest, temporal_features.19), (echonest, temporal_features.20), (echonest, temporal_features.21), (echonest, temporal_features.22), (echonest, temporal_features.23), (echonest, temporal_features.24), (echonest, temporal_features.25), (echonest, temporal_features.26), (echonest, temporal_features.27), (echonest, temporal_features.28), (echonest, temporal_features.29), (echonest, temporal_features.30), (echonest, temporal_features.31), (echonest, temporal_features.32), (echonest, temporal_features.33), (echonest, temporal_features.34), (echonest, temporal_features.35), (echonest, temporal_features.36), (echonest, temporal_features.37), (echonest, temporal_features.38), (echonest, temporal_features.39), (echonest, temporal_features.40), (echonest, temporal_features.41), (echonest, temporal_features.42), (echonest, temporal_features.43), (echonest, temporal_features.44), (echonest, temporal_features.45), (echonest, temporal_features.46), (echonest, temporal_features.47), (echonest, temporal_features.48), (echonest, temporal_features.49), (echonest, temporal_features.50), (echonest, temporal_features.51), (echonest, temporal_features.52), (echonest, temporal_features.53), (echonest, temporal_features.54), (echonest, temporal_features.55), (echonest, temporal_features.56), (echonest, temporal_features.57), (echonest, temporal_features.58), (echonest, temporal_features.59), (echonest, temporal_features.60), (echonest, temporal_features.61), (echonest, temporal_features.62), (echonest, temporal_features.63), (echonest, temporal_features.64), (echonest, temporal_features.65), (echonest, temporal_features.66), (echonest, temporal_features.67), (echonest, temporal_features.68), (echonest, temporal_features.69), (echonest, temporal_features.70), (echonest, temporal_features.71), (echonest, temporal_features.72), (echonest, temporal_features.73), (echonest, temporal_features.74), ...]\n",
       "Index: []\n",
       "\n",
       "[0 rows x 249 columns]"
      ]
     },
     "execution_count": 22,
     "metadata": {},
     "output_type": "execute_result"
    }
   ],
   "source": [
    "spotify_data[spotify_data.duplicated()]  "
   ]
  },
  {
   "cell_type": "code",
   "execution_count": 23,
   "id": "0c9602b8",
   "metadata": {
    "execution": {
     "iopub.execute_input": "2022-08-11T14:03:03.755373Z",
     "iopub.status.busy": "2022-08-11T14:03:03.754236Z",
     "iopub.status.idle": "2022-08-11T14:03:03.780557Z",
     "shell.execute_reply": "2022-08-11T14:03:03.781081Z",
     "shell.execute_reply.started": "2022-08-11T13:45:34.073330Z"
    },
    "papermill": {
     "duration": 0.092131,
     "end_time": "2022-08-11T14:03:03.781264",
     "exception": false,
     "start_time": "2022-08-11T14:03:03.689133",
     "status": "completed"
    },
    "tags": []
   },
   "outputs": [
    {
     "data": {
      "text/plain": [
       "echonest  audio_features           1\n",
       "          audio_features.1         1\n",
       "          audio_features.2         1\n",
       "          audio_features.3         1\n",
       "          audio_features.4         1\n",
       "                                  ..\n",
       "          temporal_features.219    1\n",
       "          temporal_features.220    1\n",
       "          temporal_features.221    1\n",
       "          temporal_features.222    1\n",
       "          temporal_features.223    1\n",
       "Length: 249, dtype: int64"
      ]
     },
     "execution_count": 23,
     "metadata": {},
     "output_type": "execute_result"
    }
   ],
   "source": [
    "spotify_data.isna().sum()"
   ]
  },
  {
   "cell_type": "code",
   "execution_count": 24,
   "id": "b76e9a87",
   "metadata": {
    "execution": {
     "iopub.execute_input": "2022-08-11T14:03:03.907690Z",
     "iopub.status.busy": "2022-08-11T14:03:03.905919Z",
     "iopub.status.idle": "2022-08-11T14:03:04.624827Z",
     "shell.execute_reply": "2022-08-11T14:03:04.625408Z",
     "shell.execute_reply.started": "2022-08-11T13:45:34.106037Z"
    },
    "papermill": {
     "duration": 0.783271,
     "end_time": "2022-08-11T14:03:04.625599",
     "exception": false,
     "start_time": "2022-08-11T14:03:03.842328",
     "status": "completed"
    },
    "tags": []
   },
   "outputs": [
    {
     "data": {
      "text/html": [
       "<div>\n",
       "<style scoped>\n",
       "    .dataframe tbody tr th:only-of-type {\n",
       "        vertical-align: middle;\n",
       "    }\n",
       "\n",
       "    .dataframe tbody tr th {\n",
       "        vertical-align: top;\n",
       "    }\n",
       "\n",
       "    .dataframe thead tr th {\n",
       "        text-align: left;\n",
       "    }\n",
       "</style>\n",
       "<table border=\"1\" class=\"dataframe\">\n",
       "  <thead>\n",
       "    <tr>\n",
       "      <th></th>\n",
       "      <th colspan=\"21\" halign=\"left\">echonest</th>\n",
       "    </tr>\n",
       "    <tr>\n",
       "      <th></th>\n",
       "      <th>temporal_features</th>\n",
       "      <th>temporal_features.1</th>\n",
       "      <th>temporal_features.2</th>\n",
       "      <th>temporal_features.3</th>\n",
       "      <th>temporal_features.4</th>\n",
       "      <th>temporal_features.5</th>\n",
       "      <th>temporal_features.6</th>\n",
       "      <th>temporal_features.7</th>\n",
       "      <th>temporal_features.8</th>\n",
       "      <th>temporal_features.9</th>\n",
       "      <th>...</th>\n",
       "      <th>temporal_features.214</th>\n",
       "      <th>temporal_features.215</th>\n",
       "      <th>temporal_features.216</th>\n",
       "      <th>temporal_features.217</th>\n",
       "      <th>temporal_features.218</th>\n",
       "      <th>temporal_features.219</th>\n",
       "      <th>temporal_features.220</th>\n",
       "      <th>temporal_features.221</th>\n",
       "      <th>temporal_features.222</th>\n",
       "      <th>temporal_features.223</th>\n",
       "    </tr>\n",
       "  </thead>\n",
       "  <tbody>\n",
       "    <tr>\n",
       "      <th>count</th>\n",
       "      <td>13130.000000</td>\n",
       "      <td>13130.000000</td>\n",
       "      <td>13130.000000</td>\n",
       "      <td>13130.000000</td>\n",
       "      <td>13130.000000</td>\n",
       "      <td>13130.000000</td>\n",
       "      <td>13130.000000</td>\n",
       "      <td>13130.000000</td>\n",
       "      <td>13130.000000</td>\n",
       "      <td>13130.000000</td>\n",
       "      <td>...</td>\n",
       "      <td>13130.000000</td>\n",
       "      <td>13130.000000</td>\n",
       "      <td>13130.000000</td>\n",
       "      <td>13130.000000</td>\n",
       "      <td>13130.000000</td>\n",
       "      <td>13130.000000</td>\n",
       "      <td>13130.000000</td>\n",
       "      <td>13130.000000</td>\n",
       "      <td>13130.000000</td>\n",
       "      <td>13130.000000</td>\n",
       "    </tr>\n",
       "    <tr>\n",
       "      <th>mean</th>\n",
       "      <td>0.448322</td>\n",
       "      <td>0.435914</td>\n",
       "      <td>0.365330</td>\n",
       "      <td>0.306272</td>\n",
       "      <td>0.365795</td>\n",
       "      <td>0.326088</td>\n",
       "      <td>0.332840</td>\n",
       "      <td>0.358464</td>\n",
       "      <td>0.322465</td>\n",
       "      <td>0.358935</td>\n",
       "      <td>...</td>\n",
       "      <td>-1.949554</td>\n",
       "      <td>10.761507</td>\n",
       "      <td>0.325411</td>\n",
       "      <td>0.271888</td>\n",
       "      <td>0.180467</td>\n",
       "      <td>0.085200</td>\n",
       "      <td>4.199865</td>\n",
       "      <td>4.131420</td>\n",
       "      <td>7.621761</td>\n",
       "      <td>138.938769</td>\n",
       "    </tr>\n",
       "    <tr>\n",
       "      <th>std</th>\n",
       "      <td>0.164849</td>\n",
       "      <td>0.166499</td>\n",
       "      <td>0.133245</td>\n",
       "      <td>0.121098</td>\n",
       "      <td>0.143048</td>\n",
       "      <td>0.131318</td>\n",
       "      <td>0.133663</td>\n",
       "      <td>0.143493</td>\n",
       "      <td>0.140416</td>\n",
       "      <td>0.154252</td>\n",
       "      <td>...</td>\n",
       "      <td>2.543819</td>\n",
       "      <td>20.131455</td>\n",
       "      <td>1.887558</td>\n",
       "      <td>1.893394</td>\n",
       "      <td>3.968928</td>\n",
       "      <td>1.910658</td>\n",
       "      <td>5.312377</td>\n",
       "      <td>5.315244</td>\n",
       "      <td>6.710747</td>\n",
       "      <td>225.577553</td>\n",
       "    </tr>\n",
       "    <tr>\n",
       "      <th>min</th>\n",
       "      <td>0.000000</td>\n",
       "      <td>0.020016</td>\n",
       "      <td>0.015092</td>\n",
       "      <td>0.014307</td>\n",
       "      <td>0.032791</td>\n",
       "      <td>0.014088</td>\n",
       "      <td>0.011858</td>\n",
       "      <td>0.011821</td>\n",
       "      <td>0.015987</td>\n",
       "      <td>0.006663</td>\n",
       "      <td>...</td>\n",
       "      <td>-17.966162</td>\n",
       "      <td>-1.867880</td>\n",
       "      <td>0.129023</td>\n",
       "      <td>0.098280</td>\n",
       "      <td>0.000518</td>\n",
       "      <td>0.060000</td>\n",
       "      <td>0.322180</td>\n",
       "      <td>0.224580</td>\n",
       "      <td>-3.566834</td>\n",
       "      <td>-1.687834</td>\n",
       "    </tr>\n",
       "    <tr>\n",
       "      <th>25%</th>\n",
       "      <td>0.332281</td>\n",
       "      <td>0.316450</td>\n",
       "      <td>0.275175</td>\n",
       "      <td>0.224439</td>\n",
       "      <td>0.268242</td>\n",
       "      <td>0.238669</td>\n",
       "      <td>0.246158</td>\n",
       "      <td>0.266234</td>\n",
       "      <td>0.235403</td>\n",
       "      <td>0.266043</td>\n",
       "      <td>...</td>\n",
       "      <td>-2.587302</td>\n",
       "      <td>1.229507</td>\n",
       "      <td>0.242371</td>\n",
       "      <td>0.208750</td>\n",
       "      <td>0.021322</td>\n",
       "      <td>0.063080</td>\n",
       "      <td>1.817095</td>\n",
       "      <td>1.749705</td>\n",
       "      <td>2.867106</td>\n",
       "      <td>15.565786</td>\n",
       "    </tr>\n",
       "    <tr>\n",
       "      <th>50%</th>\n",
       "      <td>0.445554</td>\n",
       "      <td>0.432219</td>\n",
       "      <td>0.356016</td>\n",
       "      <td>0.297742</td>\n",
       "      <td>0.352980</td>\n",
       "      <td>0.318933</td>\n",
       "      <td>0.325462</td>\n",
       "      <td>0.349883</td>\n",
       "      <td>0.313062</td>\n",
       "      <td>0.348010</td>\n",
       "      <td>...</td>\n",
       "      <td>-1.565089</td>\n",
       "      <td>4.355798</td>\n",
       "      <td>0.286022</td>\n",
       "      <td>0.242757</td>\n",
       "      <td>0.042150</td>\n",
       "      <td>0.064515</td>\n",
       "      <td>3.094130</td>\n",
       "      <td>3.026375</td>\n",
       "      <td>5.502517</td>\n",
       "      <td>55.896906</td>\n",
       "    </tr>\n",
       "    <tr>\n",
       "      <th>75%</th>\n",
       "      <td>0.560122</td>\n",
       "      <td>0.551590</td>\n",
       "      <td>0.442910</td>\n",
       "      <td>0.376445</td>\n",
       "      <td>0.448602</td>\n",
       "      <td>0.401963</td>\n",
       "      <td>0.408891</td>\n",
       "      <td>0.436423</td>\n",
       "      <td>0.397813</td>\n",
       "      <td>0.437750</td>\n",
       "      <td>...</td>\n",
       "      <td>-0.874871</td>\n",
       "      <td>11.409532</td>\n",
       "      <td>0.339102</td>\n",
       "      <td>0.285309</td>\n",
       "      <td>0.087523</td>\n",
       "      <td>0.070070</td>\n",
       "      <td>5.148138</td>\n",
       "      <td>5.079972</td>\n",
       "      <td>10.598030</td>\n",
       "      <td>175.987614</td>\n",
       "    </tr>\n",
       "    <tr>\n",
       "      <th>max</th>\n",
       "      <td>0.998426</td>\n",
       "      <td>1.000000</td>\n",
       "      <td>2.000000</td>\n",
       "      <td>3.000000</td>\n",
       "      <td>4.000000</td>\n",
       "      <td>5.000000</td>\n",
       "      <td>6.000000</td>\n",
       "      <td>7.000000</td>\n",
       "      <td>8.000000</td>\n",
       "      <td>9.000000</td>\n",
       "      <td>...</td>\n",
       "      <td>214.000000</td>\n",
       "      <td>423.621094</td>\n",
       "      <td>216.000000</td>\n",
       "      <td>217.000000</td>\n",
       "      <td>375.744781</td>\n",
       "      <td>219.000000</td>\n",
       "      <td>226.326767</td>\n",
       "      <td>226.244080</td>\n",
       "      <td>222.000000</td>\n",
       "      <td>4790.696777</td>\n",
       "    </tr>\n",
       "  </tbody>\n",
       "</table>\n",
       "<p>8 rows × 224 columns</p>\n",
       "</div>"
      ],
      "text/plain": [
       "               echonest                                          \\\n",
       "      temporal_features temporal_features.1 temporal_features.2   \n",
       "count      13130.000000        13130.000000        13130.000000   \n",
       "mean           0.448322            0.435914            0.365330   \n",
       "std            0.164849            0.166499            0.133245   \n",
       "min            0.000000            0.020016            0.015092   \n",
       "25%            0.332281            0.316450            0.275175   \n",
       "50%            0.445554            0.432219            0.356016   \n",
       "75%            0.560122            0.551590            0.442910   \n",
       "max            0.998426            1.000000            2.000000   \n",
       "\n",
       "                                                                   \\\n",
       "      temporal_features.3 temporal_features.4 temporal_features.5   \n",
       "count        13130.000000        13130.000000        13130.000000   \n",
       "mean             0.306272            0.365795            0.326088   \n",
       "std              0.121098            0.143048            0.131318   \n",
       "min              0.014307            0.032791            0.014088   \n",
       "25%              0.224439            0.268242            0.238669   \n",
       "50%              0.297742            0.352980            0.318933   \n",
       "75%              0.376445            0.448602            0.401963   \n",
       "max              3.000000            4.000000            5.000000   \n",
       "\n",
       "                                                                   \\\n",
       "      temporal_features.6 temporal_features.7 temporal_features.8   \n",
       "count        13130.000000        13130.000000        13130.000000   \n",
       "mean             0.332840            0.358464            0.322465   \n",
       "std              0.133663            0.143493            0.140416   \n",
       "min              0.011858            0.011821            0.015987   \n",
       "25%              0.246158            0.266234            0.235403   \n",
       "50%              0.325462            0.349883            0.313062   \n",
       "75%              0.408891            0.436423            0.397813   \n",
       "max              6.000000            7.000000            8.000000   \n",
       "\n",
       "                           ...                                              \\\n",
       "      temporal_features.9  ... temporal_features.214 temporal_features.215   \n",
       "count        13130.000000  ...          13130.000000          13130.000000   \n",
       "mean             0.358935  ...             -1.949554             10.761507   \n",
       "std              0.154252  ...              2.543819             20.131455   \n",
       "min              0.006663  ...            -17.966162             -1.867880   \n",
       "25%              0.266043  ...             -2.587302              1.229507   \n",
       "50%              0.348010  ...             -1.565089              4.355798   \n",
       "75%              0.437750  ...             -0.874871             11.409532   \n",
       "max              9.000000  ...            214.000000            423.621094   \n",
       "\n",
       "                                                                         \\\n",
       "      temporal_features.216 temporal_features.217 temporal_features.218   \n",
       "count          13130.000000          13130.000000          13130.000000   \n",
       "mean               0.325411              0.271888              0.180467   \n",
       "std                1.887558              1.893394              3.968928   \n",
       "min                0.129023              0.098280              0.000518   \n",
       "25%                0.242371              0.208750              0.021322   \n",
       "50%                0.286022              0.242757              0.042150   \n",
       "75%                0.339102              0.285309              0.087523   \n",
       "max              216.000000            217.000000            375.744781   \n",
       "\n",
       "                                                                         \\\n",
       "      temporal_features.219 temporal_features.220 temporal_features.221   \n",
       "count          13130.000000          13130.000000          13130.000000   \n",
       "mean               0.085200              4.199865              4.131420   \n",
       "std                1.910658              5.312377              5.315244   \n",
       "min                0.060000              0.322180              0.224580   \n",
       "25%                0.063080              1.817095              1.749705   \n",
       "50%                0.064515              3.094130              3.026375   \n",
       "75%                0.070070              5.148138              5.079972   \n",
       "max              219.000000            226.326767            226.244080   \n",
       "\n",
       "                                                   \n",
       "      temporal_features.222 temporal_features.223  \n",
       "count          13130.000000          13130.000000  \n",
       "mean               7.621761            138.938769  \n",
       "std                6.710747            225.577553  \n",
       "min               -3.566834             -1.687834  \n",
       "25%                2.867106             15.565786  \n",
       "50%                5.502517             55.896906  \n",
       "75%               10.598030            175.987614  \n",
       "max              222.000000           4790.696777  \n",
       "\n",
       "[8 rows x 224 columns]"
      ]
     },
     "execution_count": 24,
     "metadata": {},
     "output_type": "execute_result"
    }
   ],
   "source": [
    "spotify_data.describe()"
   ]
  },
  {
   "cell_type": "markdown",
   "id": "8cc8e758",
   "metadata": {
    "papermill": {
     "duration": 0.06299,
     "end_time": "2022-08-11T14:03:04.753276",
     "exception": false,
     "start_time": "2022-08-11T14:03:04.690286",
     "status": "completed"
    },
    "tags": []
   },
   "source": [
    "#### Observations\n",
    "Tracks File\n",
    "- rows = 106576 \n",
    "- columns = 53 \n",
    "- duplicate rows = 0\n",
    "- multi-indexing: 3 parent indexes (album, artist, track)\n",
    "- basic columns for data analysis = album -> id, date_released, title, date_created (for handling missing values in date_released column)\n",
    "                                 artist -> id, name\n",
    "                                 track -> genre_top, genres_all, title, duration\n",
    "- columns with missing values = date_relased, title, genre_top, genres_all\n",
    "- columns with invalid dtype =  title, date_released, name, genre_top, genres_all\n",
    "\n",
    "Genres File\n",
    "- rows = 163 \n",
    "- columns = 5 \n",
    "- duplicate rows = 0\n",
    "- columns with missing values = None\n",
    "- columns with invalid dtype =  title\n",
    "\n",
    "Echonest File\n",
    "- rows = 13132 \n",
    "- columns = 250 \n",
    "- duplicate rows = 0\n",
    "- multi-indexing = 1 parent index (echonest), 6 sub indexes (audio_features, metadata, ranks, social_features, temporal_features)\n",
    "- basic columns for data analysis: audio_features (acousticness, danceability, energy, instrumentalness, liveness, speechiness, tempo, valence)\n",
    "- columns with missing values = First row index and second row columns\n",
    "- columns with invalid dtype = acousticness, danceability, energy, instrumentalness, liveness, speechiness, tempo, valence\n",
    "\n",
    "Feature Scaling (Standardization) required"
   ]
  },
  {
   "cell_type": "markdown",
   "id": "e4c94824",
   "metadata": {
    "papermill": {
     "duration": 0.06221,
     "end_time": "2022-08-11T14:03:04.880103",
     "exception": false,
     "start_time": "2022-08-11T14:03:04.817893",
     "status": "completed"
    },
    "tags": []
   },
   "source": [
    "### Data Preprocessing"
   ]
  },
  {
   "cell_type": "markdown",
   "id": "1917aef9",
   "metadata": {
    "execution": {
     "iopub.status.busy": "2022-03-25T13:24:57.805111Z",
     "iopub.status.idle": "2022-03-25T13:24:57.805446Z",
     "shell.execute_reply": "2022-03-25T13:24:57.805273Z",
     "shell.execute_reply.started": "2022-03-25T13:24:57.80525Z"
    },
    "papermill": {
     "duration": 0.06165,
     "end_time": "2022-08-11T14:03:05.004209",
     "exception": false,
     "start_time": "2022-08-11T14:03:04.942559",
     "status": "completed"
    },
    "tags": []
   },
   "source": [
    "#### Drop unnecesary columns"
   ]
  },
  {
   "cell_type": "code",
   "execution_count": 25,
   "id": "27c7838c",
   "metadata": {
    "execution": {
     "iopub.execute_input": "2022-08-11T14:03:05.136629Z",
     "iopub.status.busy": "2022-08-11T14:03:05.135386Z",
     "iopub.status.idle": "2022-08-11T14:03:05.148957Z",
     "shell.execute_reply": "2022-08-11T14:03:05.148388Z",
     "shell.execute_reply.started": "2022-08-11T13:45:34.818165Z"
    },
    "papermill": {
     "duration": 0.082601,
     "end_time": "2022-08-11T14:03:05.149128",
     "exception": false,
     "start_time": "2022-08-11T14:03:05.066527",
     "status": "completed"
    },
    "tags": []
   },
   "outputs": [],
   "source": [
    "# tracks.csv\n",
    "tracks = tracks[[('album','date_created'), ('album','date_released'), ('album', 'title'), ('album', 'id'),\n",
    "                 ('artist', 'id'), ('artist', 'name'),  \n",
    "                 ('track', 'genre_top'), ('track', 'genres_all'),('track', 'title'), ('track', 'duration')]]"
   ]
  },
  {
   "cell_type": "code",
   "execution_count": 26,
   "id": "987f4585",
   "metadata": {
    "execution": {
     "iopub.execute_input": "2022-08-11T14:03:05.287627Z",
     "iopub.status.busy": "2022-08-11T14:03:05.284394Z",
     "iopub.status.idle": "2022-08-11T14:03:05.291575Z",
     "shell.execute_reply": "2022-08-11T14:03:05.290959Z",
     "shell.execute_reply.started": "2022-08-11T13:45:34.836228Z"
    },
    "papermill": {
     "duration": 0.079798,
     "end_time": "2022-08-11T14:03:05.291731",
     "exception": false,
     "start_time": "2022-08-11T14:03:05.211933",
     "status": "completed"
    },
    "tags": []
   },
   "outputs": [
    {
     "data": {
      "text/plain": [
       "MultiIndex([('echonest',   'audio_features'),\n",
       "            ('echonest', 'audio_features.1'),\n",
       "            ('echonest', 'audio_features.2'),\n",
       "            ('echonest', 'audio_features.3'),\n",
       "            ('echonest', 'audio_features.4'),\n",
       "            ('echonest', 'audio_features.5'),\n",
       "            ('echonest', 'audio_features.6'),\n",
       "            ('echonest', 'audio_features.7')],\n",
       "           )"
      ]
     },
     "execution_count": 26,
     "metadata": {},
     "output_type": "execute_result"
    }
   ],
   "source": [
    "# echonest.csv\n",
    "spotify_data = spotify_data[[('echonest','audio_features'), ('echonest','audio_features.1'), ('echonest','audio_features.2'), ('echonest','audio_features.3'), ('echonest','audio_features.4'), ('echonest','audio_features.5'), ('echonest','audio_features.6'), ('echonest','audio_features.7')]]\n",
    "spotify_data.columns"
   ]
  },
  {
   "cell_type": "markdown",
   "id": "4d1a3ce5",
   "metadata": {
    "execution": {
     "iopub.status.busy": "2022-03-25T13:24:57.810158Z",
     "iopub.status.idle": "2022-03-25T13:24:57.810792Z",
     "shell.execute_reply": "2022-03-25T13:24:57.81055Z",
     "shell.execute_reply.started": "2022-03-25T13:24:57.810524Z"
    },
    "papermill": {
     "duration": 0.062224,
     "end_time": "2022-08-11T14:03:05.417791",
     "exception": false,
     "start_time": "2022-08-11T14:03:05.355567",
     "status": "completed"
    },
    "tags": []
   },
   "source": [
    "#### Remove multi-indexing & rename columns"
   ]
  },
  {
   "cell_type": "code",
   "execution_count": 27,
   "id": "84cd52de",
   "metadata": {
    "execution": {
     "iopub.execute_input": "2022-08-11T14:03:05.549333Z",
     "iopub.status.busy": "2022-08-11T14:03:05.548600Z",
     "iopub.status.idle": "2022-08-11T14:03:05.551557Z",
     "shell.execute_reply": "2022-08-11T14:03:05.552030Z",
     "shell.execute_reply.started": "2022-08-11T13:45:34.852178Z"
    },
    "papermill": {
     "duration": 0.07242,
     "end_time": "2022-08-11T14:03:05.552205",
     "exception": false,
     "start_time": "2022-08-11T14:03:05.479785",
     "status": "completed"
    },
    "tags": []
   },
   "outputs": [
    {
     "data": {
      "text/plain": [
       "Index(['date_created', 'date_released', 'album', 'album_id', 'artist_id',\n",
       "       'artist', 'genres_top', 'genres_all', 'track', 'duration'],\n",
       "      dtype='object')"
      ]
     },
     "execution_count": 27,
     "metadata": {},
     "output_type": "execute_result"
    }
   ],
   "source": [
    "# tracks.csv\n",
    "tracks.columns = tracks.columns.droplevel()\n",
    "tracks.columns = ['date_created', 'date_released', 'album', 'album_id', 'artist_id', 'artist', 'genres_top', 'genres_all', 'track', 'duration']\n",
    "tracks.columns"
   ]
  },
  {
   "cell_type": "code",
   "execution_count": 28,
   "id": "335df7f7",
   "metadata": {
    "execution": {
     "iopub.execute_input": "2022-08-11T14:03:05.689151Z",
     "iopub.status.busy": "2022-08-11T14:03:05.680718Z",
     "iopub.status.idle": "2022-08-11T14:03:05.706187Z",
     "shell.execute_reply": "2022-08-11T14:03:05.706828Z",
     "shell.execute_reply.started": "2022-08-11T13:45:34.871752Z"
    },
    "papermill": {
     "duration": 0.092121,
     "end_time": "2022-08-11T14:03:05.707034",
     "exception": false,
     "start_time": "2022-08-11T14:03:05.614913",
     "status": "completed"
    },
    "tags": []
   },
   "outputs": [
    {
     "data": {
      "text/html": [
       "<div>\n",
       "<style scoped>\n",
       "    .dataframe tbody tr th:only-of-type {\n",
       "        vertical-align: middle;\n",
       "    }\n",
       "\n",
       "    .dataframe tbody tr th {\n",
       "        vertical-align: top;\n",
       "    }\n",
       "\n",
       "    .dataframe thead th {\n",
       "        text-align: right;\n",
       "    }\n",
       "</style>\n",
       "<table border=\"1\" class=\"dataframe\">\n",
       "  <thead>\n",
       "    <tr style=\"text-align: right;\">\n",
       "      <th></th>\n",
       "      <th>acousticness</th>\n",
       "      <th>danceability</th>\n",
       "      <th>energy</th>\n",
       "      <th>instrumentalness</th>\n",
       "      <th>liveness</th>\n",
       "      <th>speechiness</th>\n",
       "      <th>tempo</th>\n",
       "      <th>valence</th>\n",
       "    </tr>\n",
       "    <tr>\n",
       "      <th>track_id</th>\n",
       "      <th></th>\n",
       "      <th></th>\n",
       "      <th></th>\n",
       "      <th></th>\n",
       "      <th></th>\n",
       "      <th></th>\n",
       "      <th></th>\n",
       "      <th></th>\n",
       "    </tr>\n",
       "  </thead>\n",
       "  <tbody>\n",
       "    <tr>\n",
       "      <th>2</th>\n",
       "      <td>0.4166752327</td>\n",
       "      <td>0.6758939853</td>\n",
       "      <td>0.6344762684</td>\n",
       "      <td>0.0106280683</td>\n",
       "      <td>0.1776465712</td>\n",
       "      <td>0.1593100648</td>\n",
       "      <td>165.9220000000</td>\n",
       "      <td>0.5766609880</td>\n",
       "    </tr>\n",
       "    <tr>\n",
       "      <th>3</th>\n",
       "      <td>0.3744077685</td>\n",
       "      <td>0.5286430621</td>\n",
       "      <td>0.8174611317</td>\n",
       "      <td>0.0018511032</td>\n",
       "      <td>0.1058799438</td>\n",
       "      <td>0.4618181276</td>\n",
       "      <td>126.9570000000</td>\n",
       "      <td>0.2692402421</td>\n",
       "    </tr>\n",
       "    <tr>\n",
       "      <th>5</th>\n",
       "      <td>0.0435668989</td>\n",
       "      <td>0.7455658702</td>\n",
       "      <td>0.7014699916</td>\n",
       "      <td>0.0006967990</td>\n",
       "      <td>0.3731433124</td>\n",
       "      <td>0.1245953419</td>\n",
       "      <td>100.2600000000</td>\n",
       "      <td>0.6216612236</td>\n",
       "    </tr>\n",
       "    <tr>\n",
       "      <th>10</th>\n",
       "      <td>0.9516699648</td>\n",
       "      <td>0.6581786543</td>\n",
       "      <td>0.9245251615</td>\n",
       "      <td>0.9654270154</td>\n",
       "      <td>0.1154738842</td>\n",
       "      <td>0.0329852191</td>\n",
       "      <td>111.5620000000</td>\n",
       "      <td>0.9635898919</td>\n",
       "    </tr>\n",
       "    <tr>\n",
       "      <th>134</th>\n",
       "      <td>0.4522173071</td>\n",
       "      <td>0.5132380502</td>\n",
       "      <td>0.5604099311</td>\n",
       "      <td>0.0194426943</td>\n",
       "      <td>0.0965666940</td>\n",
       "      <td>0.5255193792</td>\n",
       "      <td>114.2900000000</td>\n",
       "      <td>0.8940722715</td>\n",
       "    </tr>\n",
       "  </tbody>\n",
       "</table>\n",
       "</div>"
      ],
      "text/plain": [
       "          acousticness  danceability        energy instrumentalness  \\\n",
       "track_id                                                              \n",
       "2         0.4166752327  0.6758939853  0.6344762684     0.0106280683   \n",
       "3         0.3744077685  0.5286430621  0.8174611317     0.0018511032   \n",
       "5         0.0435668989  0.7455658702  0.7014699916     0.0006967990   \n",
       "10        0.9516699648  0.6581786543  0.9245251615     0.9654270154   \n",
       "134       0.4522173071  0.5132380502  0.5604099311     0.0194426943   \n",
       "\n",
       "              liveness   speechiness           tempo       valence  \n",
       "track_id                                                            \n",
       "2         0.1776465712  0.1593100648  165.9220000000  0.5766609880  \n",
       "3         0.1058799438  0.4618181276  126.9570000000  0.2692402421  \n",
       "5         0.3731433124  0.1245953419  100.2600000000  0.6216612236  \n",
       "10        0.1154738842  0.0329852191  111.5620000000  0.9635898919  \n",
       "134       0.0965666940  0.5255193792  114.2900000000  0.8940722715  "
      ]
     },
     "execution_count": 28,
     "metadata": {},
     "output_type": "execute_result"
    }
   ],
   "source": [
    "# echonest.csv\n",
    "spotify_data.columns = spotify_data.columns.droplevel() \n",
    "spotify_data.rename(columns=spotify_data.iloc[0], inplace=True)\n",
    "spotify_data.drop(spotify_data.index[0], inplace=True)\n",
    "spotify_data.drop(spotify_data.index[0], inplace=True)\n",
    "# spotify_data = spotify_data.rename(index={np.nan: 'track_id'})\n",
    "spotify_data.index.name = 'track_id'\n",
    "spotify_data.head()"
   ]
  },
  {
   "cell_type": "markdown",
   "id": "42a4b127",
   "metadata": {
    "execution": {
     "iopub.status.busy": "2022-03-25T13:24:57.815588Z",
     "iopub.status.idle": "2022-03-25T13:24:57.81619Z",
     "shell.execute_reply": "2022-03-25T13:24:57.815972Z",
     "shell.execute_reply.started": "2022-03-25T13:24:57.815946Z"
    },
    "papermill": {
     "duration": 0.063347,
     "end_time": "2022-08-11T14:03:05.834481",
     "exception": false,
     "start_time": "2022-08-11T14:03:05.771134",
     "status": "completed"
    },
    "tags": []
   },
   "source": [
    "#### Handle missing values"
   ]
  },
  {
   "cell_type": "code",
   "execution_count": 29,
   "id": "53380b0c",
   "metadata": {
    "execution": {
     "iopub.execute_input": "2022-08-11T14:03:05.964703Z",
     "iopub.status.busy": "2022-08-11T14:03:05.964023Z",
     "iopub.status.idle": "2022-08-11T14:05:02.302411Z",
     "shell.execute_reply": "2022-08-11T14:05:02.302955Z",
     "shell.execute_reply.started": "2022-08-11T13:45:34.905657Z"
    },
    "papermill": {
     "duration": 116.40511,
     "end_time": "2022-08-11T14:05:02.303150",
     "exception": false,
     "start_time": "2022-08-11T14:03:05.898040",
     "status": "completed"
    },
    "tags": []
   },
   "outputs": [
    {
     "data": {
      "text/plain": [
       "date_released    0\n",
       "album            0\n",
       "album_id         0\n",
       "artist_id        0\n",
       "artist           0\n",
       "genres_top       0\n",
       "genres_all       0\n",
       "track            0\n",
       "duration         0\n",
       "dtype: int64"
      ]
     },
     "execution_count": 29,
     "metadata": {},
     "output_type": "execute_result"
    }
   ],
   "source": [
    "# tracks.csv\n",
    "\n",
    "# date_released\n",
    "tracks['date_released'].fillna(tracks['date_created'], inplace=True)      # fill missing date_released value with corresponding value from date_created\n",
    "tracks['date_released'].fillna(0, inplace=True)                           # fill remaining missing with 0\n",
    "tracks.drop('date_created', axis=1, inplace=True)                         # remove date_created as date_released missing values has been handled\n",
    "\n",
    "# genres_all\n",
    "#tracks.dropna(subset=['genres_all'])\n",
    "tracks = tracks[tracks['genres_all'] != '[]']              # remove rows that contain [] as genres_all i.e. blank genres_all\n",
    "\n",
    "# genres_top\n",
    "tracks['genres_all'] = [map(int, i.strip('][').split(',')) for i in tracks['genres_all']]       # convert string representation of list into list (convert ids represented as string in genres_all to list of ids)\n",
    "genres_null = tracks.loc[(tracks['genres_top'].isnull()), ['genres_top', 'genres_all']].copy(deep=True)     # rows where genres_all is null, deep copy is made to avoid modifying original dataframe (tracks)\n",
    "genres_top = genres[genres.top_level == genres.genre_id]                            # genres with no parent, i.e. at the top of the genre hierarchy\n",
    "genre_top_dict = dict(zip(genres_top.genre_id, genres_top.title))                   # dictionary of genres (key = genre_id : values = genre title)    \n",
    "for index, row in genres_null.iterrows():                                           # fill null values in genres_top with top genre in genres_all\n",
    "    for genre in row['genres_all']:\n",
    "        if genre in genre_top_dict:\n",
    "            tracks.loc[index, 'genres_top'] = genre_top_dict[genre]\n",
    "            break\n",
    "            \n",
    "# convert genres_all ids to titles\n",
    "genres_all_dict = dict(zip(genres.genre_id, genres.title))\n",
    "tracks['genres_all'] = [[genres_all_dict[j] for j in i] for i in tracks['genres_all']]\n",
    "\n",
    "\n",
    "# title (album, track)\n",
    "tracks['album'].fillna(tracks['artist'] + '-' + [','.join(i) for i in tracks['genres_all']], inplace=True)     # fill missing album title with corresponding value from artist & genres_all\n",
    "tracks['track'].fillna(tracks['artist'] + '-' + tracks['genres_top'], inplace=True)                            # fill missing track title with corresponding value from artist & genres_top\n",
    "\n",
    "tracks.isna().sum()"
   ]
  },
  {
   "cell_type": "markdown",
   "id": "6661c8d0",
   "metadata": {
    "execution": {
     "iopub.status.busy": "2022-03-25T13:24:57.819143Z",
     "iopub.status.idle": "2022-03-25T13:24:57.819754Z",
     "shell.execute_reply": "2022-03-25T13:24:57.819517Z",
     "shell.execute_reply.started": "2022-03-25T13:24:57.819492Z"
    },
    "papermill": {
     "duration": 0.064877,
     "end_time": "2022-08-11T14:05:02.432362",
     "exception": false,
     "start_time": "2022-08-11T14:05:02.367485",
     "status": "completed"
    },
    "tags": []
   },
   "source": [
    "#### Format dtype"
   ]
  },
  {
   "cell_type": "code",
   "execution_count": 30,
   "id": "9b3d7fd3",
   "metadata": {
    "execution": {
     "iopub.execute_input": "2022-08-11T14:05:02.566990Z",
     "iopub.status.busy": "2022-08-11T14:05:02.566255Z",
     "iopub.status.idle": "2022-08-11T14:05:02.638215Z",
     "shell.execute_reply": "2022-08-11T14:05:02.638734Z",
     "shell.execute_reply.started": "2022-08-11T13:47:32.341556Z"
    },
    "papermill": {
     "duration": 0.143025,
     "end_time": "2022-08-11T14:05:02.638922",
     "exception": false,
     "start_time": "2022-08-11T14:05:02.495897",
     "status": "completed"
    },
    "tags": []
   },
   "outputs": [
    {
     "data": {
      "text/plain": [
       "date_released    datetime64[ns]\n",
       "album                    string\n",
       "album_id                  int64\n",
       "artist_id                 int64\n",
       "artist                   string\n",
       "genres_top               string\n",
       "genres_all               object\n",
       "track                    string\n",
       "duration                  int64\n",
       "dtype: object"
      ]
     },
     "execution_count": 30,
     "metadata": {},
     "output_type": "execute_result"
    }
   ],
   "source": [
    "# tracks.csv\n",
    "tracks['date_released'] = pd.to_datetime(tracks['date_released'], format='%Y-%m-%d %H:%M:%S')\n",
    "tracks[['album', 'artist', 'track', 'genres_top']] = tracks[['album', 'artist', 'track', 'genres_top']].astype('string')\n",
    "tracks.dtypes"
   ]
  },
  {
   "cell_type": "code",
   "execution_count": 31,
   "id": "5b0f5c59",
   "metadata": {
    "execution": {
     "iopub.execute_input": "2022-08-11T14:05:02.771251Z",
     "iopub.status.busy": "2022-08-11T14:05:02.770632Z",
     "iopub.status.idle": "2022-08-11T14:05:02.777287Z",
     "shell.execute_reply": "2022-08-11T14:05:02.777805Z",
     "shell.execute_reply.started": "2022-08-11T13:47:32.428704Z"
    },
    "papermill": {
     "duration": 0.074543,
     "end_time": "2022-08-11T14:05:02.778033",
     "exception": false,
     "start_time": "2022-08-11T14:05:02.703490",
     "status": "completed"
    },
    "tags": []
   },
   "outputs": [
    {
     "data": {
      "text/plain": [
       "genre_id      int64\n",
       "#tracks       int64\n",
       "parent        int64\n",
       "title        string\n",
       "top_level     int64\n",
       "dtype: object"
      ]
     },
     "execution_count": 31,
     "metadata": {},
     "output_type": "execute_result"
    }
   ],
   "source": [
    "# genres.csv\n",
    "genres['title'] = genres['title'].astype('string')\n",
    "genres.dtypes"
   ]
  },
  {
   "cell_type": "code",
   "execution_count": 32,
   "id": "2b916257",
   "metadata": {
    "execution": {
     "iopub.execute_input": "2022-08-11T14:05:02.912626Z",
     "iopub.status.busy": "2022-08-11T14:05:02.910893Z",
     "iopub.status.idle": "2022-08-11T14:05:02.935808Z",
     "shell.execute_reply": "2022-08-11T14:05:02.936332Z",
     "shell.execute_reply.started": "2022-08-11T13:47:32.438553Z"
    },
    "papermill": {
     "duration": 0.093034,
     "end_time": "2022-08-11T14:05:02.936520",
     "exception": false,
     "start_time": "2022-08-11T14:05:02.843486",
     "status": "completed"
    },
    "tags": []
   },
   "outputs": [
    {
     "data": {
      "text/plain": [
       "acousticness        float64\n",
       "danceability        float64\n",
       "energy              float64\n",
       "instrumentalness    float64\n",
       "liveness            float64\n",
       "speechiness         float64\n",
       "tempo               float64\n",
       "valence             float64\n",
       "dtype: object"
      ]
     },
     "execution_count": 32,
     "metadata": {},
     "output_type": "execute_result"
    }
   ],
   "source": [
    "# echonest.csv\n",
    "spotify_data = spotify_data.apply(pd.to_numeric)\n",
    "spotify_data.dtypes"
   ]
  },
  {
   "cell_type": "markdown",
   "id": "b1045314",
   "metadata": {
    "papermill": {
     "duration": 0.064353,
     "end_time": "2022-08-11T14:05:03.065136",
     "exception": false,
     "start_time": "2022-08-11T14:05:03.000783",
     "status": "completed"
    },
    "tags": []
   },
   "source": [
    "#### Merge tracks metadata & audio features"
   ]
  },
  {
   "cell_type": "code",
   "execution_count": 33,
   "id": "3a4b3677",
   "metadata": {
    "execution": {
     "iopub.execute_input": "2022-08-11T14:05:03.198119Z",
     "iopub.status.busy": "2022-08-11T14:05:03.197433Z",
     "iopub.status.idle": "2022-08-11T14:05:03.252495Z",
     "shell.execute_reply": "2022-08-11T14:05:03.253000Z",
     "shell.execute_reply.started": "2022-08-11T13:47:32.470887Z"
    },
    "papermill": {
     "duration": 0.123527,
     "end_time": "2022-08-11T14:05:03.253173",
     "exception": false,
     "start_time": "2022-08-11T14:05:03.129646",
     "status": "completed"
    },
    "tags": []
   },
   "outputs": [
    {
     "data": {
      "text/html": [
       "<div>\n",
       "<style scoped>\n",
       "    .dataframe tbody tr th:only-of-type {\n",
       "        vertical-align: middle;\n",
       "    }\n",
       "\n",
       "    .dataframe tbody tr th {\n",
       "        vertical-align: top;\n",
       "    }\n",
       "\n",
       "    .dataframe thead th {\n",
       "        text-align: right;\n",
       "    }\n",
       "</style>\n",
       "<table border=\"1\" class=\"dataframe\">\n",
       "  <thead>\n",
       "    <tr style=\"text-align: right;\">\n",
       "      <th></th>\n",
       "      <th>acousticness</th>\n",
       "      <th>danceability</th>\n",
       "      <th>energy</th>\n",
       "      <th>instrumentalness</th>\n",
       "      <th>liveness</th>\n",
       "      <th>speechiness</th>\n",
       "      <th>tempo</th>\n",
       "      <th>valence</th>\n",
       "      <th>date_released</th>\n",
       "      <th>album</th>\n",
       "      <th>album_id</th>\n",
       "      <th>artist_id</th>\n",
       "      <th>artist</th>\n",
       "      <th>genres_top</th>\n",
       "      <th>genres_all</th>\n",
       "      <th>track</th>\n",
       "      <th>duration</th>\n",
       "    </tr>\n",
       "    <tr>\n",
       "      <th>track_id</th>\n",
       "      <th></th>\n",
       "      <th></th>\n",
       "      <th></th>\n",
       "      <th></th>\n",
       "      <th></th>\n",
       "      <th></th>\n",
       "      <th></th>\n",
       "      <th></th>\n",
       "      <th></th>\n",
       "      <th></th>\n",
       "      <th></th>\n",
       "      <th></th>\n",
       "      <th></th>\n",
       "      <th></th>\n",
       "      <th></th>\n",
       "      <th></th>\n",
       "      <th></th>\n",
       "    </tr>\n",
       "  </thead>\n",
       "  <tbody>\n",
       "    <tr>\n",
       "      <th>16117</th>\n",
       "      <td>0.947477</td>\n",
       "      <td>0.448822</td>\n",
       "      <td>0.120015</td>\n",
       "      <td>0.023712</td>\n",
       "      <td>0.149330</td>\n",
       "      <td>0.583456</td>\n",
       "      <td>78.235</td>\n",
       "      <td>0.626038</td>\n",
       "      <td>2006-02-03</td>\n",
       "      <td>Bollate centro</td>\n",
       "      <td>3694</td>\n",
       "      <td>4433</td>\n",
       "      <td>Bacco Baccanels</td>\n",
       "      <td>International</td>\n",
       "      <td>[Europe, Jazz, Jazz: Vocal, Pop]</td>\n",
       "      <td>Bollate centro</td>\n",
       "      <td>229</td>\n",
       "    </tr>\n",
       "    <tr>\n",
       "      <th>16118</th>\n",
       "      <td>0.894214</td>\n",
       "      <td>0.936791</td>\n",
       "      <td>0.154907</td>\n",
       "      <td>0.304732</td>\n",
       "      <td>0.110080</td>\n",
       "      <td>0.545060</td>\n",
       "      <td>119.994</td>\n",
       "      <td>0.718722</td>\n",
       "      <td>2006-02-03</td>\n",
       "      <td>Bollate centro</td>\n",
       "      <td>3694</td>\n",
       "      <td>4433</td>\n",
       "      <td>Bacco Baccanels</td>\n",
       "      <td>International</td>\n",
       "      <td>[Europe, Jazz, Jazz: Vocal, Pop]</td>\n",
       "      <td>Mi fa</td>\n",
       "      <td>238</td>\n",
       "    </tr>\n",
       "    <tr>\n",
       "      <th>16119</th>\n",
       "      <td>0.990624</td>\n",
       "      <td>0.304892</td>\n",
       "      <td>0.101370</td>\n",
       "      <td>0.708325</td>\n",
       "      <td>0.115681</td>\n",
       "      <td>0.053470</td>\n",
       "      <td>89.416</td>\n",
       "      <td>0.493508</td>\n",
       "      <td>2006-02-03</td>\n",
       "      <td>Bollate centro</td>\n",
       "      <td>3694</td>\n",
       "      <td>4433</td>\n",
       "      <td>Bacco Baccanels</td>\n",
       "      <td>International</td>\n",
       "      <td>[Europe, Jazz, Jazz: Vocal, Pop]</td>\n",
       "      <td>Coma</td>\n",
       "      <td>212</td>\n",
       "    </tr>\n",
       "    <tr>\n",
       "      <th>16120</th>\n",
       "      <td>0.396601</td>\n",
       "      <td>0.502328</td>\n",
       "      <td>0.165570</td>\n",
       "      <td>0.002647</td>\n",
       "      <td>0.114401</td>\n",
       "      <td>0.873165</td>\n",
       "      <td>148.676</td>\n",
       "      <td>0.719476</td>\n",
       "      <td>2006-02-03</td>\n",
       "      <td>Bollate centro</td>\n",
       "      <td>3694</td>\n",
       "      <td>4433</td>\n",
       "      <td>Bacco Baccanels</td>\n",
       "      <td>International</td>\n",
       "      <td>[Europe, Jazz, Jazz: Vocal, Pop]</td>\n",
       "      <td>Capsula spaziale</td>\n",
       "      <td>197</td>\n",
       "    </tr>\n",
       "    <tr>\n",
       "      <th>16121</th>\n",
       "      <td>0.903007</td>\n",
       "      <td>0.485873</td>\n",
       "      <td>0.074910</td>\n",
       "      <td>0.717737</td>\n",
       "      <td>0.080096</td>\n",
       "      <td>0.245856</td>\n",
       "      <td>146.322</td>\n",
       "      <td>0.581774</td>\n",
       "      <td>2006-02-03</td>\n",
       "      <td>Bollate centro</td>\n",
       "      <td>3694</td>\n",
       "      <td>4433</td>\n",
       "      <td>Bacco Baccanels</td>\n",
       "      <td>International</td>\n",
       "      <td>[Europe, Jazz, Jazz: Vocal, Pop]</td>\n",
       "      <td>Confuso</td>\n",
       "      <td>194</td>\n",
       "    </tr>\n",
       "  </tbody>\n",
       "</table>\n",
       "</div>"
      ],
      "text/plain": [
       "          acousticness  danceability    energy  instrumentalness  liveness  \\\n",
       "track_id                                                                     \n",
       "16117         0.947477      0.448822  0.120015          0.023712  0.149330   \n",
       "16118         0.894214      0.936791  0.154907          0.304732  0.110080   \n",
       "16119         0.990624      0.304892  0.101370          0.708325  0.115681   \n",
       "16120         0.396601      0.502328  0.165570          0.002647  0.114401   \n",
       "16121         0.903007      0.485873  0.074910          0.717737  0.080096   \n",
       "\n",
       "          speechiness    tempo   valence date_released           album  \\\n",
       "track_id                                                                 \n",
       "16117        0.583456   78.235  0.626038    2006-02-03  Bollate centro   \n",
       "16118        0.545060  119.994  0.718722    2006-02-03  Bollate centro   \n",
       "16119        0.053470   89.416  0.493508    2006-02-03  Bollate centro   \n",
       "16120        0.873165  148.676  0.719476    2006-02-03  Bollate centro   \n",
       "16121        0.245856  146.322  0.581774    2006-02-03  Bollate centro   \n",
       "\n",
       "          album_id  artist_id           artist     genres_top  \\\n",
       "track_id                                                        \n",
       "16117         3694       4433  Bacco Baccanels  International   \n",
       "16118         3694       4433  Bacco Baccanels  International   \n",
       "16119         3694       4433  Bacco Baccanels  International   \n",
       "16120         3694       4433  Bacco Baccanels  International   \n",
       "16121         3694       4433  Bacco Baccanels  International   \n",
       "\n",
       "                                genres_all             track  duration  \n",
       "track_id                                                                \n",
       "16117     [Europe, Jazz, Jazz: Vocal, Pop]    Bollate centro       229  \n",
       "16118     [Europe, Jazz, Jazz: Vocal, Pop]             Mi fa       238  \n",
       "16119     [Europe, Jazz, Jazz: Vocal, Pop]              Coma       212  \n",
       "16120     [Europe, Jazz, Jazz: Vocal, Pop]  Capsula spaziale       197  \n",
       "16121     [Europe, Jazz, Jazz: Vocal, Pop]           Confuso       194  "
      ]
     },
     "execution_count": 33,
     "metadata": {},
     "output_type": "execute_result"
    }
   ],
   "source": [
    "# dataframe with tracks metadata and audio features\n",
    "\n",
    "tracks = tracks.loc[tracks.index.isin(spotify_data.index.values)]       # remove rows for which we don't have features i.e track_ids not present in echonest.csv\n",
    "spotify_tracks = spotify_data.join(tracks, how='inner')                 # merge tracks and spotify_tracks\n",
    "# spotify_tracks.index = pd.to_numeric(tracks_with_features.index, errors='coerce')\n",
    "# tracks_with_features.sort_index()\n",
    "spotify_tracks.head()"
   ]
  },
  {
   "cell_type": "markdown",
   "id": "4e53bb17",
   "metadata": {
    "papermill": {
     "duration": 0.064728,
     "end_time": "2022-08-11T14:05:03.382907",
     "exception": false,
     "start_time": "2022-08-11T14:05:03.318179",
     "status": "completed"
    },
    "tags": []
   },
   "source": [
    "#### Feature Scaling"
   ]
  },
  {
   "cell_type": "code",
   "execution_count": 34,
   "id": "63a3dfa1",
   "metadata": {
    "execution": {
     "iopub.execute_input": "2022-08-11T14:05:03.517971Z",
     "iopub.status.busy": "2022-08-11T14:05:03.517023Z",
     "iopub.status.idle": "2022-08-11T14:05:03.540294Z",
     "shell.execute_reply": "2022-08-11T14:05:03.540803Z",
     "shell.execute_reply.started": "2022-08-11T13:47:32.532676Z"
    },
    "papermill": {
     "duration": 0.092351,
     "end_time": "2022-08-11T14:05:03.540996",
     "exception": false,
     "start_time": "2022-08-11T14:05:03.448645",
     "status": "completed"
    },
    "tags": []
   },
   "outputs": [
    {
     "data": {
      "text/html": [
       "<div>\n",
       "<style scoped>\n",
       "    .dataframe tbody tr th:only-of-type {\n",
       "        vertical-align: middle;\n",
       "    }\n",
       "\n",
       "    .dataframe tbody tr th {\n",
       "        vertical-align: top;\n",
       "    }\n",
       "\n",
       "    .dataframe thead th {\n",
       "        text-align: right;\n",
       "    }\n",
       "</style>\n",
       "<table border=\"1\" class=\"dataframe\">\n",
       "  <thead>\n",
       "    <tr style=\"text-align: right;\">\n",
       "      <th></th>\n",
       "      <th>acousticness</th>\n",
       "      <th>danceability</th>\n",
       "      <th>energy</th>\n",
       "      <th>instrumentalness</th>\n",
       "      <th>liveness</th>\n",
       "      <th>speechiness</th>\n",
       "      <th>tempo</th>\n",
       "      <th>valence</th>\n",
       "    </tr>\n",
       "    <tr>\n",
       "      <th>track_id</th>\n",
       "      <th></th>\n",
       "      <th></th>\n",
       "      <th></th>\n",
       "      <th></th>\n",
       "      <th></th>\n",
       "      <th></th>\n",
       "      <th></th>\n",
       "      <th></th>\n",
       "    </tr>\n",
       "  </thead>\n",
       "  <tbody>\n",
       "    <tr>\n",
       "      <th>16117</th>\n",
       "      <td>1.214382</td>\n",
       "      <td>-0.288738</td>\n",
       "      <td>-1.560300</td>\n",
       "      <td>-1.630484</td>\n",
       "      <td>-0.244916</td>\n",
       "      <td>3.742548</td>\n",
       "      <td>-1.289333</td>\n",
       "      <td>0.658010</td>\n",
       "    </tr>\n",
       "    <tr>\n",
       "      <th>16118</th>\n",
       "      <td>1.076011</td>\n",
       "      <td>2.287835</td>\n",
       "      <td>-1.433823</td>\n",
       "      <td>-0.869103</td>\n",
       "      <td>-0.497787</td>\n",
       "      <td>3.447874</td>\n",
       "      <td>-0.081401</td>\n",
       "      <td>0.994746</td>\n",
       "    </tr>\n",
       "    <tr>\n",
       "      <th>16119</th>\n",
       "      <td>1.326473</td>\n",
       "      <td>-1.048721</td>\n",
       "      <td>-1.627886</td>\n",
       "      <td>0.224370</td>\n",
       "      <td>-0.461701</td>\n",
       "      <td>-0.324836</td>\n",
       "      <td>-0.965908</td>\n",
       "      <td>0.176510</td>\n",
       "    </tr>\n",
       "    <tr>\n",
       "      <th>16120</th>\n",
       "      <td>-0.216722</td>\n",
       "      <td>-0.006218</td>\n",
       "      <td>-1.395172</td>\n",
       "      <td>-1.687557</td>\n",
       "      <td>-0.469947</td>\n",
       "      <td>5.965922</td>\n",
       "      <td>0.748261</td>\n",
       "      <td>0.997488</td>\n",
       "    </tr>\n",
       "    <tr>\n",
       "      <th>16121</th>\n",
       "      <td>1.098856</td>\n",
       "      <td>-0.093101</td>\n",
       "      <td>-1.723800</td>\n",
       "      <td>0.249871</td>\n",
       "      <td>-0.690958</td>\n",
       "      <td>1.151634</td>\n",
       "      <td>0.680169</td>\n",
       "      <td>0.497194</td>\n",
       "    </tr>\n",
       "    <tr>\n",
       "      <th>...</th>\n",
       "      <td>...</td>\n",
       "      <td>...</td>\n",
       "      <td>...</td>\n",
       "      <td>...</td>\n",
       "      <td>...</td>\n",
       "      <td>...</td>\n",
       "      <td>...</td>\n",
       "      <td>...</td>\n",
       "    </tr>\n",
       "    <tr>\n",
       "      <th>124857</th>\n",
       "      <td>-1.227317</td>\n",
       "      <td>1.514670</td>\n",
       "      <td>0.611960</td>\n",
       "      <td>0.616653</td>\n",
       "      <td>3.436242</td>\n",
       "      <td>-0.101664</td>\n",
       "      <td>0.535827</td>\n",
       "      <td>1.618701</td>\n",
       "    </tr>\n",
       "    <tr>\n",
       "      <th>124862</th>\n",
       "      <td>-1.139235</td>\n",
       "      <td>1.793007</td>\n",
       "      <td>-0.050630</td>\n",
       "      <td>0.649266</td>\n",
       "      <td>2.323196</td>\n",
       "      <td>-0.167273</td>\n",
       "      <td>-0.602623</td>\n",
       "      <td>0.115971</td>\n",
       "    </tr>\n",
       "    <tr>\n",
       "      <th>124863</th>\n",
       "      <td>-1.246718</td>\n",
       "      <td>0.560656</td>\n",
       "      <td>1.249374</td>\n",
       "      <td>0.599069</td>\n",
       "      <td>2.870511</td>\n",
       "      <td>-0.339822</td>\n",
       "      <td>0.207919</td>\n",
       "      <td>0.187987</td>\n",
       "    </tr>\n",
       "    <tr>\n",
       "      <th>124864</th>\n",
       "      <td>-0.396040</td>\n",
       "      <td>0.374475</td>\n",
       "      <td>-0.007745</td>\n",
       "      <td>-0.467754</td>\n",
       "      <td>-0.717811</td>\n",
       "      <td>-0.478951</td>\n",
       "      <td>0.555410</td>\n",
       "      <td>0.451780</td>\n",
       "    </tr>\n",
       "    <tr>\n",
       "      <th>124911</th>\n",
       "      <td>1.334219</td>\n",
       "      <td>-0.022000</td>\n",
       "      <td>-1.811838</td>\n",
       "      <td>0.867438</td>\n",
       "      <td>-0.588719</td>\n",
       "      <td>-0.234897</td>\n",
       "      <td>-0.082240</td>\n",
       "      <td>-0.872951</td>\n",
       "    </tr>\n",
       "  </tbody>\n",
       "</table>\n",
       "<p>9035 rows × 8 columns</p>\n",
       "</div>"
      ],
      "text/plain": [
       "          acousticness  danceability    energy  instrumentalness  liveness  \\\n",
       "track_id                                                                     \n",
       "16117         1.214382     -0.288738 -1.560300         -1.630484 -0.244916   \n",
       "16118         1.076011      2.287835 -1.433823         -0.869103 -0.497787   \n",
       "16119         1.326473     -1.048721 -1.627886          0.224370 -0.461701   \n",
       "16120        -0.216722     -0.006218 -1.395172         -1.687557 -0.469947   \n",
       "16121         1.098856     -0.093101 -1.723800          0.249871 -0.690958   \n",
       "...                ...           ...       ...               ...       ...   \n",
       "124857       -1.227317      1.514670  0.611960          0.616653  3.436242   \n",
       "124862       -1.139235      1.793007 -0.050630          0.649266  2.323196   \n",
       "124863       -1.246718      0.560656  1.249374          0.599069  2.870511   \n",
       "124864       -0.396040      0.374475 -0.007745         -0.467754 -0.717811   \n",
       "124911        1.334219     -0.022000 -1.811838          0.867438 -0.588719   \n",
       "\n",
       "          speechiness     tempo   valence  \n",
       "track_id                                   \n",
       "16117        3.742548 -1.289333  0.658010  \n",
       "16118        3.447874 -0.081401  0.994746  \n",
       "16119       -0.324836 -0.965908  0.176510  \n",
       "16120        5.965922  0.748261  0.997488  \n",
       "16121        1.151634  0.680169  0.497194  \n",
       "...               ...       ...       ...  \n",
       "124857      -0.101664  0.535827  1.618701  \n",
       "124862      -0.167273 -0.602623  0.115971  \n",
       "124863      -0.339822  0.207919  0.187987  \n",
       "124864      -0.478951  0.555410  0.451780  \n",
       "124911      -0.234897 -0.082240 -0.872951  \n",
       "\n",
       "[9035 rows x 8 columns]"
      ]
     },
     "execution_count": 34,
     "metadata": {},
     "output_type": "execute_result"
    }
   ],
   "source": [
    "# standardization\n",
    "audio_features = ['acousticness', 'danceability', 'energy', 'instrumentalness', 'liveness', 'speechiness', 'tempo', 'valence']\n",
    "scaler = StandardScaler()\n",
    "spotify_tracks[audio_features] = scaler.fit_transform(spotify_tracks[audio_features])\n",
    "spotify_tracks[audio_features]"
   ]
  },
  {
   "cell_type": "markdown",
   "id": "5baffb21",
   "metadata": {
    "papermill": {
     "duration": 0.066186,
     "end_time": "2022-08-11T14:05:03.672831",
     "exception": false,
     "start_time": "2022-08-11T14:05:03.606645",
     "status": "completed"
    },
    "tags": []
   },
   "source": [
    "### Data Visualization"
   ]
  },
  {
   "cell_type": "code",
   "execution_count": 35,
   "id": "dec772a7",
   "metadata": {
    "execution": {
     "iopub.execute_input": "2022-08-11T14:05:03.810398Z",
     "iopub.status.busy": "2022-08-11T14:05:03.809686Z",
     "iopub.status.idle": "2022-08-11T14:05:04.967043Z",
     "shell.execute_reply": "2022-08-11T14:05:04.967550Z",
     "shell.execute_reply.started": "2022-08-11T13:47:32.561582Z"
    },
    "papermill": {
     "duration": 1.22917,
     "end_time": "2022-08-11T14:05:04.967742",
     "exception": false,
     "start_time": "2022-08-11T14:05:03.738572",
     "status": "completed"
    },
    "tags": []
   },
   "outputs": [
    {
     "data": {
      "text/plain": [
       "array([[<AxesSubplot:title={'center':'acousticness'}>,\n",
       "        <AxesSubplot:title={'center':'danceability'}>,\n",
       "        <AxesSubplot:title={'center':'energy'}>],\n",
       "       [<AxesSubplot:title={'center':'instrumentalness'}>,\n",
       "        <AxesSubplot:title={'center':'liveness'}>,\n",
       "        <AxesSubplot:title={'center':'speechiness'}>],\n",
       "       [<AxesSubplot:title={'center':'tempo'}>,\n",
       "        <AxesSubplot:title={'center':'valence'}>, <AxesSubplot:>]],\n",
       "      dtype=object)"
      ]
     },
     "execution_count": 35,
     "metadata": {},
     "output_type": "execute_result"
    },
    {
     "data": {
      "image/png": "[encoded data removed]",
      "text/plain": [
       "<Figure size 720x720 with 9 Axes>"
      ]
     },
     "metadata": {
      "needs_background": "light"
     },
     "output_type": "display_data"
    }
   ],
   "source": [
    "# data distribution\n",
    "spotify_tracks[audio_features].hist(figsize=(10,10))"
   ]
  },
  {
   "cell_type": "code",
   "execution_count": 36,
   "id": "cd6918a8",
   "metadata": {
    "execution": {
     "iopub.execute_input": "2022-08-11T14:05:05.112529Z",
     "iopub.status.busy": "2022-08-11T14:05:05.111785Z",
     "iopub.status.idle": "2022-08-11T14:05:05.705508Z",
     "shell.execute_reply": "2022-08-11T14:05:05.706045Z",
     "shell.execute_reply.started": "2022-08-11T13:47:33.790329Z"
    },
    "papermill": {
     "duration": 0.670981,
     "end_time": "2022-08-11T14:05:05.706227",
     "exception": false,
     "start_time": "2022-08-11T14:05:05.035246",
     "status": "completed"
    },
    "tags": []
   },
   "outputs": [
    {
     "data": {
      "image/png": "[encoded data removed]",
      "text/plain": [
       "<Figure size 720x720 with 2 Axes>"
      ]
     },
     "metadata": {
      "needs_background": "light"
     },
     "output_type": "display_data"
    }
   ],
   "source": [
    "# correlation matrix\n",
    "plt.figure(figsize=(10,10))\n",
    "sns.heatmap(spotify_tracks[audio_features].corr(), square=True, annot=True, linewidths=.5, cmap=\"Blues\")\n",
    "plt.title(\"correlation among audio features\")\n",
    "plt.show()"
   ]
  },
  {
   "cell_type": "markdown",
   "id": "d3343960",
   "metadata": {
    "papermill": {
     "duration": 0.070174,
     "end_time": "2022-08-11T14:05:05.846581",
     "exception": false,
     "start_time": "2022-08-11T14:05:05.776407",
     "status": "completed"
    },
    "tags": []
   },
   "source": [
    "### Model Development"
   ]
  },
  {
   "cell_type": "code",
   "execution_count": 37,
   "id": "1d39977b",
   "metadata": {
    "execution": {
     "iopub.execute_input": "2022-08-11T14:05:05.990919Z",
     "iopub.status.busy": "2022-08-11T14:05:05.989971Z",
     "iopub.status.idle": "2022-08-11T14:05:07.513066Z",
     "shell.execute_reply": "2022-08-11T14:05:07.514107Z",
     "shell.execute_reply.started": "2022-08-11T13:47:34.432207Z"
    },
    "papermill": {
     "duration": 1.598077,
     "end_time": "2022-08-11T14:05:07.514312",
     "exception": false,
     "start_time": "2022-08-11T14:05:05.916235",
     "status": "completed"
    },
    "tags": []
   },
   "outputs": [
    {
     "data": {
      "text/plain": [
       "array([1, 1, 3, ..., 2, 4, 3], dtype=int32)"
      ]
     },
     "execution_count": 37,
     "metadata": {},
     "output_type": "execute_result"
    }
   ],
   "source": [
    "# K-Means\n",
    "x = spotify_tracks[audio_features]\n",
    "kmeans = KMeans(n_clusters=5, random_state=42)\n",
    "y_predicted = kmeans.fit_predict(x)\n",
    "y_predicted\n",
    "# labels = kmeans.labels_\n"
   ]
  },
  {
   "cell_type": "code",
   "execution_count": 38,
   "id": "588f164a",
   "metadata": {
    "execution": {
     "iopub.execute_input": "2022-08-11T14:05:07.666582Z",
     "iopub.status.busy": "2022-08-11T14:05:07.665697Z",
     "iopub.status.idle": "2022-08-11T14:05:07.669697Z",
     "shell.execute_reply": "2022-08-11T14:05:07.669087Z",
     "shell.execute_reply.started": "2022-08-11T13:47:35.922031Z"
    },
    "papermill": {
     "duration": 0.083025,
     "end_time": "2022-08-11T14:05:07.669836",
     "exception": false,
     "start_time": "2022-08-11T14:05:07.586811",
     "status": "completed"
    },
    "tags": []
   },
   "outputs": [
    {
     "data": {
      "text/plain": [
       "array([[-0.755472  , -0.53625806,  0.70314201, -0.13122936, -0.12041015,\n",
       "        -0.21004897,  0.42665213, -0.34205525],\n",
       "       [ 0.2683132 ,  0.54526544, -0.17552936, -0.6704076 ,  0.06746033,\n",
       "         3.25963869,  0.01921581,  0.34438416],\n",
       "       [ 0.16287023, -0.44794533, -0.01403263,  0.02511889,  2.88424503,\n",
       "        -0.0728164 , -0.07596762, -0.20603371],\n",
       "       [ 0.9274552 , -0.46049261, -0.95870326,  0.28215176, -0.25407271,\n",
       "        -0.31849852, -0.35328829, -0.62475886],\n",
       "       [-0.27908868,  0.88154143,  0.302966  , -0.01930946, -0.30261241,\n",
       "        -0.14295452, -0.0354404 ,  0.84920403]])"
      ]
     },
     "execution_count": 38,
     "metadata": {},
     "output_type": "execute_result"
    }
   ],
   "source": [
    "# cluster centers\n",
    "kmeans.cluster_centers_"
   ]
  },
  {
   "cell_type": "code",
   "execution_count": 39,
   "id": "009616ac",
   "metadata": {
    "execution": {
     "iopub.execute_input": "2022-08-11T14:05:07.816105Z",
     "iopub.status.busy": "2022-08-11T14:05:07.815157Z",
     "iopub.status.idle": "2022-08-11T14:05:07.837756Z",
     "shell.execute_reply": "2022-08-11T14:05:07.838257Z",
     "shell.execute_reply.started": "2022-08-11T13:47:35.932871Z"
    },
    "papermill": {
     "duration": 0.097165,
     "end_time": "2022-08-11T14:05:07.838425",
     "exception": false,
     "start_time": "2022-08-11T14:05:07.741260",
     "status": "completed"
    },
    "tags": []
   },
   "outputs": [
    {
     "data": {
      "text/html": [
       "<div>\n",
       "<style scoped>\n",
       "    .dataframe tbody tr th:only-of-type {\n",
       "        vertical-align: middle;\n",
       "    }\n",
       "\n",
       "    .dataframe tbody tr th {\n",
       "        vertical-align: top;\n",
       "    }\n",
       "\n",
       "    .dataframe thead th {\n",
       "        text-align: right;\n",
       "    }\n",
       "</style>\n",
       "<table border=\"1\" class=\"dataframe\">\n",
       "  <thead>\n",
       "    <tr style=\"text-align: right;\">\n",
       "      <th></th>\n",
       "      <th>acousticness</th>\n",
       "      <th>danceability</th>\n",
       "      <th>energy</th>\n",
       "      <th>instrumentalness</th>\n",
       "      <th>liveness</th>\n",
       "      <th>speechiness</th>\n",
       "      <th>tempo</th>\n",
       "      <th>valence</th>\n",
       "      <th>date_released</th>\n",
       "      <th>album</th>\n",
       "      <th>album_id</th>\n",
       "      <th>artist_id</th>\n",
       "      <th>artist</th>\n",
       "      <th>genres_top</th>\n",
       "      <th>genres_all</th>\n",
       "      <th>track</th>\n",
       "      <th>duration</th>\n",
       "      <th>cluster</th>\n",
       "    </tr>\n",
       "    <tr>\n",
       "      <th>track_id</th>\n",
       "      <th></th>\n",
       "      <th></th>\n",
       "      <th></th>\n",
       "      <th></th>\n",
       "      <th></th>\n",
       "      <th></th>\n",
       "      <th></th>\n",
       "      <th></th>\n",
       "      <th></th>\n",
       "      <th></th>\n",
       "      <th></th>\n",
       "      <th></th>\n",
       "      <th></th>\n",
       "      <th></th>\n",
       "      <th></th>\n",
       "      <th></th>\n",
       "      <th></th>\n",
       "      <th></th>\n",
       "    </tr>\n",
       "  </thead>\n",
       "  <tbody>\n",
       "    <tr>\n",
       "      <th>16117</th>\n",
       "      <td>1.214382</td>\n",
       "      <td>-0.288738</td>\n",
       "      <td>-1.560300</td>\n",
       "      <td>-1.630484</td>\n",
       "      <td>-0.244916</td>\n",
       "      <td>3.742548</td>\n",
       "      <td>-1.289333</td>\n",
       "      <td>0.658010</td>\n",
       "      <td>2006-02-03</td>\n",
       "      <td>Bollate centro</td>\n",
       "      <td>3694</td>\n",
       "      <td>4433</td>\n",
       "      <td>Bacco Baccanels</td>\n",
       "      <td>International</td>\n",
       "      <td>[Europe, Jazz, Jazz: Vocal, Pop]</td>\n",
       "      <td>Bollate centro</td>\n",
       "      <td>229</td>\n",
       "      <td>1</td>\n",
       "    </tr>\n",
       "    <tr>\n",
       "      <th>16118</th>\n",
       "      <td>1.076011</td>\n",
       "      <td>2.287835</td>\n",
       "      <td>-1.433823</td>\n",
       "      <td>-0.869103</td>\n",
       "      <td>-0.497787</td>\n",
       "      <td>3.447874</td>\n",
       "      <td>-0.081401</td>\n",
       "      <td>0.994746</td>\n",
       "      <td>2006-02-03</td>\n",
       "      <td>Bollate centro</td>\n",
       "      <td>3694</td>\n",
       "      <td>4433</td>\n",
       "      <td>Bacco Baccanels</td>\n",
       "      <td>International</td>\n",
       "      <td>[Europe, Jazz, Jazz: Vocal, Pop]</td>\n",
       "      <td>Mi fa</td>\n",
       "      <td>238</td>\n",
       "      <td>1</td>\n",
       "    </tr>\n",
       "    <tr>\n",
       "      <th>16119</th>\n",
       "      <td>1.326473</td>\n",
       "      <td>-1.048721</td>\n",
       "      <td>-1.627886</td>\n",
       "      <td>0.224370</td>\n",
       "      <td>-0.461701</td>\n",
       "      <td>-0.324836</td>\n",
       "      <td>-0.965908</td>\n",
       "      <td>0.176510</td>\n",
       "      <td>2006-02-03</td>\n",
       "      <td>Bollate centro</td>\n",
       "      <td>3694</td>\n",
       "      <td>4433</td>\n",
       "      <td>Bacco Baccanels</td>\n",
       "      <td>International</td>\n",
       "      <td>[Europe, Jazz, Jazz: Vocal, Pop]</td>\n",
       "      <td>Coma</td>\n",
       "      <td>212</td>\n",
       "      <td>3</td>\n",
       "    </tr>\n",
       "    <tr>\n",
       "      <th>16120</th>\n",
       "      <td>-0.216722</td>\n",
       "      <td>-0.006218</td>\n",
       "      <td>-1.395172</td>\n",
       "      <td>-1.687557</td>\n",
       "      <td>-0.469947</td>\n",
       "      <td>5.965922</td>\n",
       "      <td>0.748261</td>\n",
       "      <td>0.997488</td>\n",
       "      <td>2006-02-03</td>\n",
       "      <td>Bollate centro</td>\n",
       "      <td>3694</td>\n",
       "      <td>4433</td>\n",
       "      <td>Bacco Baccanels</td>\n",
       "      <td>International</td>\n",
       "      <td>[Europe, Jazz, Jazz: Vocal, Pop]</td>\n",
       "      <td>Capsula spaziale</td>\n",
       "      <td>197</td>\n",
       "      <td>1</td>\n",
       "    </tr>\n",
       "    <tr>\n",
       "      <th>16121</th>\n",
       "      <td>1.098856</td>\n",
       "      <td>-0.093101</td>\n",
       "      <td>-1.723800</td>\n",
       "      <td>0.249871</td>\n",
       "      <td>-0.690958</td>\n",
       "      <td>1.151634</td>\n",
       "      <td>0.680169</td>\n",
       "      <td>0.497194</td>\n",
       "      <td>2006-02-03</td>\n",
       "      <td>Bollate centro</td>\n",
       "      <td>3694</td>\n",
       "      <td>4433</td>\n",
       "      <td>Bacco Baccanels</td>\n",
       "      <td>International</td>\n",
       "      <td>[Europe, Jazz, Jazz: Vocal, Pop]</td>\n",
       "      <td>Confuso</td>\n",
       "      <td>194</td>\n",
       "      <td>3</td>\n",
       "    </tr>\n",
       "  </tbody>\n",
       "</table>\n",
       "</div>"
      ],
      "text/plain": [
       "          acousticness  danceability    energy  instrumentalness  liveness  \\\n",
       "track_id                                                                     \n",
       "16117         1.214382     -0.288738 -1.560300         -1.630484 -0.244916   \n",
       "16118         1.076011      2.287835 -1.433823         -0.869103 -0.497787   \n",
       "16119         1.326473     -1.048721 -1.627886          0.224370 -0.461701   \n",
       "16120        -0.216722     -0.006218 -1.395172         -1.687557 -0.469947   \n",
       "16121         1.098856     -0.093101 -1.723800          0.249871 -0.690958   \n",
       "\n",
       "          speechiness     tempo   valence date_released           album  \\\n",
       "track_id                                                                  \n",
       "16117        3.742548 -1.289333  0.658010    2006-02-03  Bollate centro   \n",
       "16118        3.447874 -0.081401  0.994746    2006-02-03  Bollate centro   \n",
       "16119       -0.324836 -0.965908  0.176510    2006-02-03  Bollate centro   \n",
       "16120        5.965922  0.748261  0.997488    2006-02-03  Bollate centro   \n",
       "16121        1.151634  0.680169  0.497194    2006-02-03  Bollate centro   \n",
       "\n",
       "          album_id  artist_id           artist     genres_top  \\\n",
       "track_id                                                        \n",
       "16117         3694       4433  Bacco Baccanels  International   \n",
       "16118         3694       4433  Bacco Baccanels  International   \n",
       "16119         3694       4433  Bacco Baccanels  International   \n",
       "16120         3694       4433  Bacco Baccanels  International   \n",
       "16121         3694       4433  Bacco Baccanels  International   \n",
       "\n",
       "                                genres_all             track  duration  \\\n",
       "track_id                                                                 \n",
       "16117     [Europe, Jazz, Jazz: Vocal, Pop]    Bollate centro       229   \n",
       "16118     [Europe, Jazz, Jazz: Vocal, Pop]             Mi fa       238   \n",
       "16119     [Europe, Jazz, Jazz: Vocal, Pop]              Coma       212   \n",
       "16120     [Europe, Jazz, Jazz: Vocal, Pop]  Capsula spaziale       197   \n",
       "16121     [Europe, Jazz, Jazz: Vocal, Pop]           Confuso       194   \n",
       "\n",
       "          cluster  \n",
       "track_id           \n",
       "16117           1  \n",
       "16118           1  \n",
       "16119           3  \n",
       "16120           1  \n",
       "16121           3  "
      ]
     },
     "execution_count": 39,
     "metadata": {},
     "output_type": "execute_result"
    }
   ],
   "source": [
    "# add cluster column in spotify_tracks\n",
    "spotify_tracks['cluster'] = y_predicted\n",
    "spotify_tracks.head()"
   ]
  },
  {
   "cell_type": "markdown",
   "id": "3c194a75",
   "metadata": {
    "papermill": {
     "duration": 0.071662,
     "end_time": "2022-08-11T14:05:07.981914",
     "exception": false,
     "start_time": "2022-08-11T14:05:07.910252",
     "status": "completed"
    },
    "tags": []
   },
   "source": [
    "### Model Evaluation"
   ]
  },
  {
   "cell_type": "code",
   "execution_count": 40,
   "id": "4046a2cf",
   "metadata": {
    "execution": {
     "iopub.execute_input": "2022-08-11T14:05:08.134146Z",
     "iopub.status.busy": "2022-08-11T14:05:08.133111Z",
     "iopub.status.idle": "2022-08-11T14:06:56.510548Z",
     "shell.execute_reply": "2022-08-11T14:06:56.511144Z",
     "shell.execute_reply.started": "2022-08-11T13:47:35.960963Z"
    },
    "papermill": {
     "duration": 108.457683,
     "end_time": "2022-08-11T14:06:56.511350",
     "exception": false,
     "start_time": "2022-08-11T14:05:08.053667",
     "status": "completed"
    },
    "tags": []
   },
   "outputs": [
    {
     "data": {
      "text/plain": [
       "[<matplotlib.lines.Line2D at 0x7fc13aad0d50>]"
      ]
     },
     "execution_count": 40,
     "metadata": {},
     "output_type": "execute_result"
    },
    {
     "data": {
      "image/png": "[encoded data removed]",
      "text/plain": [
       "<Figure size 432x288 with 1 Axes>"
      ]
     },
     "metadata": {
      "needs_background": "light"
     },
     "output_type": "display_data"
    }
   ],
   "source": [
    "# elbow method\n",
    "sse = []\n",
    "for k in range(1, 15):\n",
    "    kmeans = KMeans(n_clusters=k, random_state=42)\n",
    "    kmeans.fit(x)\n",
    "    sse.append(kmeans.inertia_)\n",
    "plt.xlabel(\"K (number of clusters)\")\n",
    "plt.ylabel(\"SSE (sum of square error)\")\n",
    "plt.title('Elbow Method')\n",
    "plt.plot(range(1, 15), sse, marker=\"*\")"
   ]
  },
  {
   "cell_type": "code",
   "execution_count": 41,
   "id": "67ce9162",
   "metadata": {
    "execution": {
     "iopub.execute_input": "2022-08-11T14:06:56.667268Z",
     "iopub.status.busy": "2022-08-11T14:06:56.666508Z",
     "iopub.status.idle": "2022-08-11T14:08:59.531208Z",
     "shell.execute_reply": "2022-08-11T14:08:59.531799Z",
     "shell.execute_reply.started": "2022-08-11T13:49:26.414480Z"
    },
    "papermill": {
     "duration": 122.947344,
     "end_time": "2022-08-11T14:08:59.532228",
     "exception": false,
     "start_time": "2022-08-11T14:06:56.584884",
     "status": "completed"
    },
    "tags": []
   },
   "outputs": [
    {
     "data": {
      "text/plain": [
       "[<matplotlib.lines.Line2D at 0x7fc13aac4cd0>]"
      ]
     },
     "execution_count": 41,
     "metadata": {},
     "output_type": "execute_result"
    },
    {
     "data": {
      "image/png": "[encoded data removed]",
      "text/plain": [
       "<Figure size 432x288 with 1 Axes>"
      ]
     },
     "metadata": {
      "needs_background": "light"
     },
     "output_type": "display_data"
    }
   ],
   "source": [
    "# silhouette analysis\n",
    "s_scores = []\n",
    "for k in range(2, 15):\n",
    "    kmeans = KMeans(n_clusters=k, random_state=42)\n",
    "    kmeans.fit(x)\n",
    "    s_scores.append(silhouette_score(x, kmeans.labels_))\n",
    "plt.xlabel(\"K (number of clusters)\")\n",
    "plt.title('Silhouette Analysis')\n",
    "plt.plot(range(2, 15), s_scores)"
   ]
  },
  {
   "cell_type": "code",
   "execution_count": 42,
   "id": "45a5e6a6",
   "metadata": {
    "execution": {
     "iopub.execute_input": "2022-08-11T14:08:59.687867Z",
     "iopub.status.busy": "2022-08-11T14:08:59.687180Z",
     "iopub.status.idle": "2022-08-11T14:09:00.624567Z",
     "shell.execute_reply": "2022-08-11T14:09:00.625123Z",
     "shell.execute_reply.started": "2022-08-11T13:51:27.137945Z"
    },
    "papermill": {
     "duration": 1.016957,
     "end_time": "2022-08-11T14:09:00.625307",
     "exception": false,
     "start_time": "2022-08-11T14:08:59.608350",
     "status": "completed"
    },
    "tags": []
   },
   "outputs": [
    {
     "data": {
      "text/plain": [
       "Text(0.5, 1.0, 'Clustering by KMeans (k=5)')"
      ]
     },
     "execution_count": 42,
     "metadata": {},
     "output_type": "execute_result"
    },
    {
     "data": {
      "image/png": "[encoded data removed]",
      "text/plain": [
       "<Figure size 618.375x576 with 1 Axes>"
      ]
     },
     "metadata": {
      "needs_background": "light"
     },
     "output_type": "display_data"
    }
   ],
   "source": [
    "# evaluate visually\n",
    "pca = PCA(n_components=2)            # reduce dimensions\n",
    "x = pca.fit_transform(x)\n",
    "comp_x, comp_y = zip(*x)\n",
    "# pca.components_\n",
    "# pca.explained_variance_\n",
    "# pca.explained_variance_ratio_\n",
    "# pca.singular_values_\n",
    "spotify_tracks['x'] = comp_x\n",
    "spotify_tracks['y'] = comp_y\n",
    "sns.lmplot(data=spotify_tracks, x='x', y='y', hue='cluster', fit_reg=False, height=8, palette='Set2', scatter_kws={'alpha':0.4, 's':30})\n",
    "plt.title(\"Clustering by KMeans (k=5)\")"
   ]
  },
  {
   "cell_type": "markdown",
   "id": "544c2cbc",
   "metadata": {
    "papermill": {
     "duration": 0.083677,
     "end_time": "2022-08-11T14:09:00.793178",
     "exception": false,
     "start_time": "2022-08-11T14:09:00.709501",
     "status": "completed"
    },
    "tags": []
   },
   "source": [
    "There is no clear boundary between cluster 0 and cluster 2, change k to 4 and evaluate "
   ]
  },
  {
   "cell_type": "code",
   "execution_count": 43,
   "id": "389354c5",
   "metadata": {
    "execution": {
     "iopub.execute_input": "2022-08-11T14:09:00.964698Z",
     "iopub.status.busy": "2022-08-11T14:09:00.964002Z",
     "iopub.status.idle": "2022-08-11T14:09:02.353266Z",
     "shell.execute_reply": "2022-08-11T14:09:02.353831Z",
     "shell.execute_reply.started": "2022-08-11T13:51:28.134819Z"
    },
    "papermill": {
     "duration": 1.476524,
     "end_time": "2022-08-11T14:09:02.354082",
     "exception": false,
     "start_time": "2022-08-11T14:09:00.877558",
     "status": "completed"
    },
    "tags": []
   },
   "outputs": [],
   "source": [
    "# K-Means\n",
    "x = spotify_tracks[audio_features]\n",
    "kmeans = KMeans(n_clusters=4, random_state=0)\n",
    "y_predicted = kmeans.fit_predict(x)\n",
    "spotify_tracks['cluster'] = y_predicted"
   ]
  },
  {
   "cell_type": "code",
   "execution_count": 44,
   "id": "76d14f17",
   "metadata": {
    "execution": {
     "iopub.execute_input": "2022-08-11T14:09:02.541331Z",
     "iopub.status.busy": "2022-08-11T14:09:02.539692Z",
     "iopub.status.idle": "2022-08-11T14:09:03.476018Z",
     "shell.execute_reply": "2022-08-11T14:09:03.476557Z",
     "shell.execute_reply.started": "2022-08-11T13:51:29.556493Z"
    },
    "papermill": {
     "duration": 1.036429,
     "end_time": "2022-08-11T14:09:03.476760",
     "exception": false,
     "start_time": "2022-08-11T14:09:02.440331",
     "status": "completed"
    },
    "tags": []
   },
   "outputs": [
    {
     "data": {
      "text/plain": [
       "Text(0.5, 1.0, 'Clustering by KMeans (k=4)')"
      ]
     },
     "execution_count": 44,
     "metadata": {},
     "output_type": "execute_result"
    },
    {
     "data": {
      "image/png": "[encoded data removed]",
      "text/plain": [
       "<Figure size 618.375x576 with 1 Axes>"
      ]
     },
     "metadata": {
      "needs_background": "light"
     },
     "output_type": "display_data"
    }
   ],
   "source": [
    "# evaluate visually\n",
    "pca = PCA(n_components=2)            \n",
    "x = pca.fit_transform(x)\n",
    "comp_x, comp_y = zip(*x)\n",
    "spotify_tracks['x'] = comp_x\n",
    "spotify_tracks['y'] = comp_y\n",
    "sns.lmplot(data=spotify_tracks, x='x', y='y', hue='cluster', fit_reg=False, height=8, palette='Set1', scatter_kws={'alpha':0.4, 's':30})\n",
    "plt.title(\"Clustering by KMeans (k=4)\")"
   ]
  },
  {
   "cell_type": "markdown",
   "id": "807a06fa",
   "metadata": {
    "papermill": {
     "duration": 0.091461,
     "end_time": "2022-08-11T14:09:03.661772",
     "exception": false,
     "start_time": "2022-08-11T14:09:03.570311",
     "status": "completed"
    },
    "tags": []
   },
   "source": [
    "### References\n",
    "- Victor Ramirez, \"Discovering Descriptive Music Genres Using K-Means Clustering,\" 2018. \n",
    "[Online]. Available: https://medium.com/latinxinai/discovering-descriptive-music-genres-using-k-means-clustering-d19bdea5e443\n",
    "\n",
    "- Sejal Dua, \"K-Means Clustering and PCA to categorize music by similar audio features,\" 2020. [Online]. Available: https://towardsdatascience.com/k-means-clustering-and-pca-to-categorize-music-by-similar-audio-features-df09c93e8b64"
   ]
  }
 ],
 "metadata": {
  "kernelspec": {
   "display_name": "Python 3",
   "language": "python",
   "name": "python3"
  },
  "language_info": {
   "codemirror_mode": {
    "name": "ipython",
    "version": 3
   },
   "file_extension": ".py",
   "mimetype": "text/x-python",
   "name": "python",
   "nbconvert_exporter": "python",
   "pygments_lexer": "ipython3",
   "version": "3.7.12"
  },
  "papermill": {
   "default_parameters": {},
   "duration": 384.331819,
   "end_time": "2022-08-11T14:09:04.968041",
   "environment_variables": {},
   "exception": null,
   "input_path": "__notebook__.ipynb",
   "output_path": "__notebook__.ipynb",
   "parameters": {},
   "start_time": "2022-08-11T14:02:40.636222",
   "version": "2.3.3"
  }
 },
 "nbformat": 4,
 "nbformat_minor": 5
}
